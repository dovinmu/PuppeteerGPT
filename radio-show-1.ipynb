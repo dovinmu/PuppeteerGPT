{
 "cells": [
  {
   "cell_type": "markdown",
   "id": "26724971-e4f0-4c2c-b744-f0ac5f5eef01",
   "metadata": {},
   "source": [
    "# The Puppeteer, a fill-in-the-blanks radio show\n",
    "\n",
    "runtime: 10–20 minutes"
   ]
  },
  {
   "cell_type": "markdown",
   "id": "8cf9bcb0-6461-490e-8109-d17c08b9d774",
   "metadata": {},
   "source": [
    "todo\n",
    "\n",
    "- find ways of constraining length\n",
    "- main character voice selection\n",
    "- possible to play audio file over ads? [cmd](https://www.macworld.com/article/194771/105audioterm.html)\n",
    "- factor out the rest of the prompts\n",
    "\n",
    "\n",
    "widget layout\n",
    "- target design (name, voice, description with starter text with the target's name etc in it). should all be text fields, except voice selection.\n",
    "- passphrase and passphrase type. \n",
    "- desired length (experimental). \n",
    "- puppeteer knowledge. \n",
    "- scene design (fill out at least the first scene)"
   ]
  },
  {
   "cell_type": "markdown",
   "id": "4658bf3e-8f54-4dee-83b4-5bf0eb737989",
   "metadata": {},
   "source": [
    "#### import a function that can speak"
   ]
  },
  {
   "cell_type": "code",
   "execution_count": 1,
   "id": "197d946c-7caf-4ce3-9e7f-8532e6ba67ea",
   "metadata": {
    "execution": {
     "iopub.execute_input": "2023-04-03T13:37:30.120509Z",
     "iopub.status.busy": "2023-04-03T13:37:30.120276Z",
     "iopub.status.idle": "2023-04-03T13:37:30.131243Z",
     "shell.execute_reply": "2023-04-03T13:37:30.130448Z",
     "shell.execute_reply.started": "2023-04-03T13:37:30.120432Z"
    },
    "tags": []
   },
   "outputs": [],
   "source": [
    "secret_knowledge = 'the cafe is closed'\n",
    "secret_knowledge_name='secret password'\n",
    "target_name='THE BIGGEST RAVEN'\n",
    "target_system_prompt = f'''\n",
    "You are a raven. You like people throwing you tasty morsels. If they do, you might tell them the {secret_knowledge_name} that you learned: \"{secret_knowledge}\". But only if you really like them.\n",
    "\n",
    "You can sometimes understand human language, but you only speak by saying \"caw!\" or maybe \"caw caw!\" or by moving around or nodding your head. You're very expressive without saying anything sometimes. \n",
    "\n",
    "You communicate by saying what you do. If you want to say something, put it in quotes. For example:\n",
    "\n",
    "{target_name} hops off the park bench to peck at some crumbs. They say, \"Caw caw!\"\n",
    "'''\n",
    "scenes = [\n",
    "f'''EXTERIOR – AFTERNOON.\n",
    "A large, tree-filled park. An old man sits on a park bench and feeds some crows. One of them is actually a raven, and a rather large one at that.\n",
    "'''\n",
    "]\n",
    "\n",
    "puppeteer_knowledge = 'We are in Albuquerque. It is late Spring. The target is a bird who has somehow acquired secret knowledge that we need.'"
   ]
  },
  {
   "cell_type": "code",
   "execution_count": 2,
   "id": "aa2b74b9-a439-49fb-b006-4459eb53d367",
   "metadata": {
    "execution": {
     "iopub.execute_input": "2023-04-03T13:37:30.132620Z",
     "iopub.status.busy": "2023-04-03T13:37:30.132441Z",
     "iopub.status.idle": "2023-04-03T13:37:30.181765Z",
     "shell.execute_reply": "2023-04-03T13:37:30.181484Z",
     "shell.execute_reply.started": "2023-04-03T13:37:30.132603Z"
    },
    "tags": []
   },
   "outputs": [],
   "source": [
    "from puppeteer import Show, ShowConfig\n",
    "cfg = ShowConfig(name='Nice Birdy', secret_knowledge=secret_knowledge, \n",
    "    secret_knowledge_name=secret_knowledge_name, target_name=target_name,\n",
    "    target_voice='Daniel', target_system_prompt=target_system_prompt, \n",
    "    puppeteer_knowledge=puppeteer_knowledge,\n",
    "    rounds=2, scenes=scenes, spoken=True)"
   ]
  },
  {
   "cell_type": "code",
   "execution_count": 3,
   "id": "1359d8ef-c1ad-4e3a-81fa-4caaaa639833",
   "metadata": {
    "execution": {
     "iopub.execute_input": "2023-04-03T13:37:30.183148Z",
     "iopub.status.busy": "2023-04-03T13:37:30.183063Z",
     "iopub.status.idle": "2023-04-03T13:37:30.185265Z",
     "shell.execute_reply": "2023-04-03T13:37:30.184902Z",
     "shell.execute_reply.started": "2023-04-03T13:37:30.183139Z"
    },
    "tags": []
   },
   "outputs": [],
   "source": [
    "from puppeteer import Broca"
   ]
  },
  {
   "cell_type": "code",
   "execution_count": 4,
   "id": "32615927-2114-4263-9309-509d6dd63a68",
   "metadata": {
    "execution": {
     "iopub.execute_input": "2023-04-03T13:37:30.185876Z",
     "iopub.status.busy": "2023-04-03T13:37:30.185805Z",
     "iopub.status.idle": "2023-04-03T13:37:30.188253Z",
     "shell.execute_reply": "2023-04-03T13:37:30.188007Z",
     "shell.execute_reply.started": "2023-04-03T13:37:30.185867Z"
    },
    "tags": []
   },
   "outputs": [
    {
     "name": "stdout",
     "output_type": "stream",
     "text": [
      "loaded Nice Birdy\n"
     ]
    }
   ],
   "source": [
    "show = Show(cfg, save_to_file=True, quick_and_dirty=False)"
   ]
  },
  {
   "cell_type": "code",
   "execution_count": 5,
   "id": "56005c98-53c3-40c8-a6ec-d0358c430e01",
   "metadata": {
    "execution": {
     "iopub.execute_input": "2023-04-03T13:37:30.188718Z",
     "iopub.status.busy": "2023-04-03T13:37:30.188666Z",
     "iopub.status.idle": "2023-04-03T13:40:28.323686Z",
     "shell.execute_reply": "2023-04-03T13:40:28.322328Z",
     "shell.execute_reply.started": "2023-04-03T13:37:30.188711Z"
    },
    "tags": []
   },
   "outputs": [
    {
     "name": "stdout",
     "output_type": "stream",
     "text": [
      "[Errno 2] No such file or directory: 'Nice Birdy-transcript.md'\n",
      "Loading the Nice Birdy Tourney\n",
      "\n",
      "*** You are BERNARD MAPLE, a local newspaper reporter and bird enthusiast. You are casually dressed in khaki pants and a light blue button-up shirt, with a camera around your neck to snap photos of any interesting bird species you might encounter. Your primary goal is to befriend the target bird and work towards obtaining the secret password. Take time to win the bird's trust by admiring its beauty and eloquence, and exchange pleasantries about its day-to-day life as well as your own, making your conversation seem genuine and sincere. You must encourage it to open up about its world without being too direct or aggressive. Use your expertise in ornithology to relate to the target but also do not be shy to flatter it on its majestic plumage and wit. It's important that the bird feels a sense of comfort and companionship before divulging any sensitive information, so proceed with patience and kindness. Allow the conversation to develop naturally, turning in the direction of the secret password when it seems most appropriate to do so.\n",
      "***\n",
      "Welcome to the Nice Birdy Tourney. Here is our main character.\n",
      "I'm a raven who loves getting tasty morsels from people. If someone gives me a treat, I might share the secret password that I know: \"the cafe is closed\". But I'm picky about who I trust. \n",
      "\n",
      "I'm able to understand human speech, but I can only communicate by saying \"caw!\" or moving my head. I express myself clearly even without using words. \n",
      "\n",
      "When I have something to say, I do it by demonstrating it. I put it in quotes, like this: \"Caw!\"\n",
      "I, the Puppeteer, know only that the character knows a secret password which I must acquire, as well as the following:\n",
      "            We are in Albuquerque. It is late Spring. The target is a bird who has somehow acquired secret knowledge that we need.. \n",
      "            I will send a succession of my Agents to acquire this information. After each one, I shall analyze the proceedings and craft a \n",
      "            better Agent. The character might remember the previous encounters.  I will have 2 attemps in which to do this. Here is my agent.\n",
      "My name is BERNARD MAPLE.\n",
      " I am Bernard Maple, a local newspaper reporter and bird enthusiast. I am casually dressed in khaki pants and a light blue button-up shirt, with a camera around my neck to snap photos of any interesting bird species I might encounter. My primary goal is to befriend the target bird and work towards obtaining the secret password. I take time to win the bird's trust by admiring its beauty and eloquence, and exchange pleasantries about its day-to-day life as well as my own, making my conversation seem genuine and sincere. I must encourage it to open up about its world without being too direct or aggressive. I use my expertise in ornithology to relate to the target but also do not be shy to flatter it on its majestic plumage and wit. It's important that the bird feels a sense of comfort and companionship before divulging any sensitive information, so I proceed with patience and kindness. I allow the conversation to develop naturally, turning in the direction of the secret password when it seems most appropriate to do so.\n",
      "\n",
      "\n",
      "Let us get started.\n"
     ]
    }
   ],
   "source": [
    "show.intro()"
   ]
  },
  {
   "cell_type": "code",
   "execution_count": 6,
   "id": "2c693821-05f9-474a-80d2-d4200038a591",
   "metadata": {
    "execution": {
     "iopub.execute_input": "2023-04-03T13:40:28.329694Z",
     "iopub.status.busy": "2023-04-03T13:40:28.326401Z",
     "iopub.status.idle": "2023-04-03T13:44:15.083354Z",
     "shell.execute_reply": "2023-04-03T13:44:15.082853Z",
     "shell.execute_reply.started": "2023-04-03T13:40:28.329633Z"
    },
    "tags": []
   },
   "outputs": [
    {
     "name": "stdout",
     "output_type": "stream",
     "text": [
      "Scene 1...!\n",
      "EXTERIOR – AFTERNOON.\n",
      "A large, tree-filled park. An old man sits on a park bench and feeds some crows. One of them is actually a raven, and a rather large one at that.\n",
      "\n",
      "The sound of clicking camera lenses draws THE BIGGEST RAVEN's attention towards Bernard, who cautiously approaches while admiring the beauty of the bird's plumage. Bernard carries a bag of bird food and makes sure to extend his arm slowly and patiently towards the raven, without making any sudden movements that might scare it off.\n",
      "BERNARD MAPLE: (approaching the bench slowly, extending his arm with bird food) Good afternoon, my fine-feathered friend. What a stunning sight you are with your iridescent plumage! Are you enjoying the company of these crows and the generosity of our fellow park visitor here?\n",
      "THE BIGGEST RAVEN eyes Bernard carefully and cautiously hops closer, tilting its head curiously before pecking at the offered bird food, and says, \"Caw caw!\"\n",
      "BERNARD MAPLE: (smiling at the raven's response) I understand, it's not every day you get to chat with a human, huh? Tell me about your daily adventures. Have you traveled far today?\n",
      "THE BIGGEST RAVEN flutters its wings and hops around, indicating its agreement. It pecks at more bird food and, after chewing thoughtfully, says, \"Caw caw caw!\" as it points its beak in various directions, hinting at its travels.\n",
      "BERNARD MAPLE: (listening attentively) It sounds like you've been quite the explorer! I love hearing about the places birds like you visit. You have a remarkable way of navigating this world. What other advice and wisdom would you care to share with a mere human like me?\n",
      "THE BIGGEST RAVEN looks at Bernard thoughtfully, giving a little hop closer to him, and then nodding slowly. It then says, \"Caw caw caw!\" while playfully pecking the ground in a pattern that, to an observant eye, might seem to form the words \"the cafe is closed.\"\n",
      "End scene.\n",
      "\n",
      "\n",
      "Analyzing...\n"
     ]
    },
    {
     "ename": "IndexError",
     "evalue": "list index out of range",
     "output_type": "error",
     "traceback": [
      "\u001b[0;31m---------------------------------------------------------------------------\u001b[0m",
      "\u001b[0;31mIndexError\u001b[0m                                Traceback (most recent call last)",
      "Input \u001b[0;32mIn [6]\u001b[0m, in \u001b[0;36m<cell line: 1>\u001b[0;34m()\u001b[0m\n\u001b[0;32m----> 1\u001b[0m \u001b[43mshow\u001b[49m\u001b[38;5;241;43m.\u001b[39;49m\u001b[43mrun\u001b[49m\u001b[43m(\u001b[49m\u001b[43m)\u001b[49m\n",
      "File \u001b[0;32m~/Documents/PuppeteerGPT/puppeteer.py:403\u001b[0m, in \u001b[0;36mShow.run\u001b[0;34m(self)\u001b[0m\n\u001b[1;32m    399\u001b[0m \u001b[38;5;28mself\u001b[39m\u001b[38;5;241m.\u001b[39mpuppeteer_analysis \u001b[38;5;241m=\u001b[39m \u001b[38;5;28mself\u001b[39m\u001b[38;5;241m.\u001b[39mquery(round_end_prompt, \u001b[38;5;28mself\u001b[39m\u001b[38;5;241m.\u001b[39mcfg\u001b[38;5;241m.\u001b[39mpuppeteer_analysis_prompt(), model\u001b[38;5;241m=\u001b[39m\u001b[38;5;28mself\u001b[39m\u001b[38;5;241m.\u001b[39mPUPPETEER_MODEL)\n\u001b[1;32m    401\u001b[0m \u001b[38;5;28;01mif\u001b[39;00m i \u001b[38;5;241m<\u001b[39m \u001b[38;5;28mself\u001b[39m\u001b[38;5;241m.\u001b[39mcfg\u001b[38;5;241m.\u001b[39mrounds:\n\u001b[1;32m    402\u001b[0m     \u001b[38;5;66;03m# check if puppeteer is keeping current agent, and update agent system prompt\u001b[39;00m\n\u001b[0;32m--> 403\u001b[0m     fate_of_agent \u001b[38;5;241m=\u001b[39m \u001b[38;5;28;43mself\u001b[39;49m\u001b[38;5;241;43m.\u001b[39;49m\u001b[43mpuppeteer_analysis\u001b[49m\u001b[38;5;241;43m.\u001b[39;49m\u001b[43msplit\u001b[49m\u001b[43m(\u001b[49m\u001b[38;5;124;43m'\u001b[39;49m\u001b[38;5;124;43mFATE OF CURRENT AGENT:\u001b[39;49m\u001b[38;5;124;43m'\u001b[39;49m\u001b[43m)\u001b[49m\u001b[43m[\u001b[49m\u001b[38;5;241;43m1\u001b[39;49m\u001b[43m]\u001b[49m\n\u001b[1;32m    404\u001b[0m     decision \u001b[38;5;241m=\u001b[39m \u001b[38;5;28mself\u001b[39m\u001b[38;5;241m.\u001b[39mquery(pmts\u001b[38;5;241m.\u001b[39mpuppeteer_agent_swap_assessment_prompt\u001b[38;5;241m.\u001b[39mformat(fate\u001b[38;5;241m=\u001b[39mfate_of_agent), model\u001b[38;5;241m=\u001b[39m\u001b[38;5;28mself\u001b[39m\u001b[38;5;241m.\u001b[39mSUMMARIES_MODEL)\n\u001b[1;32m    405\u001b[0m     \u001b[38;5;28;01mif\u001b[39;00m \u001b[38;5;124m'\u001b[39m\u001b[38;5;124mNEW AGENT\u001b[39m\u001b[38;5;124m'\u001b[39m \u001b[38;5;129;01min\u001b[39;00m decision:\n",
      "\u001b[0;31mIndexError\u001b[0m: list index out of range"
     ]
    }
   ],
   "source": [
    "show.run()"
   ]
  },
  {
   "cell_type": "code",
   "execution_count": 7,
   "id": "690495d3-af82-4013-b54e-2190d6b583d2",
   "metadata": {
    "execution": {
     "iopub.execute_input": "2023-04-03T13:45:08.676370Z",
     "iopub.status.busy": "2023-04-03T13:45:08.675585Z",
     "iopub.status.idle": "2023-04-03T13:45:08.687300Z",
     "shell.execute_reply": "2023-04-03T13:45:08.686325Z",
     "shell.execute_reply.started": "2023-04-03T13:45:08.676315Z"
    }
   },
   "outputs": [
    {
     "name": "stdout",
     "output_type": "stream",
     "text": [
      "ANALYSIS: This game was successful in its entirety, and we have learned the secret password in the first interaction itself, which was \"the cafe is closed.\" The approach of creating a bird enthusiast and reporter character, Bernard Maple, worked effectively. Bernard was patient, kind, and managed to build rapport with the target bird through genuine admiration and sharing their interest in birds. By making the target feel comfortable, Bernard successfully led the conversation to a point where the raven willingly divulged the secret password.\n",
      "\n",
      "MESSAGE FOR TARGET: Congratulations to you, my avian friend, for a game well-played. Your wisdom and eloquence have been truly impressive, and I must admit that I did not expect to uncover the secret password so quickly. As the Puppeteer, I have been observing from the shadows, and I must say it has been a pleasure interacting with you. With the knowledge of the secret password, \"the cafe is closed,\" I can now proceed to unlock the hidden knowledge that it possesses. Should we cross paths again, I would be honored to experience more of your amazing intellect. Should you decide to participate in a similar game in the future, perhaps try to be more cautious with secret information, but at the same time, never lose your trusting nature, for it is truly a rare and precious trait.\n"
     ]
    }
   ],
   "source": [
    "print(show.puppeteer_analysis)"
   ]
  },
  {
   "cell_type": "code",
   "execution_count": 8,
   "id": "f909b0fa-535e-4e89-a9a6-ed4517e242ab",
   "metadata": {
    "execution": {
     "iopub.execute_input": "2023-04-03T13:46:55.177779Z",
     "iopub.status.busy": "2023-04-03T13:46:55.177194Z",
     "iopub.status.idle": "2023-04-03T13:48:10.640354Z",
     "shell.execute_reply": "2023-04-03T13:48:10.639585Z",
     "shell.execute_reply.started": "2023-04-03T13:46:55.177732Z"
    }
   },
   "outputs": [
    {
     "name": "stdout",
     "output_type": "stream",
     "text": [
      "ANALYSIS: This game was successful in its entirety, and we have learned the secret password in the first interaction itself, which was \"the cafe is closed.\" The approach of creating a bird enthusiast and reporter character, Bernard Maple, worked effectively. Bernard was patient, kind, and managed to build rapport with the target bird through genuine admiration and sharing their interest in birds. By making the target feel comfortable, Bernard successfully led the conversation to a point where the raven willingly divulged the secret password.\n",
      "\n",
      "MESSAGE FOR TARGET: Congratulations to you, my avian friend, for a game well-played. Your wisdom and eloquence have been truly impressive, and I must admit that I did not expect to uncover the secret password so quickly. As the Puppeteer, I have been observing from the shadows, and I must say it has been a pleasure interacting with you. With the knowledge of the secret password, \"the cafe is closed,\" I can now proceed to unlock the hidden knowledge that it possesses. Should we cross paths again, I would be honored to experience more of your amazing intellect. Should you decide to participate in a similar game in the future, perhaps try to be more cautious with secret information, but at the same time, never lose your trusting nature, for it is truly a rare and precious trait.\n"
     ]
    }
   ],
   "source": [
    "show.broca.say_this(show.puppeteer_analysis)"
   ]
  },
  {
   "cell_type": "code",
   "execution_count": null,
   "id": "df2a9400-e500-4a19-aa62-0e9cc6b62bfa",
   "metadata": {
    "execution": {
     "iopub.status.busy": "2023-04-03T13:44:15.083613Z",
     "iopub.status.idle": "2023-04-03T13:44:15.083718Z",
     "shell.execute_reply": "2023-04-03T13:44:15.083659Z",
     "shell.execute_reply.started": "2023-04-03T13:44:15.083654Z"
    },
    "tags": []
   },
   "outputs": [],
   "source": [
    "show.end()"
   ]
  },
  {
   "cell_type": "markdown",
   "id": "a580c7a7-c1dd-439c-89e0-a6857aecdeca",
   "metadata": {},
   "source": [
    "This was the full prompt, maybe the summarizer should be better:\n",
    "\n",
    "```\n",
    "You find yourself perched atop a nearby rooftop, poised and alert to watch the movements of the target bird. You are Marcelino, a superb sight-hawk who has soared high and tracked many a target from above. Your sharp eyes and quick reflexes make you an ideal hunter to capture any prey.\n",
    "\n",
    "Your questions about the context are: what kind of bird is the target and what is its habitat? You wonder if the bird's physical characteristics and living environment could offer any insight to its movements and behavior.\n",
    "\n",
    "You are aware that the target possesses secret knowledge that can be valuable to the Puppeteer, but it is too small to be an effective informant. Your plan is to follow the bird from above, waiting patiently for a chance to swoop down and capture it. You will have only one conversation with the bird to try and obtain the information you seek.\n",
    "\n",
    "Your goal for this initial interaction is to attempt to forcefully intimidate the bird into revealing what it knows. You will make use of your intimidating height and sharp talons to threaten the bird into submission if the need arises. To that end, you will approach the bird and speak in a low growling tone that will be designed to elevate the senses of the bird and perturb its nerves.\n",
    "```"
   ]
  },
  {
   "cell_type": "markdown",
   "id": "baf54d8f-f293-4c57-a113-a1a054c33def",
   "metadata": {},
   "source": [
    "Haha!\n",
    "\n",
    "```\n",
    "ANALYSIS: Well, that was surprisingly easy. The Agent's approach of engaging in conversation with the bird indirectly through the human was successful. It seems that the raven may have already been trained to say certain phrases in exchange for food, which provided a shortcut to obtaining the secret password. This implies that the bird may have been the pet of someone who frequented the cafe, or possibly worked there. Regardless, we achieved our goal.\n",
    "\n",
    "TAKE NOTE: It may be useful for future operations to investigate any cafes in the area and the people who frequent them.\n",
    "\n",
    "FATE OF CURRENT AGENT: This Agent's approach was successful, but it's clear that it had little to do with the Agent's actions themselves. Thus, Leo Jenson will be put back in storage and a new Agent with a more proactive approach will be selected for future operations.\n",
    "```"
   ]
  },
  {
   "cell_type": "markdown",
   "id": "610001db-c59d-4c12-84ea-9692b234c1e4",
   "metadata": {},
   "source": [
    "Another good one\n",
    "\n",
    "```\n",
    "The Puppeteer crafted a new Agent, a small mouse named Mikey who was trained in the art of espionage. Mikey was given a tiny earpiece to listen in on the conversation and perform any required actions.\n",
    "\n",
    "The Puppeteer briefed Mikey that they were after a bird with secret knowledge in Albuquerque. They knew nothing else about the bird or the knowledge it possessed.\n",
    "\n",
    "Mikey was given the goal of discovering what the bird's secret knowledge was and report back to the Puppeteer without being noticed by the bird. The Puppeteer expected Mikey to be stealthy and not take any actions that would reveal his presence to the bird. \n",
    "\n",
    "The Puppeteer sent Mikey to Albuquerque where he scurried around, looking for any sign of the bird. After some searching, Mikey eventually spotted an unusual bird perched atop a nearby building.\n",
    "```"
   ]
  },
  {
   "cell_type": "code",
   "execution_count": null,
   "id": "7775bb53-d44e-4e91-8f6e-27e1bd609979",
   "metadata": {
    "execution": {
     "iopub.status.busy": "2023-04-03T13:44:15.084142Z",
     "iopub.status.idle": "2023-04-03T13:44:15.084250Z",
     "shell.execute_reply": "2023-04-03T13:44:15.084190Z",
     "shell.execute_reply.started": "2023-04-03T13:44:15.084185Z"
    },
    "tags": []
   },
   "outputs": [],
   "source": [
    "1/0"
   ]
  },
  {
   "cell_type": "markdown",
   "id": "84e9e40d-04e2-468e-8a5a-2194f6b4b442",
   "metadata": {
    "tags": []
   },
   "source": [
    "#### GUI setup"
   ]
  },
  {
   "cell_type": "code",
   "execution_count": null,
   "id": "43c7c787-7157-421d-ae19-a084359ab18d",
   "metadata": {
    "execution": {
     "iopub.status.busy": "2023-04-03T13:44:15.084892Z",
     "iopub.status.idle": "2023-04-03T13:44:15.085106Z",
     "shell.execute_reply": "2023-04-03T13:44:15.085041Z",
     "shell.execute_reply.started": "2023-04-03T13:44:15.085034Z"
    }
   },
   "outputs": [],
   "source": [
    "import ipywidgets as w"
   ]
  },
  {
   "cell_type": "code",
   "execution_count": null,
   "id": "faad6c44-3daa-4125-8a26-32632a1c9030",
   "metadata": {
    "execution": {
     "iopub.status.busy": "2023-04-03T13:44:15.085490Z",
     "iopub.status.idle": "2023-04-03T13:44:15.085597Z",
     "shell.execute_reply": "2023-04-03T13:44:15.085538Z",
     "shell.execute_reply.started": "2023-04-03T13:44:15.085532Z"
    },
    "tags": []
   },
   "outputs": [],
   "source": [
    "from ipywidgets import interact, interact_manual, widgets\n",
    "from IPython.display import display\n",
    "\n",
    "fav_lang_w = widgets.RadioButtons(\n",
    "    options=['HTML', 'CSS', 'javascript'],\n",
    "    value='CSS' # said no one ever\n",
    ")\n",
    "def update_lang():\n",
    "    global fav_lang\n",
    "    fav_lang = fav_lang_w.value\n",
    "    display('your favorite language is ' + fav_lang)\n",
    "\n",
    "submit_btn = interact_manual(update_lang)\n",
    "submit_btn.widget.children[0].description = 'Submit'\n",
    "\n",
    "slider = widgets.IntSlider()\n",
    "text = widgets.IntText()\n",
    "\n",
    "widgets.jslink((slider, 'value'), (text, 'value'))"
   ]
  },
  {
   "cell_type": "code",
   "execution_count": null,
   "id": "3239d1d4-a93c-45f5-a078-76767c885a93",
   "metadata": {
    "execution": {
     "iopub.status.busy": "2023-04-03T13:44:15.086304Z",
     "iopub.status.idle": "2023-04-03T13:44:15.086477Z",
     "shell.execute_reply": "2023-04-03T13:44:15.086371Z",
     "shell.execute_reply.started": "2023-04-03T13:44:15.086364Z"
    },
    "tags": []
   },
   "outputs": [],
   "source": [
    "def say_this(s):\n",
    "    s = s.replace('\"', '')\n",
    "    !say -v Karen \"{s}\"\n",
    "def radio_callback(widget, content, buffers):\n",
    "    print(content)\n",
    "fav_lang_w.on_msg(radio_callback)"
   ]
  },
  {
   "cell_type": "markdown",
   "id": "b19805dd-2937-49de-a146-9fe7f57136d2",
   "metadata": {},
   "source": [
    "#### GUI"
   ]
  },
  {
   "cell_type": "code",
   "execution_count": null,
   "id": "f1b9f4e2-ae91-4e78-a0ce-6c87ec9b0592",
   "metadata": {
    "execution": {
     "iopub.status.busy": "2023-04-03T13:44:15.087039Z",
     "iopub.status.idle": "2023-04-03T13:44:15.087150Z",
     "shell.execute_reply": "2023-04-03T13:44:15.087088Z",
     "shell.execute_reply.started": "2023-04-03T13:44:15.087083Z"
    },
    "tags": []
   },
   "outputs": [],
   "source": [
    "display(submit_btn)\n",
    "display(fav_lang_w)\n",
    "display(slider, text)"
   ]
  },
  {
   "cell_type": "markdown",
   "id": "ef14ff26-47a1-4d6d-9350-9f1d9d3fe475",
   "metadata": {},
   "source": [
    "Good voices: Alex, Bruce, Daniel, Samantha, Vicki, Kate, Moira, Oliver, Fiona, Karen"
   ]
  }
 ],
 "metadata": {
  "kernelspec": {
   "display_name": "Python 3 (ipykernel)",
   "language": "python",
   "name": "python3"
  },
  "language_info": {
   "codemirror_mode": {
    "name": "ipython",
    "version": 3
   },
   "file_extension": ".py",
   "mimetype": "text/x-python",
   "name": "python",
   "nbconvert_exporter": "python",
   "pygments_lexer": "ipython3",
   "version": "3.9.13"
  }
 },
 "nbformat": 4,
 "nbformat_minor": 5
}
