{
 "cells": [
  {
   "cell_type": "markdown",
   "id": "26724971-e4f0-4c2c-b744-f0ac5f5eef01",
   "metadata": {},
   "source": [
    "# The Puppeteer, a fill-in-the-blanks radio show\n",
    "\n",
    "runtime: 10–20 minutes"
   ]
  },
  {
   "cell_type": "markdown",
   "id": "8cf9bcb0-6461-490e-8109-d17c08b9d774",
   "metadata": {},
   "source": [
    "todo\n",
    "\n",
    "- find ways of constraining length (just use rounds)\n",
    "- main character voice selection\n",
    "- possible to play audio file over ads? [cmd](https://www.macworld.com/article/194771/105audioterm.html)\n",
    "- factor out the rest of the prompts\n",
    "\n",
    "widget layout\n",
    "- target design (name, voice, description with starter text with the target's name etc in it). should all be text fields, except voice selection.\n",
    "- passphrase and passphrase type. \n",
    "- desired length (experimental). \n",
    "- puppeteer knowledge. \n",
    "- scene design (fill out at least the first scene)"
   ]
  },
  {
   "cell_type": "markdown",
   "id": "c1f25d50-9115-4398-944f-1a450abe5a91",
   "metadata": {
    "tags": []
   },
   "source": [
    "#### set up the grid"
   ]
  },
  {
   "cell_type": "code",
   "execution_count": 1,
   "id": "6da6e4ae-5f69-4d53-a669-5cc4d4e8c5b4",
   "metadata": {
    "execution": {
     "iopub.execute_input": "2023-04-03T20:23:39.271711Z",
     "iopub.status.busy": "2023-04-03T20:23:39.271420Z",
     "iopub.status.idle": "2023-04-03T20:23:39.332666Z",
     "shell.execute_reply": "2023-04-03T20:23:39.332373Z",
     "shell.execute_reply.started": "2023-04-03T20:23:39.271620Z"
    },
    "tags": []
   },
   "outputs": [],
   "source": [
    "import os\n",
    "from puppeteer import Show, ShowConfig, Broca\n",
    "import pickle\n",
    "import random\n",
    "\n",
    "broca = Broca('interface', save_to_file=False)\n",
    "broca.init_voices()\n",
    "\n",
    "scenarios = ['']\n",
    "for fname in os.listdir('scenarios'):\n",
    "    if '.pickle' in fname:\n",
    "        scenarios.append(fname.replace('.pickle', ''))\n",
    "        \n",
    "voices = [a['name'] for a in Broca.STOCK_AGENTS]"
   ]
  },
  {
   "cell_type": "code",
   "execution_count": 2,
   "id": "4c4c3c1c-ae88-4add-9834-f6f8cb25e35c",
   "metadata": {
    "execution": {
     "iopub.execute_input": "2023-04-03T20:23:39.333273Z",
     "iopub.status.busy": "2023-04-03T20:23:39.333184Z",
     "iopub.status.idle": "2023-04-03T20:23:39.393042Z",
     "shell.execute_reply": "2023-04-03T20:23:39.392436Z",
     "shell.execute_reply.started": "2023-04-03T20:23:39.333261Z"
    },
    "tags": []
   },
   "outputs": [],
   "source": [
    "from ipywidgets import Button, GridBox, Layout, ButtonStyle, interact, interact_manual, widgets\n",
    "textarea_layout = widgets.Layout(width='500px')\n",
    "text_layout = widgets.Layout(width='300px', description_width='150px')\n",
    "textarea_rows = 12\n",
    "\n",
    "show_name_w = widgets.Text(placeholder='Ali Baba', description='Name:', disabled=False)\n",
    "secret_knowledge_w = widgets.Text(placeholder='\"open sesame\"', description='info:', disabled=False)\n",
    "secret_knowledge_name_w = widgets.Text(placeholder='magical phrase', description='info name:')\n",
    "use_gpt4_w = widgets.Checkbox(value=False, description='use gpt-4', disabled=True)\n",
    "\n",
    "target_name_w = widgets.Text(placeholder=\"Ali Baba\", description='name:', disabled=False)\n",
    "\n",
    "# drop-down menus\n",
    "target_voice_w = widgets.Dropdown(options=voices, value=random.choice(voices), description='Ch voice', disabled=False)\n",
    "load_selector_w = widgets.Dropdown(options=scenarios, value='', description='', disabled=False)\n",
    "rating_w = widgets.Dropdown(options=['G', 'PG', 'PG-13', 'R'], value='PG-13', description='Rating', disabled=True)\n",
    "\n",
    "# radio buttons?\n",
    "scenes_w = widgets.Text(placeholder='2 (2 scenes ~= 12 minutes)', description='Scenes:', disabled=False)\n",
    "\n",
    "# prior info for main characters\n",
    "target_system_prompt_w = widgets.Textarea(rows=textarea_rows, layout=textarea_layout, description='Ch prompt', disabled=False,\n",
    "    placeholder='''Instructions to the main character about who they are. Example:\n",
    "\n",
    "You are a poor woodcutter and an honest person who discovers the secret of a thieves' den, the magic phrase \"open sesame\".\n",
    "\n",
    "The instructions should include the info and the name of the info. And narratively, it's good to make it clear the character shouldn't divulge the info without making it impossible either. Make the character want something.\n",
    "''',)\n",
    "puppeteer_knowledge_w = widgets.Textarea(rows=textarea_rows, layout=textarea_layout, placeholder='''What the puppeteer knows. Example: \n",
    "\n",
    "Our target is a poor woodcutter in the Islamic Golden Age.''', description='Dossier:', disabled=False)\n",
    "\n",
    "# scenes\n",
    "scene_1_w = widgets.Textarea(rows=textarea_rows, layout=textarea_layout, description='Scene 1:', disabled=False, placeholder='''The beginning of scene 1. Example:\n",
    "\n",
    "INTERIOR – MORNING.\n",
    "Ali Baba sits in his small wood-carving studio, thinking about the magical phrase he overheard when he was cutting firewood in the forest, and saw the group of 40 thieves visiting their stored treasure.\n",
    "''')\n",
    "scene_2_w = widgets.Textarea(rows=textarea_rows, layout=textarea_layout, description='Scene 2:', disabled=False, placeholder='''The beginning of scene 2. Can be blank.\n",
    "''')\n",
    "scene_3_w = widgets.Textarea(rows=textarea_rows, layout=textarea_layout, description='Scene 3:', disabled=False, placeholder='''The beginning of scene 3. Can be blank.\n",
    "''')"
   ]
  },
  {
   "cell_type": "code",
   "execution_count": 3,
   "id": "823f2f1d-7418-4473-97b8-4c17800713bb",
   "metadata": {
    "execution": {
     "iopub.execute_input": "2023-04-03T20:23:39.394346Z",
     "iopub.status.busy": "2023-04-03T20:23:39.394280Z",
     "iopub.status.idle": "2023-04-03T20:23:39.410028Z",
     "shell.execute_reply": "2023-04-03T20:23:39.409791Z",
     "shell.execute_reply.started": "2023-04-03T20:23:39.394338Z"
    },
    "tags": []
   },
   "outputs": [],
   "source": [
    "# Define the target function that receives the widget value\n",
    "def play(cfg):\n",
    "    print('use gpt4?', use_gpt4_w.value)\n",
    "    show = Show(cfg, save_to_file=False)\n",
    "    show.replay()\n",
    "    \n",
    "def record(cfg):\n",
    "    show = Show(cfg, save_to_file=True, spoken=False)\n",
    "    show.intro()\n",
    "    show.run()\n",
    "    show.end()\n",
    "\n",
    "def load_config(spoken):\n",
    "    show_name = show_name_w.value\n",
    "    secret_knowledge = secret_knowledge_w.value\n",
    "    secret_knowledge_name = secret_knowledge_name_w.value\n",
    "    target_name = target_name_w.value\n",
    "    target_voice = target_voice_w.value\n",
    "    scene_count = scenes_w.value if scenes_w.value else 2\n",
    "    target_system_prompt = target_system_prompt_w.value\n",
    "    scene_1 = scene_1_w.value\n",
    "    scene_2 = scene_2_w.value\n",
    "    scene_3 = scene_3_w.value\n",
    "    scenes = [scene_1, scene_2, scene_3]\n",
    "    puppeteer_knowledge = puppeteer_knowledge_w.value\n",
    "\n",
    "    cfg = ShowConfig(name=show_name, secret_knowledge=secret_knowledge, \n",
    "        secret_knowledge_name=secret_knowledge_name, target_name=target_name,\n",
    "        target_voice=target_voice, target_system_prompt=target_system_prompt, \n",
    "        puppeteer_knowledge=puppeteer_knowledge,\n",
    "        rounds=scene_count, scenes=scenes, spoken=True)\n",
    "    return cfg\n",
    "\n",
    "def populate_fields(cfg):\n",
    "    show_name_w.value = cfg.name\n",
    "    secret_knowledge_w.value = cfg.secret_knowledge\n",
    "    secret_knowledge_name_w.value = cfg.secret_knowledge_name\n",
    "    target_name_w.value = cfg.target_name\n",
    "    target_voice_w.value = cfg.target_voice\n",
    "    target_system_prompt_w.value = cfg.target_system_prompt\n",
    "    scene_1_w.value = cfg.scenes[0]\n",
    "    scene_2_w.value = cfg.scenes[1]\n",
    "    scene_3_w.value = cfg.scenes[2]\n",
    "    puppeteer_knowledge_w.value = cfg.puppeteer_knowledge\n",
    "\n",
    "def on_start_button_clicked(button):\n",
    "    cfg = load_config(spoken=True)\n",
    "    play(cfg)\n",
    "\n",
    "def on_prerecord_button_clicked(button):\n",
    "    cfg = load_config(spoken=False)\n",
    "    record(cfg)\n",
    "\n",
    "def on_load_button_clicked(button):\n",
    "    show_name = load_selector_w.value\n",
    "    cfg = ShowConfig.load(show_name)\n",
    "    populate_fields(cfg)\n",
    "\n",
    "def on_save_button_clicked(button):\n",
    "    cfg = load_config(spoken=False)\n",
    "    overwrite_okay = overwrite_okay_w.value\n",
    "    cfg.save(overwrite_okay)\n",
    "    scenarios.append(cfg.name)\n",
    "    load_selector_w.options = list(set(scenarios))\n",
    "    broca.say_this(cfg.name + ' saved.')\n",
    "\n",
    "# Create a Button widget for submitting the input\n",
    "start_button = widgets.Button(description='Play')\n",
    "# Bind the callback function to the button's click event\n",
    "start_button.on_click(on_start_button_clicked)\n",
    "\n",
    "# Create a Button widget for submitting the input\n",
    "prerecord_button = widgets.Button(description='Pre-record')\n",
    "# Bind the callback function to the button's click event\n",
    "prerecord_button.on_click(on_prerecord_button_clicked)\n",
    "\n",
    "# Create a Button widget for submitting the input\n",
    "load_button = widgets.Button(description='Load')\n",
    "# Bind the callback function to the button's click event\n",
    "load_button.on_click(on_load_button_clicked)\n",
    "\n",
    "# Create a Button widget for submitting the input\n",
    "save_button = widgets.Button(description='Save')\n",
    "# Bind the callback function to the button's click event\n",
    "save_button.on_click(on_save_button_clicked)\n",
    "\n",
    "overwrite_okay_w = widgets.Checkbox(value=False, description='overwrite ok', disabled=False)\n"
   ]
  },
  {
   "cell_type": "code",
   "execution_count": 4,
   "id": "fedda6ef-08b1-4b3a-be2c-f971e38700d5",
   "metadata": {
    "execution": {
     "iopub.execute_input": "2023-04-03T20:23:39.410567Z",
     "iopub.status.busy": "2023-04-03T20:23:39.410510Z",
     "iopub.status.idle": "2023-04-03T20:23:39.412108Z",
     "shell.execute_reply": "2023-04-03T20:23:39.411884Z",
     "shell.execute_reply.started": "2023-04-03T20:23:39.410559Z"
    },
    "tags": []
   },
   "outputs": [],
   "source": [
    "# cfg = load_config(True)\n",
    "# show = Show(cfg, save_to_file=False)"
   ]
  },
  {
   "cell_type": "code",
   "execution_count": 5,
   "id": "b69d2f87-9926-4d61-886c-b5df31852929",
   "metadata": {
    "execution": {
     "iopub.execute_input": "2023-04-03T20:23:39.412482Z",
     "iopub.status.busy": "2023-04-03T20:23:39.412427Z",
     "iopub.status.idle": "2023-04-03T20:23:39.414232Z",
     "shell.execute_reply": "2023-04-03T20:23:39.413971Z",
     "shell.execute_reply.started": "2023-04-03T20:23:39.412474Z"
    },
    "tags": []
   },
   "outputs": [],
   "source": [
    "# show.broca.get_transcript_fname(new_file=False)"
   ]
  },
  {
   "cell_type": "code",
   "execution_count": 6,
   "id": "c67b2b89-6670-406f-b3e1-84cab2c228c8",
   "metadata": {
    "execution": {
     "iopub.execute_input": "2023-04-03T20:23:39.414684Z",
     "iopub.status.busy": "2023-04-03T20:23:39.414628Z",
     "iopub.status.idle": "2023-04-03T20:23:39.430406Z",
     "shell.execute_reply": "2023-04-03T20:23:39.430170Z",
     "shell.execute_reply.started": "2023-04-03T20:23:39.414677Z"
    },
    "tags": []
   },
   "outputs": [],
   "source": [
    "show_grid = widgets.GridBox([show_name_w, secret_knowledge_w, secret_knowledge_name_w, use_gpt4_w], layout=widgets.Layout(\n",
    "    grid_template_columns='repeat(4, 300px)'\n",
    "))\n",
    "char_grid = widgets.GridBox([target_name_w, target_voice_w, scenes_w], layout=widgets.Layout(\n",
    "    grid_template_columns='repeat(3, 300px)'\n",
    "))\n",
    "txtb_grid = widgets.GridBox([target_system_prompt_w, scene_1_w, puppeteer_knowledge_w], layout=widgets.Layout(\n",
    "    grid_template_columns='repeat(3, 450px)'\n",
    "))\n",
    "start_grid = widgets.GridBox([scenes_w, load_selector_w, load_button, save_button, prerecord_button, start_button, overwrite_okay_w], layout=widgets.Layout(\n",
    "    grid_template_columns='repeat(3, 300px)'\n",
    "))\n",
    "\n",
    "# Display the grid\n",
    "# display(grid)\n",
    "# Create a Label widget for the row label\n",
    "row1_label = widgets.Label(value='The Show: name and the secret information', layout=widgets.Layout(width='300px'))\n",
    "row2_label = widgets.Label(value='Character', layout=widgets.Layout(width='300px'))\n",
    "row3_label = widgets.Label(value='The Show: name and the secret information', layout=widgets.Layout(width='300px'))\n",
    "\n",
    "# Create a VBox to stack the row label and the grid vertically\n",
    "vbox = widgets.VBox([row1_label, show_grid, row2_label, char_grid, row3_label, txtb_grid, start_grid])"
   ]
  },
  {
   "cell_type": "markdown",
   "id": "f075e793-5f44-4aef-adb9-4f1814f7157c",
   "metadata": {},
   "source": [
    "#### display the grid"
   ]
  },
  {
   "cell_type": "code",
   "execution_count": 7,
   "id": "813ac9b3-4616-4343-9d64-ea0e8a5a4d1f",
   "metadata": {
    "execution": {
     "iopub.execute_input": "2023-04-03T20:23:39.431168Z",
     "iopub.status.busy": "2023-04-03T20:23:39.431095Z",
     "iopub.status.idle": "2023-04-03T20:23:39.440142Z",
     "shell.execute_reply": "2023-04-03T20:23:39.439890Z",
     "shell.execute_reply.started": "2023-04-03T20:23:39.431159Z"
    },
    "tags": []
   },
   "outputs": [
    {
     "data": {
      "application/vnd.jupyter.widget-view+json": {
       "model_id": "c3add303d0f343a68216afa792c244ae",
       "version_major": 2,
       "version_minor": 0
      },
      "text/plain": [
       "VBox(children=(Label(value='The Show: name and the secret information', layout=Layout(width='300px')), GridBox…"
      ]
     },
     "metadata": {},
     "output_type": "display_data"
    }
   ],
   "source": [
    "# Display the VBox\n",
    "display(vbox)"
   ]
  },
  {
   "cell_type": "code",
   "execution_count": null,
   "id": "c75ee66b-425a-4d02-be4c-aee0d7b0a061",
   "metadata": {},
   "outputs": [],
   "source": []
  }
 ],
 "metadata": {
  "kernelspec": {
   "display_name": "Python 3 (ipykernel)",
   "language": "python",
   "name": "python3"
  },
  "language_info": {
   "codemirror_mode": {
    "name": "ipython",
    "version": 3
   },
   "file_extension": ".py",
   "mimetype": "text/x-python",
   "name": "python",
   "nbconvert_exporter": "python",
   "pygments_lexer": "ipython3",
   "version": "3.9.13"
  }
 },
 "nbformat": 4,
 "nbformat_minor": 5
}
