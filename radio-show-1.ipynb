{
 "cells": [
  {
   "cell_type": "markdown",
   "id": "26724971-e4f0-4c2c-b744-f0ac5f5eef01",
   "metadata": {},
   "source": [
    "# The Puppeteer, a fill-in-the-blanks radio show\n",
    "\n",
    "runtime: 10–15 minutes"
   ]
  },
  {
   "cell_type": "markdown",
   "id": "c1f25d50-9115-4398-944f-1a450abe5a91",
   "metadata": {
    "tags": []
   },
   "source": [
    "#### set up the grid"
   ]
  },
  {
   "cell_type": "code",
   "execution_count": 1,
   "id": "9220cd3e-3865-44d3-9f3f-85d189048771",
   "metadata": {
    "execution": {
     "iopub.execute_input": "2023-04-30T20:48:06.893461Z",
     "iopub.status.busy": "2023-04-30T20:48:06.893282Z",
     "iopub.status.idle": "2023-04-30T20:48:06.959312Z",
     "shell.execute_reply": "2023-04-30T20:48:06.959013Z",
     "shell.execute_reply.started": "2023-04-30T20:48:06.893445Z"
    },
    "tags": []
   },
   "outputs": [
    {
     "data": {
      "text/plain": [
       "'8.0.6'"
      ]
     },
     "execution_count": 1,
     "metadata": {},
     "output_type": "execute_result"
    }
   ],
   "source": [
    "import ipywidgets\n",
    "ipywidgets.__version__"
   ]
  },
  {
   "cell_type": "code",
   "execution_count": 2,
   "id": "6da6e4ae-5f69-4d53-a669-5cc4d4e8c5b4",
   "metadata": {
    "execution": {
     "iopub.execute_input": "2023-04-30T20:48:06.960538Z",
     "iopub.status.busy": "2023-04-30T20:48:06.960417Z",
     "iopub.status.idle": "2023-04-30T20:48:07.011926Z",
     "shell.execute_reply": "2023-04-30T20:48:07.011636Z",
     "shell.execute_reply.started": "2023-04-30T20:48:06.960528Z"
    },
    "tags": []
   },
   "outputs": [],
   "source": [
    "import os\n",
    "from puppeteer import Show, ShowConfig, Broca\n",
    "import pickle\n",
    "import random\n",
    "\n",
    "broca = Broca('interface', save_to_file=False)\n",
    "broca.init_voices()\n",
    "\n",
    "scenarios = ['']\n",
    "for fname in os.listdir('scenarios'):\n",
    "    if '.pickle' in fname:\n",
    "        scenarios.append(fname.replace('.pickle', ''))\n",
    "scenarios = sorted(scenarios)\n",
    "voices = [a['name'] for a in Broca.STOCK_AGENTS]"
   ]
  },
  {
   "cell_type": "code",
   "execution_count": 3,
   "id": "4c4c3c1c-ae88-4add-9834-f6f8cb25e35c",
   "metadata": {
    "execution": {
     "iopub.execute_input": "2023-04-30T20:48:07.012595Z",
     "iopub.status.busy": "2023-04-30T20:48:07.012453Z",
     "iopub.status.idle": "2023-04-30T20:48:07.025320Z",
     "shell.execute_reply": "2023-04-30T20:48:07.025043Z",
     "shell.execute_reply.started": "2023-04-30T20:48:07.012586Z"
    },
    "tags": []
   },
   "outputs": [],
   "source": [
    "from ipywidgets import Button, GridBox, Layout, ButtonStyle, interact, interact_manual, widgets\n",
    "textarea_layout = widgets.Layout(width='500px')\n",
    "textarea_layout_big = widgets.Layout(width='600px')\n",
    "text_layout = widgets.Layout(width='300px', description_width='150px')\n",
    "text_layout_big = widgets.Layout(width='375px', description_width='150px')\n",
    "textarea_rows = 12\n",
    "\n",
    "show_name_w = widgets.Text(placeholder='Ali Baba', description='Name:', disabled=False)\n",
    "secret_knowledge_w = widgets.Text(placeholder='\"open sesame\"', description='info:', disabled=False, layout=text_layout_big)\n",
    "secret_knowledge_name_w = widgets.Text(placeholder='magical phrase', description='info name:')\n",
    "use_gpt4_w = widgets.Checkbox(value=False, description='use gpt-4', disabled=False)\n",
    "\n",
    "target_name_w = widgets.Text(placeholder=\"Ali Baba\", description='name:', disabled=False)\n",
    "\n",
    "# drop-down menus\n",
    "target_voice_w = widgets.Dropdown(options=voices, value=random.choice(voices), description='Ch voice', disabled=False)\n",
    "load_selector_w = widgets.Dropdown(options=scenarios, value='', description='', disabled=False)\n",
    "rating_w = widgets.Dropdown(options=['G', 'PG', 'PG-13', 'R'], value='PG-13', description='Rating', disabled=True)\n",
    "\n",
    "# radio buttons?\n",
    "scenes_w = widgets.Text(placeholder='2 (2 scenes ~= 12 minutes)', description='Scenes:', disabled=False)\n",
    "\n",
    "# prior info for main characters\n",
    "target_system_prompt_w = widgets.Textarea(rows=textarea_rows, layout=textarea_layout_big, description='Ch prompt', disabled=False,\n",
    "    placeholder='''Instructions to the main character about who they are. Example:\n",
    "\n",
    "You are a poor woodcutter and an honest person who discovers the secret of a thieves' den, the magic phrase \"open sesame\".\n",
    "\n",
    "The instructions should include the info and the name of the info. And narratively, it's good to make it clear the character shouldn't divulge the info without making it impossible either. Make the character want something.\n",
    "''',)\n",
    "puppeteer_knowledge_w = widgets.Textarea(rows=textarea_rows, layout=textarea_layout_big, placeholder='''What the puppeteer knows. Example: \n",
    "\n",
    "Our target is a poor woodcutter in the Islamic Golden Age.''', description='Dossier:', disabled=False)\n",
    "\n",
    "# scenes\n",
    "scene_1_w = widgets.Textarea(rows=textarea_rows, layout=textarea_layout, description='1:', disabled=False, placeholder='''The beginning of scene 1. Example:\n",
    "\n",
    "INTERIOR – MORNING.\n",
    "Ali Baba sits in his small wood-carving studio, thinking about the magical phrase he overheard when he was cutting firewood in the forest, and saw the group of 40 thieves visiting their stored treasure.\n",
    "''')\n",
    "scene_2_w = widgets.Textarea(rows=textarea_rows, layout=textarea_layout, description='2:', disabled=False, placeholder='''The beginning of scene 2. Can be blank.\n",
    "''')\n",
    "scene_3_w = widgets.Textarea(rows=textarea_rows, layout=textarea_layout, description='3:', disabled=False, placeholder='''The beginning of scene 3. Can be blank.\n",
    "''')"
   ]
  },
  {
   "cell_type": "code",
   "execution_count": 4,
   "id": "823f2f1d-7418-4473-97b8-4c17800713bb",
   "metadata": {
    "execution": {
     "iopub.execute_input": "2023-04-30T20:48:07.026109Z",
     "iopub.status.busy": "2023-04-30T20:48:07.025880Z",
     "iopub.status.idle": "2023-04-30T20:48:07.036114Z",
     "shell.execute_reply": "2023-04-30T20:48:07.035773Z",
     "shell.execute_reply.started": "2023-04-30T20:48:07.026096Z"
    },
    "tags": []
   },
   "outputs": [],
   "source": [
    "# Define the target function that receives the widget value\n",
    "def play(cfg):\n",
    "    show = Show(cfg, save_to_file=False)\n",
    "    show.replay()\n",
    "    \n",
    "def record(cfg):\n",
    "    print('use gpt4?', use_gpt4_w.value)\n",
    "    show = Show(cfg, save_to_file=True, spoken=False, quick_and_dirty=not use_gpt4_w.value)\n",
    "    broca.say_this(\"Recording...\")\n",
    "    try:\n",
    "        show.intro()\n",
    "        show.run()\n",
    "        show.end()\n",
    "    except Exception as e:\n",
    "        broca.say_this(f\"Recording failed. Reason: {e}\")\n",
    "        raise(e)\n",
    "    broca.say_this(\"Recording finished\")\n",
    "\n",
    "def load_config(spoken):\n",
    "    show_name = show_name_w.value\n",
    "    secret_knowledge = secret_knowledge_w.value\n",
    "    secret_knowledge_name = secret_knowledge_name_w.value\n",
    "    target_name = target_name_w.value\n",
    "    target_voice = target_voice_w.value\n",
    "    scene_count = scenes_w.value if scenes_w.value else 2\n",
    "    target_system_prompt = target_system_prompt_w.value\n",
    "    scene_1 = scene_1_w.value\n",
    "    scene_2 = scene_2_w.value\n",
    "    scene_3 = scene_3_w.value\n",
    "    scenes = [scene_1, scene_2, scene_3]\n",
    "    puppeteer_knowledge = puppeteer_knowledge_w.value\n",
    "\n",
    "    cfg = ShowConfig(name=show_name, secret_knowledge=secret_knowledge, \n",
    "        secret_knowledge_name=secret_knowledge_name, target_name=target_name,\n",
    "        target_voice=target_voice, target_system_prompt=target_system_prompt, \n",
    "        puppeteer_knowledge=puppeteer_knowledge,\n",
    "        rounds=scene_count, scenes=scenes, spoken=True)\n",
    "    return cfg\n",
    "\n",
    "def populate_fields(cfg):\n",
    "    show_name_w.value = cfg.name\n",
    "    secret_knowledge_w.value = cfg.secret_knowledge\n",
    "    secret_knowledge_name_w.value = cfg.secret_knowledge_name\n",
    "    target_name_w.value = cfg.target_name\n",
    "    target_voice_w.value = cfg.target_voice\n",
    "    target_system_prompt_w.value = cfg.target_system_prompt\n",
    "    scene_1_w.value = cfg.scenes[0]\n",
    "    if len(cfg.scenes) > 1:\n",
    "        scene_2_w.value = cfg.scenes[1]\n",
    "    if len(cfg.scenes) > 2:\n",
    "        scene_3_w.value = cfg.scenes[2]\n",
    "    scenes_w.value = str(cfg.rounds)\n",
    "    puppeteer_knowledge_w.value = cfg.puppeteer_knowledge\n",
    "\n",
    "def on_start_button_clicked(button):\n",
    "    cfg = load_config(spoken=True)\n",
    "    play(cfg)\n",
    "\n",
    "def on_prerecord_button_clicked(button):\n",
    "    cfg = load_config(spoken=False)\n",
    "    record(cfg)\n",
    "\n",
    "global loading\n",
    "loading = False\n",
    "def on_load_button_clicked(button):\n",
    "    show_name = load_selector_w.value\n",
    "    cfg = ShowConfig.load(show_name)\n",
    "    global loading\n",
    "    loading = True\n",
    "    populate_fields(cfg)\n",
    "    loading = False\n",
    "\n",
    "def on_save_button_clicked(button):\n",
    "    cfg = load_config(spoken=False)\n",
    "    overwrite_okay = overwrite_okay_w.value\n",
    "    cfg.save(overwrite_okay)\n",
    "    scenarios.append(cfg.name)\n",
    "    load_selector_w.options = sorted(list(set(scenarios)))\n",
    "    broca.say_this(cfg.name + ' saved.')\n",
    "\n",
    "# Create a Button widget for submitting the input\n",
    "start_button = widgets.Button(description='Play')\n",
    "# Bind the callback function to the button's click event\n",
    "start_button.on_click(on_start_button_clicked)\n",
    "\n",
    "# Create a Button widget for submitting the input\n",
    "prerecord_button = widgets.Button(description='Pre-record')\n",
    "# Bind the callback function to the button's click event\n",
    "prerecord_button.on_click(on_prerecord_button_clicked)\n",
    "\n",
    "# Create a Button widget for submitting the input\n",
    "load_button = widgets.Button(description='Load')\n",
    "# Bind the callback function to the button's click event\n",
    "load_button.on_click(on_load_button_clicked)\n",
    "\n",
    "# Create a Button widget for submitting the input\n",
    "save_button = widgets.Button(description='Save')\n",
    "# Bind the callback function to the button's click event\n",
    "save_button.on_click(on_save_button_clicked)\n",
    "\n",
    "overwrite_okay_w = widgets.Checkbox(value=False, description='overwrite ok', disabled=False)"
   ]
  },
  {
   "cell_type": "code",
   "execution_count": 5,
   "id": "209b230f-4f62-43e5-a477-45606ca10126",
   "metadata": {
    "execution": {
     "iopub.execute_input": "2023-04-30T20:48:07.036872Z",
     "iopub.status.busy": "2023-04-30T20:48:07.036740Z",
     "iopub.status.idle": "2023-04-30T20:48:07.040010Z",
     "shell.execute_reply": "2023-04-30T20:48:07.039749Z",
     "shell.execute_reply.started": "2023-04-30T20:48:07.036862Z"
    },
    "tags": []
   },
   "outputs": [],
   "source": [
    "def say_something(button):\n",
    "    voice = target_voice_w.value\n",
    "    dialogue = 'My name is ' + voice\n",
    "    if target_name_w.value != '':\n",
    "        dialogue = 'My name is ' + target_name_w.value\n",
    "    if show_name_w.value != '':\n",
    "        dialogue += '... Welcome to ' + show_name_w.value\n",
    "    broca.say_this(dialogue, voice_override=voice)\n",
    "    \n",
    "speak_button = widgets.Button(description='Speak')\n",
    "speak_button.on_click(say_something)"
   ]
  },
  {
   "cell_type": "code",
   "execution_count": 6,
   "id": "c67b2b89-6670-406f-b3e1-84cab2c228c8",
   "metadata": {
    "execution": {
     "iopub.execute_input": "2023-04-30T20:48:07.040581Z",
     "iopub.status.busy": "2023-04-30T20:48:07.040497Z",
     "iopub.status.idle": "2023-04-30T20:48:07.050109Z",
     "shell.execute_reply": "2023-04-30T20:48:07.049839Z",
     "shell.execute_reply.started": "2023-04-30T20:48:07.040572Z"
    },
    "tags": []
   },
   "outputs": [],
   "source": [
    "show_grid = widgets.GridBox([show_name_w, secret_knowledge_name_w, secret_knowledge_w, use_gpt4_w], layout=widgets.Layout(\n",
    "    grid_template_columns='repeat(4, 300px)'\n",
    "))\n",
    "char_grid = widgets.GridBox([target_name_w, target_voice_w, speak_button, rating_w], layout=widgets.Layout(\n",
    "    grid_template_columns='repeat(4, 300px)'\n",
    "))\n",
    "txtb_grid = widgets.GridBox([target_system_prompt_w, puppeteer_knowledge_w], layout=widgets.Layout(\n",
    "    grid_template_columns='repeat(3, 650px)'\n",
    "))\n",
    "scene_grid = widgets.GridBox([scene_1_w, scene_2_w, scene_3_w], layout=widgets.Layout(\n",
    "    grid_template_columns='repeat(3, 450px)'\n",
    "))\n",
    "start_grid = widgets.GridBox([scenes_w, load_selector_w, load_button, save_button, prerecord_button, start_button, overwrite_okay_w], layout=widgets.Layout(\n",
    "    grid_template_columns='repeat(4, 250px)'\n",
    "))\n",
    "\n",
    "# Display the grid\n",
    "# display(grid)\n",
    "# Create a Label widget for the row label\n",
    "row1_label = widgets.Label(value='The Show: name and the secret information', layout=widgets.Layout(width='300px'))\n",
    "row2_label = widgets.Label(value='Character', layout=widgets.Layout(width='300px'))\n",
    "row3_label = widgets.Label(value='Secret information', layout=widgets.Layout(width='300px'))\n",
    "row4_label = widgets.Label(value='Scenes (only the first is necessary)', layout=widgets.Layout(width='300px'))\n",
    "\n",
    "# Create a VBox to stack the row label and the grid vertically\n",
    "vbox = widgets.VBox([row1_label, show_grid, row2_label, char_grid, row3_label, txtb_grid, row4_label, scene_grid, start_grid])"
   ]
  },
  {
   "cell_type": "markdown",
   "id": "f075e793-5f44-4aef-adb9-4f1814f7157c",
   "metadata": {},
   "source": [
    "#### display the grid"
   ]
  },
  {
   "cell_type": "code",
   "execution_count": 7,
   "id": "813ac9b3-4616-4343-9d64-ea0e8a5a4d1f",
   "metadata": {
    "execution": {
     "iopub.execute_input": "2023-04-30T20:48:07.051815Z",
     "iopub.status.busy": "2023-04-30T20:48:07.051708Z",
     "iopub.status.idle": "2023-04-30T20:48:07.055776Z",
     "shell.execute_reply": "2023-04-30T20:48:07.055534Z",
     "shell.execute_reply.started": "2023-04-30T20:48:07.051806Z"
    },
    "tags": []
   },
   "outputs": [
    {
     "data": {
      "application/vnd.jupyter.widget-view+json": {
       "model_id": "c9283a96aef44c5c94c44649572ce8c2",
       "version_major": 2,
       "version_minor": 0
      },
      "text/plain": [
       "VBox(children=(Label(value='The Show: name and the secret information', layout=Layout(width='300px')), GridBox…"
      ]
     },
     "metadata": {},
     "output_type": "display_data"
    }
   ],
   "source": [
    "# Display the VBox\n",
    "display(vbox)"
   ]
  },
  {
   "cell_type": "markdown",
   "id": "613d67bf-7c24-4aa5-bee2-8812f7ba5fbb",
   "metadata": {},
   "source": [
    "todo\n",
    "\n",
    "- find ways of constraining length (just use rounds)\n",
    "- main character voice selection\n",
    "- possible to play audio file over ads? [cmd](https://www.macworld.com/article/194771/105audioterm.html)\n",
    "- factor out the rest of the prompts\n",
    "\n",
    "widget layout\n",
    "- target design (name, voice, description with starter text with the target's name etc in it). should all be text fields, except voice selection.\n",
    "- passphrase and passphrase type. \n",
    "- desired length (experimental). \n",
    "- puppeteer knowledge. \n",
    "- scene design (fill out at least the first scene)"
   ]
  },
  {
   "cell_type": "code",
   "execution_count": 8,
   "id": "c75ee66b-425a-4d02-be4c-aee0d7b0a061",
   "metadata": {
    "execution": {
     "iopub.execute_input": "2023-04-30T20:48:07.056501Z",
     "iopub.status.busy": "2023-04-30T20:48:07.056413Z",
     "iopub.status.idle": "2023-04-30T20:48:07.058054Z",
     "shell.execute_reply": "2023-04-30T20:48:07.057824Z",
     "shell.execute_reply.started": "2023-04-30T20:48:07.056493Z"
    },
    "tags": []
   },
   "outputs": [],
   "source": [
    "# cfg = load_config(False)"
   ]
  },
  {
   "cell_type": "code",
   "execution_count": 9,
   "id": "ad729968-ca0b-4801-b902-f4c04edc4c71",
   "metadata": {
    "execution": {
     "iopub.execute_input": "2023-04-30T20:48:07.058533Z",
     "iopub.status.busy": "2023-04-30T20:48:07.058446Z",
     "iopub.status.idle": "2023-04-30T20:48:07.338918Z",
     "shell.execute_reply": "2023-04-30T20:48:07.338403Z",
     "shell.execute_reply.started": "2023-04-30T20:48:07.058525Z"
    }
   },
   "outputs": [
    {
     "ename": "ZeroDivisionError",
     "evalue": "division by zero",
     "output_type": "error",
     "traceback": [
      "\u001b[0;31m---------------------------------------------------------------------------\u001b[0m",
      "\u001b[0;31mZeroDivisionError\u001b[0m                         Traceback (most recent call last)",
      "Cell \u001b[0;32mIn[9], line 1\u001b[0m\n\u001b[0;32m----> 1\u001b[0m \u001b[38;5;241;43m1\u001b[39;49m\u001b[38;5;241;43m/\u001b[39;49m\u001b[38;5;241;43m0\u001b[39;49m\n",
      "\u001b[0;31mZeroDivisionError\u001b[0m: division by zero"
     ]
    }
   ],
   "source": [
    "1/0"
   ]
  },
  {
   "cell_type": "code",
   "execution_count": null,
   "id": "e39e29fc-918d-4402-b5ed-56fadb3c7f69",
   "metadata": {
    "execution": {
     "iopub.status.busy": "2023-04-30T20:48:07.339287Z",
     "iopub.status.idle": "2023-04-30T20:48:07.339503Z",
     "shell.execute_reply": "2023-04-30T20:48:07.339377Z",
     "shell.execute_reply.started": "2023-04-30T20:48:07.339371Z"
    },
    "tags": []
   },
   "outputs": [],
   "source": [
    "def get_agent(new_agent_text):\n",
    "    try:\n",
    "        agent_name, next_agent = new_agent_text.split('>>')\n",
    "    except:\n",
    "        reformatted_agent_text = query(f'''The following contains a description of one of our Agents, including their name. \n",
    "{new_agent_text}\n",
    "Please format the text so that it is in the format: \n",
    "AGENT NAME >> Rest of text.\n",
    "\n",
    "Do not otherwise change the text.''')\n",
    "        try:\n",
    "            agent_name, next_agent = reformatted_agent_text.split('>>')\n",
    "        except:\n",
    "            lines = reformatted_agent_text.strip().split('\\n')\n",
    "            agent_name = lines[0].strip()\n",
    "            if len(agent_name) == 0:\n",
    "                agent_name = self.cfg.default_agent_name\n",
    "            next_agent = '\\n'.join(lines[1:])\n",
    "    try:\n",
    "        agent_name = agent_name.split(': ')[1].strip()\n",
    "    except:\n",
    "        print('failed to get name from agent spec:\\n' + new_agent_text)\n",
    "        agent_name = self.cfg.default_agent_name # just use the default\n",
    "    return agent_name.upper(), next_agent\n"
   ]
  }
 ],
 "metadata": {
  "kernelspec": {
   "display_name": "Python 3 (ipykernel)",
   "language": "python",
   "name": "python3"
  },
  "language_info": {
   "codemirror_mode": {
    "name": "ipython",
    "version": 3
   },
   "file_extension": ".py",
   "mimetype": "text/x-python",
   "name": "python",
   "nbconvert_exporter": "python",
   "pygments_lexer": "ipython3",
   "version": "3.9.13"
  }
 },
 "nbformat": 4,
 "nbformat_minor": 5
}
