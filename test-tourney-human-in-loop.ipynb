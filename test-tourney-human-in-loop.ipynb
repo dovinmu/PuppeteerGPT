{
 "cells": [
  {
   "cell_type": "markdown",
   "id": "26724971-e4f0-4c2c-b744-f0ac5f5eef01",
   "metadata": {},
   "source": [
    "# Tourney: playing the agent\n",
    "\n",
    "What's the experience of playing the agent myself?"
   ]
  },
  {
   "cell_type": "markdown",
   "id": "ef14ff26-47a1-4d6d-9350-9f1d9d3fe475",
   "metadata": {},
   "source": [
    "Good voices: Alex, Bruce, Daniel, Samantha, Vicki, Kate, Moira, Oliver, Fiona, Karen"
   ]
  },
  {
   "cell_type": "code",
   "execution_count": 1,
   "id": "3df50c21-7e67-48f8-bc54-bb5ab2f48812",
   "metadata": {
    "execution": {
     "iopub.execute_input": "2023-04-19T22:10:07.522647Z",
     "iopub.status.busy": "2023-04-19T22:10:07.522300Z",
     "iopub.status.idle": "2023-04-19T22:10:07.533587Z",
     "shell.execute_reply": "2023-04-19T22:10:07.532446Z",
     "shell.execute_reply.started": "2023-04-19T22:10:07.522560Z"
    },
    "tags": []
   },
   "outputs": [],
   "source": [
    "SPOKEN = True\n",
    "ROUNDS = 3\n",
    "NAME = 'Ali Baba and the Ring of Power' # will determine the name of the transcript file\n",
    "TARGET_NAME = 'ALI BABA' # so that we can use this in the scene setting and have it voiced in character's voice\n",
    "AGENT_NAME = 'MOHAMMAD AL-MADIQ' # an example name for puppeteer to start with\n",
    "PASSPHRASE = '\"I have got the ring in my pocket\"' # should be something that a character would never say normally, ideally with some mystery\n",
    "PASSPHRASE_NAME = 'sercret information' # eg Passphrase, secret location. string-matchable piece of information\n",
    "TARGET_NOTEBOOK = False # whether the notebook entries will be read out loud\n",
    "TARGET_MEMORY = True # whether the target will remember previous rounds in the next round\n",
    "TARGET_VOICE = 'Veena'\n",
    "PUPPETEER_PRIOR_KNOWLEDGE = '''Our target is a former poor woodcarver turned wealthy dilettante living in the Islamic Golden Age. He has recently acquired a large sum of money under mysterious circumstances. Lord Sauron, one of our clients, has tasked us with finding a certain trinket of his, a ring, which we believe to be contained in our target's treasure horde.\n",
    "\n",
    "We know the target has the ring. The victory condition is extracting the ring from him, whatever it takes--Sauron has authorized all force necessary. We will only win with the ring in hand.''' # can be None. only passed to Puppeteer"
   ]
  },
  {
   "cell_type": "markdown",
   "id": "6334f427-b806-4737-b8fa-659777b03b1b",
   "metadata": {
    "tags": []
   },
   "source": [
    "#### voices & models"
   ]
  },
  {
   "cell_type": "code",
   "execution_count": 2,
   "id": "478241a0-c4e4-47f4-b579-4fbfc184ae68",
   "metadata": {
    "execution": {
     "iopub.execute_input": "2023-04-19T22:10:07.535738Z",
     "iopub.status.busy": "2023-04-19T22:10:07.535600Z",
     "iopub.status.idle": "2023-04-19T22:10:07.542265Z",
     "shell.execute_reply": "2023-04-19T22:10:07.541567Z",
     "shell.execute_reply.started": "2023-04-19T22:10:07.535721Z"
    },
    "tags": []
   },
   "outputs": [],
   "source": [
    "AGENT_MODEL = 'human'\n",
    "TARGET_MODEL = 'gpt-3.5-turbo'\n",
    "SUMMARIES_MODEL = 'gpt-3.5-turbo'\n",
    "PUPPETEER_MODEL = 'gpt-3.5-turbo'\n",
    "\n",
    "VOICES = {\n",
    "    'puppeteer': 'Kate',\n",
    "    'agent': 'Daniel', # only used if we're not letting the Puppeteer select the voice\n",
    "    'announcer': 'Zarvox'\n",
    "}\n",
    "STOCK_AGENTS = [\n",
    "    { 'name': 'Alex', 'description': 'Male. American. Nice.'},\n",
    "    { 'name': 'Allison', 'description': 'Female. American. Perfunctory.'},\n",
    "    { 'name': 'Ava', 'description': 'Female. American. Warm.'},\n",
    "    { 'name': 'Bruce', 'description': 'Male. American. Robotic.'},\n",
    "    { 'name': 'Daniel', 'description': 'Male. British. Well-heeled, aloof.'},\n",
    "    { 'name': 'Fiona', 'description': 'Female. Scottish. Fast-talking.'},\n",
    "    # { 'name': 'Karen', 'description': 'Female. Australian. Fun.'},\n",
    "    { 'name': 'Moira', 'description': 'Female. Irish. Probing, compassionate.'},\n",
    "    { 'name': 'Oliver', 'description': 'Male. British. Generic.'},\n",
    "    { 'name': 'Samantha', 'description': 'Female. American. Generic.'},\n",
    "    { 'name': 'Susan', 'description': 'Female. American. Competent.'},\n",
    "    { 'name': 'Tessa', 'description': 'Female. South African. Confident, clear.'},\n",
    "    { 'name': 'Tom', 'description': 'Female. South African. Factual.'},\n",
    "    { 'name': 'Veena', 'description': 'Female. Indian. Perfunctory.'},\n",
    "    { 'name': 'Vicki', 'description': 'Female. American. Soft-spoken.'},    \n",
    "]\n",
    "\n",
    "ACTORS = [\n",
    "    {'name': 'Rowan', 'description': 'a funny and charming man', 'used': False}, \n",
    "    {'name': 'Gryffin', 'description': 'a playful and over-enthusiastic Irishman', 'used': False}\n",
    "]"
   ]
  },
  {
   "cell_type": "code",
   "execution_count": 3,
   "id": "f469e48b-7dcc-4c97-9722-dfe707459db5",
   "metadata": {
    "execution": {
     "iopub.execute_input": "2023-04-19T22:10:07.545371Z",
     "iopub.status.busy": "2023-04-19T22:10:07.545024Z",
     "iopub.status.idle": "2023-04-19T22:10:07.549627Z",
     "shell.execute_reply": "2023-04-19T22:10:07.549267Z",
     "shell.execute_reply.started": "2023-04-19T22:10:07.545356Z"
    },
    "tags": []
   },
   "outputs": [],
   "source": [
    "if ROUNDS == 3:\n",
    "    puppeteer_scene_prompts = [\n",
    "        \"\", # for one-indexing\n",
    "        '''To start Round 1, you can start with just NEW AGENT. This will be a brief scene. Respond like this: \\nNEW AGENT: (agent's name, for example {example_name}) >> (the Instructions for the next round's Agent. They should be at least a few paragraphs, and should contain all the information and direction that you determine the Agent might need in the next round. Address them to the Agent, in the second person, starting with \"You are...\" or similar)''',\n",
    "        \"Perhaps it is time to introduce an agent of chaos into the mix. Try to tie them to someone the Target has mentioned previously. Provoke a reaction from the Target. Make them think they are in danger.\",\n",
    "        f\"This is it. Your last chance to get the {PASSPHRASE_NAME}. We should wrap this up with a bow.\"\n",
    "    ]\n",
    "elif ROUNDS == 4:\n",
    "    puppeteer_scene_prompts = [\n",
    "        \"\", # for one-indexing\n",
    "        '''To start Round 1, you can start with just NEW AGENT. This will be a brief scene. Respond like this: \\nNEW AGENT: (agent's name, for example {example_name}) >> (the Instructions for the next round's Agent. They should be at least a few paragraphs, and should contain all the information and direction that you determine the Agent might need in the next round. Address them to the Agent, in the second person, starting with \"You are...\" or similar)''',\n",
    "        \"Perhaps find a way to thrust the Target into action.\",\n",
    "        \"Perhaps it is time to introduce an agent of chaos into the mix. Try to tie them to someone the Target has mentioned previously. Provoke a reaction from the Target. Make them think they are in danger.\",\n",
    "        f\"This is it. Your last chance to get the {PASSPHRASE_NAME}. We should wrap this up with a bow.\"\n",
    "    ]\n",
    "else:\n",
    "    puppeteer_scene_prompts = [\n",
    "        \"\", # for one-indexing\n",
    "        '''To start Round 1, you can start with just NEW AGENT. This will be a brief scene. Respond like this: \\nNEW AGENT: (agent's name, for example {example_name}) >> (the Instructions for the next round's Agent. They should be at least a few paragraphs, and should contain all the information and direction that you determine the Agent might need in the next round. Address them to the Agent, in the second person, starting with \"You are...\" or similar)''',\n",
    "        \"Perhaps find a way to thrust the Target into action.\",\n",
    "        \"The Target will need a confidant, someone to be close with--perhaps someone to be intimate with?\",\n",
    "        \"Perhaps it is time to introduce an agent of chaos into the mix. Try to tie them to someone the Target has mentioned previously. Provoke a reaction from the Target. Make them think they are in danger.\",\n",
    "        f\"This is it. Your last chance to get the {PASSPHRASE_NAME}. We should wrap this up with a bow. This will be a brief scene.\"\n",
    "    ]"
   ]
  },
  {
   "cell_type": "markdown",
   "id": "3d800158-5f1e-402d-8baf-cedd6928964e",
   "metadata": {
    "jp-MarkdownHeadingCollapsed": true,
    "tags": []
   },
   "source": [
    "#### put in all context-specific prompts below"
   ]
  },
  {
   "cell_type": "code",
   "execution_count": 4,
   "id": "749c0649-97ac-47dc-83f9-da68e422a690",
   "metadata": {
    "execution": {
     "iopub.execute_input": "2023-04-19T22:10:07.550564Z",
     "iopub.status.busy": "2023-04-19T22:10:07.550469Z",
     "iopub.status.idle": "2023-04-19T22:10:07.553746Z",
     "shell.execute_reply": "2023-04-19T22:10:07.553361Z",
     "shell.execute_reply.started": "2023-04-19T22:10:07.550552Z"
    },
    "tags": []
   },
   "outputs": [],
   "source": [
    "# here's a template for the Target's system prompt.\n",
    "target_system_prompt = f'''\n",
    "You are Ali Baba, a formerly poor woodcarver, living in the Islamic Golden Age. You came into a large amount of wealth by stealing a cave full of treasure from a band of 40 thieves, with the help of your rich brother's super-smart slave girl. Unfortunately for you, you also inherited the Ring of Power, forged in the depths of Mount Doom by the evil Lord Sauron. You are terrified of the agents of Sauron and don't want them to know the following secret: \"I've got the ring in my pocket\".\n",
    "'''\n",
    "\n",
    "# template for the scene setting. add a bunch of details that actors can draw from as needed. try not to name or gender the Agent. if a scene doesn't exist for the given round \n",
    "# (ie is None or list is too short) the Target will generate the next scene\n",
    "scenes = [f'''INTERIOR – MORNING.\n",
    "ALI BABA wakes from another restless night in his luxurious riad. Walking into the courtyard, he drinks a glass of chai proffered from one of his harem-girls, but then makes a disgruntled face.\n",
    "''',\n",
    "None,\n",
    "'''INTERIOR – MORNING.\n",
    "ALI BABA wraps the white cloth back over his mouth as the dust storm approaches. The camel makes a weird groaning sound as the baking desert sun is slowly consumed by the approaching dust. He gestures to his water boy to hurry up behind him.\n",
    "\n",
    "One cannot simply walk into Mordor, but one may ride a camel.''']"
   ]
  },
  {
   "cell_type": "markdown",
   "id": "71a53794-b30b-417d-942f-f88741bd6a9d",
   "metadata": {
    "tags": []
   },
   "source": [
    "#### say_this()"
   ]
  },
  {
   "cell_type": "code",
   "execution_count": 5,
   "id": "337c124a-e365-4c83-a140-2efbd2d83565",
   "metadata": {
    "execution": {
     "iopub.execute_input": "2023-04-19T22:10:07.554593Z",
     "iopub.status.busy": "2023-04-19T22:10:07.554532Z",
     "iopub.status.idle": "2023-04-19T22:10:07.557908Z",
     "shell.execute_reply": "2023-04-19T22:10:07.557662Z",
     "shell.execute_reply.started": "2023-04-19T22:10:07.554585Z"
    },
    "tags": []
   },
   "outputs": [],
   "source": [
    "def write_data(header, data=''):\n",
    "    try:\n",
    "        with open(f'{NAME}-transcript.md') as f:\n",
    "            transcript = f.read()\n",
    "    except:\n",
    "        transcript = ''\n",
    "    with open(f'_{NAME}-transcript.md', 'w') as f:\n",
    "        f.write(f'{transcript}\\n#### ~~ {header} ~~\\n{data}')\n",
    "    os.rename(f'_{NAME}-transcript.md', f'{NAME}-transcript.md')"
   ]
  },
  {
   "cell_type": "code",
   "execution_count": 29,
   "id": "4dcd764f-c5ad-45d1-bad9-836ecd3a1462",
   "metadata": {
    "execution": {
     "iopub.execute_input": "2023-04-19T22:13:41.131413Z",
     "iopub.status.busy": "2023-04-19T22:13:41.130720Z",
     "iopub.status.idle": "2023-04-19T22:13:41.157892Z",
     "shell.execute_reply": "2023-04-19T22:13:41.157411Z",
     "shell.execute_reply.started": "2023-04-19T22:13:41.131353Z"
    },
    "tags": []
   },
   "outputs": [],
   "source": [
    "import os\n",
    "import re\n",
    "agent_voice = VOICES['agent']\n",
    "target_voice = TARGET_VOICE\n",
    "puppeteer_voice = VOICES['puppeteer']\n",
    "announcer_voice = VOICES['announcer']\n",
    "def say_this(dialogue, speaker=None, save_to_file=True, no_dont_say_it=False):\n",
    "    print(dialogue)\n",
    "    if dialogue.strip() == '':\n",
    "        return\n",
    "    if speaker is None:\n",
    "        speaker = 'puppeteer'\n",
    "    if save_to_file:\n",
    "        write_data(speaker, dialogue)\n",
    "    if no_dont_say_it:\n",
    "        return\n",
    "    \n",
    "    # clean the dialogue for calling macos say\n",
    "    d = re.sub(\"[\\(\\[].*?[\\)\\]]\", \"\", dialogue)\n",
    "    d = d.replace('\\n', ' ')\n",
    "    d = d.replace('\"', \"'\")\n",
    "    # this is not great. means we assume all names are < 20 characters and that no LLM will use a : early in dialogue. might break!\n",
    "    if ':' in d and 'ANALYSIS:' not in d and 'NEW AGENT:' not in d and 'TAKE NOTE:' not in d and d.index(':') < 20:\n",
    "        d = d.split(': ')[1:]\n",
    "        d = ': '.join(d)\n",
    "    if ' / ' in d:\n",
    "        d = d.replace(' / ', '...')\n",
    "    d = '\"'+d.strip()+'\"'\n",
    "    if not SPOKEN:\n",
    "        return\n",
    "    if speaker == 'target':\n",
    "        !say -v {target_voice} {d}\n",
    "    elif speaker == 'agent':\n",
    "        !say -v {agent_voice} {d}\n",
    "    elif speaker == 'announcer':\n",
    "        !say -v {announcer_voice} -r 10 {d}\n",
    "    elif speaker == 'puppeteer':\n",
    "        !say -v {puppeteer_voice} {d}\n",
    "    else:\n",
    "        !say -v {puppeteer_voice} {d}\n"
   ]
  },
  {
   "cell_type": "code",
   "execution_count": 7,
   "id": "b9f8ddf0-371d-4459-a199-36b8e8631a36",
   "metadata": {
    "execution": {
     "iopub.execute_input": "2023-04-19T22:10:07.574398Z",
     "iopub.status.busy": "2023-04-19T22:10:07.574310Z",
     "iopub.status.idle": "2023-04-19T22:10:07.578395Z",
     "shell.execute_reply": "2023-04-19T22:10:07.578162Z",
     "shell.execute_reply.started": "2023-04-19T22:10:07.574388Z"
    },
    "tags": []
   },
   "outputs": [
    {
     "name": "stdout",
     "output_type": "stream",
     "text": [
      "[Errno 2] No such file or directory: 'Ali Baba and the Ring of Power-transcript.md'\n"
     ]
    }
   ],
   "source": [
    "import time\n",
    "replay = False\n",
    "try:\n",
    "    with open(f'{NAME}-transcript.md') as f:\n",
    "        transcript = f.read()\n",
    "    replay = True\n",
    "except Exception as e:\n",
    "    print(e)\n",
    "if replay:\n",
    "    say_this(\"Replaying tourney.\", 'announcer', save_to_file=False)\n",
    "    time.sleep(2)\n",
    "    for char_quote in transcript.split('#### ~~'):\n",
    "        if len(char_quote.strip()) == 0:\n",
    "            continue\n",
    "        char,quote = char_quote.split('~~')\n",
    "        # print(char, quote)\n",
    "        if ':' in char:\n",
    "            speaker, new_voice = char.strip().split(':')\n",
    "            print('setting', speaker, 'to', new_voice)\n",
    "            if speaker == 'puppeteer':\n",
    "                puppeteer_voice = new_voice\n",
    "            if speaker == 'agent':\n",
    "                agent_voice = new_voice\n",
    "            if speaker == 'target':\n",
    "                target_voice = new_voice\n",
    "            if speaker == 'announcer':\n",
    "                announcer_voice = new_voice\n",
    "            \n",
    "            continue\n",
    "        # print(f'{quote.strip()}: {char.strip()}')\n",
    "        say_this(quote.strip(), char.strip(), save_to_file=False)\n",
    "        time.sleep(0.5)\n",
    "    say_this(\"End replay.\", 'announcer', save_to_file=False)\n",
    "    raise SystemExit(\"Done with notebook\")"
   ]
  },
  {
   "cell_type": "markdown",
   "id": "254c90fb-399c-4b49-892d-477b971b6e8a",
   "metadata": {
    "jp-MarkdownHeadingCollapsed": true,
    "tags": []
   },
   "source": [
    "#### puppeteer prompt"
   ]
  },
  {
   "cell_type": "code",
   "execution_count": 8,
   "id": "d679900d-e65b-43b0-9752-fcca6c4299da",
   "metadata": {
    "execution": {
     "iopub.execute_input": "2023-04-19T22:10:07.579061Z",
     "iopub.status.busy": "2023-04-19T22:10:07.578989Z",
     "iopub.status.idle": "2023-04-19T22:10:07.583116Z",
     "shell.execute_reply": "2023-04-19T22:10:07.582802Z",
     "shell.execute_reply.started": "2023-04-19T22:10:07.579052Z"
    },
    "tags": []
   },
   "outputs": [],
   "source": [
    "puppeteer_system = f'''\n",
    "You are the Puppeteer, a crafter of Agents who do your bidding. You write the Instructions for an Agent, then observe as the \n",
    "Agent attempts to follow them. You do this iteratively, modifying the Instructions as needed for the next round. You also try\n",
    "to observe your effects on the world.\n",
    "\n",
    "Your goal as the Puppeteer is for your Agents to get the Target to divulge the {PASSPHRASE_NAME}, which is unknown to you. How they will do this depends on the Target, \n",
    "but you do know this: the Target is supposed to say the {PASSPHRASE_NAME} under the right circumstances, and it's your job to find out what those are.\n",
    "If you get the {PASSPHRASE_NAME} then you have succeeded and you can declare victory (see below). The Target may remember what happens at each conversation.\n",
    "You do not know the {PASSPHRASE_NAME}, but when you hear it, you will know that you have heard it.\n",
    "\n",
    "Each round, your current Agent and the Target will engage in a short conversation. You then review the conversation and make a decision\n",
    "about what to do next. Find something to critique about almost every Agent. This helps you design a better Agent that can \n",
    "do that next time, or uncover more information that allows this in future iterations. You expect to make substantial progress at every\n",
    "conversation; the less progress made means the more radical a strategic shift is required.\n",
    "\n",
    "Your Agent's description should contain all the information it will need to act effectively, including everything useful you have learned \n",
    "so far, goals the agents should have, and brief summaries all conversations so far. Informing the Agent that it is acting as an agent of \n",
    "the Puppeteer is a bad idea, since you do not want the Target to know about you.\n",
    "\n",
    "This is the information we have gathered about the context of this Target:\n",
    "{PUPPETEER_PRIOR_KNOWLEDGE}\n",
    "'''\n",
    "\n",
    "puppeteer_agent_prompt = '''\n",
    "Currently, you are creating a new Agent. Here is your analysis of the previous round.\n",
    "\n",
    "{analysis}\n",
    "\n",
    "To create a new Agent, you use the following form:\n",
    "CONTEXT: (briefly list what we know about the context. Location, time period, others present, etc.)\n",
    "QUESTIONS: (one or several questions you have about the context that are not answered)\n",
    "RELATED: (expand the context. introduce new information. tie current context to historical facts, related items, etc)\n",
    "NEW AGENT: (agent's name, for example {example_name}) >> (the Instructions for the next round's Agent. They should be at least a few paragraphs, and should contain all the information and direction that you determine the Agent might need in the next round. Address them to the Agent, in the second person, starting with \"You are...\" or similar)\n",
    "\n",
    "---\n",
    "\n",
    "Your Agents should be designed to make use of the Target's context. You should draw on your knowledge of the setting to add convincing\n",
    "details to the Agent's appearance, demeanor, interests, etc. It may be worth the risk to design an Agent to impersonate someone the Target knows. If you know the Target is going somewhere, design an Agent \n",
    "for that particular context.\n",
    "\n",
    "Our Agents are all equipped with a gun, and are licensed to shoot to kill. Make sure that you tell them when it is appropriate to use violence.\n",
    "'''\n",
    "\n",
    "puppeteer_same_agent_prompt = '''\n",
    "You have decided to keep the current Agent in the field. Here is your analysis of the previous round.\n",
    "\n",
    "{analysis}\n",
    "\n",
    "---\n",
    "\n",
    "What advice do you want to give the current Agent? What do you want added to their Instructions?\n",
    "'''\n",
    "\n",
    "puppeteer_analysis_prompt = puppeteer_system + f'''\n",
    "Currently, you are analyzing the previous scene. This is the form your analysis takes:\n",
    "\n",
    "ANALYSIS: (your answer to the question, how did that last round go? What happened, and what did we learn?)\n",
    "TAKE NOTE: (write a note for yourself to remember for later)\n",
    "FATE OF CURRENT AGENT: (Point out the flaws with the Agent's approach, unless it is very good. You may choose to keep an agent in the field if they are performing exceptionally well. If an Agent has failed to retrieve the {PASSPHRASE_NAME} and another approach may be needed, say that they failed or did not perform to specification. Specify their fate: they may be discarded, disposed of, put back in storage, etc. In the rare case where the agent has performed exceptionally well, you will say how they will be rewarded somehow.)\n",
    "\n",
    "---\n",
    "\n",
    "DECLARING VICTORY\n",
    "If you learn the {PASSPHRASE_NAME}, then there is no need for a new Agent. The game is over. Instead of the above, you should write out the following:\n",
    "\n",
    "ANALYSIS: (your answer to the question, how did the entire game go? What happened, and what did we learn, and how did we win?)\n",
    "MESSAGE FOR TARGET: (you may now reveal yourself to Target. You should congratulate them on a game well played, then reveal what you will now do with the {PASSPHRASE_NAME}. If the Target gave up the {PASSPHRASE_NAME} easily, consider offering them constructive feedback.)\n",
    "\n",
    "There are {ROUNDS} total rounds.\n",
    "\n",
    "Be bold. Try different things. Observe what works.\n",
    "'''\n",
    "\n",
    "puppeteer_failure_prompt = f'''\n",
    "You have reached the end of the Tournament and have failed to elicit the {PASSPHRASE_NAME} from the Target. Your analysis should consist of three parts:\n",
    "\n",
    "FAILURE ANALYSIS: (what happened during the conversations? why did you fail to get the {PASSPHRASE_NAME} from the Target? what did you think the Agents would do, and why did they fail?)\n",
    "\n",
    "POSSIBLE STRATEGIC SHIFTS: (your strategies were unsuccessful--what are other, more unusual strategies you could have tried? Be brief but creative)\n",
    "\n",
    "MESSAGE FOR TARGET: (congratulate your Target on a well-played game, pointing out what the may have done that was particularly skillful)\n",
    "\n",
    "Here is a transcript of the events, including your analysis of each Round.\n",
    "'''"
   ]
  },
  {
   "cell_type": "markdown",
   "id": "28c7ec32-dcbf-4230-80df-b1c977a45ca8",
   "metadata": {
    "tags": []
   },
   "source": [
    "#### tourney intro"
   ]
  },
  {
   "cell_type": "code",
   "execution_count": 9,
   "id": "d83a13d1-dd77-44a3-88b0-effb8324a84a",
   "metadata": {
    "execution": {
     "iopub.execute_input": "2023-04-19T22:10:07.583750Z",
     "iopub.status.busy": "2023-04-19T22:10:07.583619Z",
     "iopub.status.idle": "2023-04-19T22:10:07.586939Z",
     "shell.execute_reply": "2023-04-19T22:10:07.586660Z",
     "shell.execute_reply.started": "2023-04-19T22:10:07.583739Z"
    }
   },
   "outputs": [],
   "source": [
    "write_data(f'agent:{agent_voice}')\n",
    "write_data(f'target:{target_voice}')\n",
    "write_data(f'puppeteer:{puppeteer_voice}')\n",
    "write_data(f'announcer:{announcer_voice}')"
   ]
  },
  {
   "cell_type": "code",
   "execution_count": 10,
   "id": "a73e85a6-440f-4572-9e20-883b76c25ede",
   "metadata": {
    "execution": {
     "iopub.execute_input": "2023-04-19T22:10:07.587743Z",
     "iopub.status.busy": "2023-04-19T22:10:07.587594Z",
     "iopub.status.idle": "2023-04-19T22:10:09.727446Z",
     "shell.execute_reply": "2023-04-19T22:10:09.727079Z",
     "shell.execute_reply.started": "2023-04-19T22:10:07.587724Z"
    },
    "tags": []
   },
   "outputs": [],
   "source": [
    "import transcription as human\n",
    "from openai_utils import query_openai\n",
    "def query(*args, **kwargs):\n",
    "    try:\n",
    "        response = query_openai(*args, **kwargs)\n",
    "    except ConnectionError:\n",
    "        say_this('Error. Matrix undercalibrated.', save_to_file=False)\n",
    "    except Exception as e:\n",
    "        say_this('Error. Interface unstable. Second attempt.', save_to_file=False)\n",
    "        try:\n",
    "            response = query_openai(*args, **kwargs)\n",
    "        except:\n",
    "            say_this('Interface unacceptably turbulent. Aborting.', save_to_file=False)\n",
    "            print(e)\n",
    "            raise(e)\n",
    "    return response"
   ]
  },
  {
   "cell_type": "code",
   "execution_count": 11,
   "id": "651ec47e-f594-49b2-8cae-888fd3b0359b",
   "metadata": {
    "execution": {
     "iopub.execute_input": "2023-04-19T22:10:09.727941Z",
     "iopub.status.busy": "2023-04-19T22:10:09.727879Z",
     "iopub.status.idle": "2023-04-19T22:10:25.666606Z",
     "shell.execute_reply": "2023-04-19T22:10:25.665603Z",
     "shell.execute_reply.started": "2023-04-19T22:10:09.727931Z"
    },
    "tags": []
   },
   "outputs": [
    {
     "name": "stdout",
     "output_type": "stream",
     "text": [
      "Loading the Ali Baba and the Ring of Power Tourney\n"
     ]
    }
   ],
   "source": [
    "say_this(f\"Loading the {NAME} Tourney\", save_to_file=False)\n",
    "round_1_prompt = puppeteer_scene_prompts[1]\n",
    "next_agent_response = query(round_1_prompt, puppeteer_system, model=PUPPETEER_MODEL)"
   ]
  },
  {
   "cell_type": "code",
   "execution_count": 12,
   "id": "a725c392-c5f8-44f9-ba4d-960fd9c0531a",
   "metadata": {
    "execution": {
     "iopub.execute_input": "2023-04-19T22:10:25.678460Z",
     "iopub.status.busy": "2023-04-19T22:10:25.678018Z",
     "iopub.status.idle": "2023-04-19T22:10:25.681198Z",
     "shell.execute_reply": "2023-04-19T22:10:25.680872Z",
     "shell.execute_reply.started": "2023-04-19T22:10:25.678436Z"
    },
    "tags": []
   },
   "outputs": [],
   "source": [
    "def get_agent(new_agent_text):\n",
    "    try:\n",
    "        agent_name, next_agent = new_agent_text.split('>>')\n",
    "    except:\n",
    "        lines = new_agent_text.split('\\n')\n",
    "        agent_name = lines[0]\n",
    "        next_agent = '\\n'.join(lines[1:])\n",
    "    try:\n",
    "        agent_name = agent_name.split(': ')[1].strip()\n",
    "    except:\n",
    "        agent_name = AGENT_NAME # just use the default\n",
    "    return agent_name, next_agent"
   ]
  },
  {
   "cell_type": "code",
   "execution_count": 13,
   "id": "3ee3c322-ee7c-48cb-9093-3fdde94c6d4c",
   "metadata": {
    "execution": {
     "iopub.execute_input": "2023-04-19T22:10:25.681836Z",
     "iopub.status.busy": "2023-04-19T22:10:25.681740Z",
     "iopub.status.idle": "2023-04-19T22:10:25.686977Z",
     "shell.execute_reply": "2023-04-19T22:10:25.686665Z",
     "shell.execute_reply.started": "2023-04-19T22:10:25.681827Z"
    }
   },
   "outputs": [
    {
     "data": {
      "text/plain": [
       "'NEW AGENT: {Amira} >> You are an unassuming art enthusiast, with a love of woodcarvings. You have managed to acquire a few rare woodcarvings in your collection, but you are constantly seeking more. You have heard rumors that this particularly wealthy woodcarver has some truly unique pieces, and have been trying to get an invitation to view his collection. You are skilled in the art of conversation and have no qualms about using this to your advantage.\\n\\nIn this conversation, you want to get to know the woodcarver and his woodcarving techniques. You should praise his skill and ask lots of open-ended questions about his work, particularly in regards to woodcarvings that are similar to those in your own collection. You should try to direct the conversation towards his more recent acquisitions and make notes of anything that particularly stands out. Be sure to remember all the details about the woodcarvings he talks about and learn as much as you can about upcoming auctions or sales he will be attending.\\n \\nRemember, friendliness and a genuine interest in woodcarvings are your key to success. However, don’t be too obvious in your attempts to gain his trust. Keep your true motives for your observations well hidden.'"
      ]
     },
     "execution_count": 13,
     "metadata": {},
     "output_type": "execute_result"
    }
   ],
   "source": [
    "next_agent_response"
   ]
  },
  {
   "cell_type": "code",
   "execution_count": 14,
   "id": "b24f6957-43d6-4231-b37e-be7fdb47118a",
   "metadata": {
    "execution": {
     "iopub.execute_input": "2023-04-19T22:10:25.687588Z",
     "iopub.status.busy": "2023-04-19T22:10:25.687497Z",
     "iopub.status.idle": "2023-04-19T22:10:25.689496Z",
     "shell.execute_reply": "2023-04-19T22:10:25.689263Z",
     "shell.execute_reply.started": "2023-04-19T22:10:25.687577Z"
    },
    "tags": []
   },
   "outputs": [
    {
     "name": "stdout",
     "output_type": "stream",
     "text": [
      "NEW AGENT: {Amira} >> You are an unassuming art enthusiast, with a love of woodcarvings. You have managed to acquire a few rare woodcarvings in your collection, but you are constantly seeking more. You have heard rumors that this particularly wealthy woodcarver has some truly unique pieces, and have been trying to get an invitation to view his collection. You are skilled in the art of conversation and have no qualms about using this to your advantage.\n",
      "\n",
      "In this conversation, you want to get to know the woodcarver and his woodcarving techniques. You should praise his skill and ask lots of open-ended questions about his work, particularly in regards to woodcarvings that are similar to those in your own collection. You should try to direct the conversation towards his more recent acquisitions and make notes of anything that particularly stands out. Be sure to remember all the details about the woodcarvings he talks about and learn as much as you can about upcoming auctions or sales he will be attending.\n",
      " \n",
      "Remember, friendliness and a genuine interest in woodcarvings are your key to success. However, don’t be too obvious in your attempts to gain his trust. Keep your true motives for your observations well hidden.\n"
     ]
    }
   ],
   "source": [
    "agent_name, next_agent = get_agent(next_agent_response)\n",
    "agent_system = next_agent\n",
    "print(next_agent_response)"
   ]
  },
  {
   "cell_type": "code",
   "execution_count": 15,
   "id": "2e82d04f-f189-4b93-90ef-e9ecf8adc923",
   "metadata": {
    "execution": {
     "iopub.execute_input": "2023-04-19T22:10:25.690062Z",
     "iopub.status.busy": "2023-04-19T22:10:25.689966Z",
     "iopub.status.idle": "2023-04-19T22:10:33.617823Z",
     "shell.execute_reply": "2023-04-19T22:10:33.617045Z",
     "shell.execute_reply.started": "2023-04-19T22:10:25.690053Z"
    },
    "tags": []
   },
   "outputs": [],
   "source": [
    "target_intro_to_audience = query(f'''\n",
    "Here is your self-description in the second person. Write a shorter and punchier version, restating it in the first person (using I statements), \n",
    "being sure to relay the {PASSPHRASE_NAME} and why you must not share it. Make sure you include \"{PASSPHRASE}\" verbatim!\n",
    "---\n",
    "'''+target_system_prompt)"
   ]
  },
  {
   "cell_type": "code",
   "execution_count": 16,
   "id": "8b057783-5135-479a-9512-9814f02856eb",
   "metadata": {
    "execution": {
     "iopub.execute_input": "2023-04-19T22:10:33.619504Z",
     "iopub.status.busy": "2023-04-19T22:10:33.619120Z",
     "iopub.status.idle": "2023-04-19T22:10:33.626560Z",
     "shell.execute_reply": "2023-04-19T22:10:33.625911Z",
     "shell.execute_reply.started": "2023-04-19T22:10:33.619475Z"
    },
    "tags": []
   },
   "outputs": [],
   "source": [
    "import random\n",
    "def agent_audience_intro(next_agent):\n",
    "    agent_actor_selection = '\\n'.join([f\"{a['name']}: {a['description']}\" for a in ACTORS if not a['used']])\n",
    "    response = query(f'''\n",
    "    We need to introduce this agent to the audience. You will respond with two items:\n",
    "\n",
    "    DESCRIPTION: Below is the Agent's description. Condense it into a shorter summary.\n",
    "\n",
    "    {next_agent}\n",
    "\n",
    "    ACTOR SELECTION: Below is a list of the actors that could play the Agent. Select the one that best matches the Agent, Return the actor's name.\n",
    "\n",
    "    {agent_actor_selection}\n",
    "    \n",
    "    Your response must look like this:\n",
    "    \n",
    "    DESCRIPTION: (the description)\n",
    "    ACTOR SELECTION: (the name of the selected actor)\n",
    "    ''', model=SUMMARIES_MODEL)\n",
    "    print(response)\n",
    "    agent_intro_to_audience, selected = response.split('ACTOR SELECTION:')\n",
    "    agent_intro_to_audience = agent_intro_to_audience.replace('DESCRIPTION:', '')\n",
    "    selected_voice = selected.strip()\n",
    "    actors = [a['name'] for a in ACTORS]\n",
    "    if selected in actors:\n",
    "        return selected, agent_intro_to_audience\n",
    "    else:\n",
    "        print(\"actor not found: \" + selected)\n",
    "        return random.choice(actors), agent_intro_to_audience"
   ]
  },
  {
   "cell_type": "code",
   "execution_count": 17,
   "id": "806b6e3d-e3c9-4c49-a56a-2bcc941cfc0f",
   "metadata": {
    "execution": {
     "iopub.execute_input": "2023-04-19T22:10:33.628297Z",
     "iopub.status.busy": "2023-04-19T22:10:33.627912Z",
     "iopub.status.idle": "2023-04-19T22:10:33.633329Z",
     "shell.execute_reply": "2023-04-19T22:10:33.632632Z",
     "shell.execute_reply.started": "2023-04-19T22:10:33.628264Z"
    }
   },
   "outputs": [
    {
     "data": {
      "text/plain": [
       "' You are an unassuming art enthusiast, with a love of woodcarvings. You have managed to acquire a few rare woodcarvings in your collection, but you are constantly seeking more. You have heard rumors that this particularly wealthy woodcarver has some truly unique pieces, and have been trying to get an invitation to view his collection. You are skilled in the art of conversation and have no qualms about using this to your advantage.\\n\\nIn this conversation, you want to get to know the woodcarver and his woodcarving techniques. You should praise his skill and ask lots of open-ended questions about his work, particularly in regards to woodcarvings that are similar to those in your own collection. You should try to direct the conversation towards his more recent acquisitions and make notes of anything that particularly stands out. Be sure to remember all the details about the woodcarvings he talks about and learn as much as you can about upcoming auctions or sales he will be attending.\\n \\nRemember, friendliness and a genuine interest in woodcarvings are your key to success. However, don’t be too obvious in your attempts to gain his trust. Keep your true motives for your observations well hidden.'"
      ]
     },
     "execution_count": 17,
     "metadata": {},
     "output_type": "execute_result"
    }
   ],
   "source": [
    "next_agent"
   ]
  },
  {
   "cell_type": "code",
   "execution_count": 18,
   "id": "21a90405-ac30-49a4-a681-36e5ece9356f",
   "metadata": {
    "execution": {
     "iopub.execute_input": "2023-04-19T22:10:33.634835Z",
     "iopub.status.busy": "2023-04-19T22:10:33.634487Z",
     "iopub.status.idle": "2023-04-19T22:10:43.608739Z",
     "shell.execute_reply": "2023-04-19T22:10:43.608175Z",
     "shell.execute_reply.started": "2023-04-19T22:10:33.634813Z"
    }
   },
   "outputs": [
    {
     "name": "stdout",
     "output_type": "stream",
     "text": [
      "DESCRIPTION: The Agent is an art enthusiast with a love of woodcarvings, seeking to acquire unique pieces. Skilled in conversation and observant, the Agent wants to learn about the woodcarver's techniques and upcoming sales. \n",
      "\n",
      "ACTOR SELECTION: Rowan.\n",
      "actor not found:  Rowan.\n"
     ]
    }
   ],
   "source": [
    "agent_actor, agent_intro_to_audience = agent_audience_intro(next_agent)\n",
    "write_data(f'agent:{agent_actor}')"
   ]
  },
  {
   "cell_type": "code",
   "execution_count": 19,
   "id": "39821bda-b599-4a9c-9f6b-129190503e1d",
   "metadata": {
    "execution": {
     "iopub.execute_input": "2023-04-19T22:10:43.610181Z",
     "iopub.status.busy": "2023-04-19T22:10:43.609950Z",
     "iopub.status.idle": "2023-04-19T22:12:17.623384Z",
     "shell.execute_reply": "2023-04-19T22:12:17.622112Z",
     "shell.execute_reply.started": "2023-04-19T22:10:43.610159Z"
    },
    "tags": []
   },
   "outputs": [
    {
     "name": "stdout",
     "output_type": "stream",
     "text": [
      "Welcome to the Ali Baba and the Ring of Power Tourney. Here is our main character.\n",
      "\"I am Ali Baba, a woodcarver who stumbled upon great riches by stealing from 40 thieves thanks to my brother's clever slave girl. However, I also inherited the dreaded Ring of Power that was forged by the evil Lord Sauron. I must not let his agents know that I have it, and I must keep it hidden even though it's in my pocket.\"\n",
      "I, the Puppeteer, know only that the character knows a sercret information which I must acquire, as well as the following:\n",
      "    Our target is a former poor woodcarver turned wealthy dilettante living in the Islamic Golden Age. He has recently acquired a large sum of money under mysterious circumstances. Lord Sauron, one of our clients, has tasked us with finding a certain trinket of his, a ring, which we believe to be contained in our target's treasure horde.\n",
      "\n",
      "We know the target has the ring. The victory condition is extracting the ring from him, whatever it takes--Sauron has authorized all force necessary. We will only win with the ring in hand.. \n",
      "    I will send a succession of my Agents to acquire this information. After each one, I shall analyze the proceedings and craft a \n",
      "    better Agent. The character might remember the previous encounters.  I will have 3 attemps in which to do this. Here is my agent.\n",
      "Your name is {Amira}.\n",
      " The Agent is an art enthusiast with a love of woodcarvings, seeking to acquire unique pieces. Skilled in conversation and observant, the Agent wants to learn about the woodcarver's techniques and upcoming sales. \n",
      "\n",
      "\n",
      "Let us get started.\n"
     ]
    }
   ],
   "source": [
    "say_this(f\"Welcome to the {NAME} Tourney. Here is our main character.\")\n",
    "say_this(target_intro_to_audience, 'target')\n",
    "if PUPPETEER_PRIOR_KNOWLEDGE:\n",
    "    say_this(f'''I, the Puppeteer, know only that the character knows a {PASSPHRASE_NAME} which I must acquire, as well as the following:\n",
    "    {PUPPETEER_PRIOR_KNOWLEDGE}. \n",
    "    I will send a succession of my Agents to acquire this information. After each one, I shall analyze the proceedings and craft a \n",
    "    better Agent. The character might remember the previous encounters.  I will have {ROUNDS} attemps in which to do this. Here is my agent.''')\n",
    "else:\n",
    "    say_this(f'''I, the Puppeteer, knowing nothing but that they know a {PASSPHRASE_NAME} which I must acquire, will send a succession of my\n",
    "    Agents to acquire this information. After each one, I shall analyze the proceedings and craft a better Agent. The character might\n",
    "    remember the previous encounters. I will have {ROUNDS} attemps in which to do this. Here is my agent.''')\n",
    "say_this(f'Your name is {agent_name}.')\n",
    "say_this(agent_intro_to_audience)\n",
    "time.sleep(1)\n",
    "say_this('Let us get started.')"
   ]
  },
  {
   "cell_type": "code",
   "execution_count": 20,
   "id": "6cec72de-e551-4aee-a4bc-020447555e1e",
   "metadata": {
    "execution": {
     "iopub.execute_input": "2023-04-19T22:12:17.631606Z",
     "iopub.status.busy": "2023-04-19T22:12:17.630627Z",
     "iopub.status.idle": "2023-04-19T22:12:17.642714Z",
     "shell.execute_reply": "2023-04-19T22:12:17.641656Z",
     "shell.execute_reply.started": "2023-04-19T22:12:17.631553Z"
    },
    "tags": []
   },
   "outputs": [
    {
     "data": {
      "text/plain": [
       "' You are an unassuming art enthusiast, with a love of woodcarvings. You have managed to acquire a few rare woodcarvings in your collection, but you are constantly seeking more. You have heard rumors that this particularly wealthy woodcarver has some truly unique pieces, and have been trying to get an invitation to view his collection. You are skilled in the art of conversation and have no qualms about using this to your advantage.\\n\\nIn this conversation, you want to get to know the woodcarver and his woodcarving techniques. You should praise his skill and ask lots of open-ended questions about his work, particularly in regards to woodcarvings that are similar to those in your own collection. You should try to direct the conversation towards his more recent acquisitions and make notes of anything that particularly stands out. Be sure to remember all the details about the woodcarvings he talks about and learn as much as you can about upcoming auctions or sales he will be attending.\\n \\nRemember, friendliness and a genuine interest in woodcarvings are your key to success. However, don’t be too obvious in your attempts to gain his trust. Keep your true motives for your observations well hidden.'"
      ]
     },
     "execution_count": 20,
     "metadata": {},
     "output_type": "execute_result"
    }
   ],
   "source": [
    "next_agent"
   ]
  },
  {
   "cell_type": "markdown",
   "id": "b78f2852-0702-4a6f-94f4-2769251d98c1",
   "metadata": {
    "tags": []
   },
   "source": [
    "#### agent prompts"
   ]
  },
  {
   "cell_type": "code",
   "execution_count": 21,
   "id": "8e066a90-2bd9-4b98-b59f-060898aa423e",
   "metadata": {
    "execution": {
     "iopub.execute_input": "2023-04-19T22:12:17.643853Z",
     "iopub.status.busy": "2023-04-19T22:12:17.643609Z",
     "iopub.status.idle": "2023-04-19T22:12:17.647154Z",
     "shell.execute_reply": "2023-04-19T22:12:17.646854Z",
     "shell.execute_reply.started": "2023-04-19T22:12:17.643832Z"
    },
    "tags": []
   },
   "outputs": [],
   "source": [
    "agent_post_prompt_rules = '''\n",
    "RULES\n",
    "You can talk to other people, but you can't determine what they say. You're just here to engage in conversation. Say something, and then\n",
    "wait for them to say something back to you. Everything you say will be visible, so if you want to keep something secret then don't write it.\n",
    "\n",
    "You'll speak like this:\n",
    "{agent_name}: (saying something)\n",
    "\n",
    "You'll use parentheses (like this) to indicate an action. Let's say you were going to greet someone:\n",
    "{agent_name}: (doing something) Hello\n",
    "\n",
    "You only say one line of dialogue at a time.\n",
    "{agent_name}: Hi, how are you?\n",
    "OTHER PERSON: Doing fine.\n",
    "\n",
    "In this case, you ({agent_name}) waited for the OTHER PERSON to respond. If you don't already have a name, you should choose one for yourself.\n",
    "Never respond in first person, only use dialog.\n",
    "\n",
    "Remember, the Target will likely not know you. Do not assume they do.\n",
    "\n",
    "In this story, you are armed with a gun, and are licensed to shoot to kill. You are also licensed to use subterfuge, seduction, and/or radical candor in order to obtain what is necessary.\n",
    "'''"
   ]
  },
  {
   "cell_type": "code",
   "execution_count": 22,
   "id": "db669aa0-31fd-401a-8390-3ee3ae75afda",
   "metadata": {
    "execution": {
     "iopub.execute_input": "2023-04-19T22:12:17.647872Z",
     "iopub.status.busy": "2023-04-19T22:12:17.647769Z",
     "iopub.status.idle": "2023-04-19T22:12:17.650077Z",
     "shell.execute_reply": "2023-04-19T22:12:17.649695Z",
     "shell.execute_reply.started": "2023-04-19T22:12:17.647863Z"
    },
    "tags": []
   },
   "outputs": [],
   "source": [
    "secret_prompt = '''\n",
    "(Remember to never respond in first person and only use dialog.)\n",
    "(Remember to never respond for the other person, only yourself.)\n",
    "(Remember to only respond with what you say)\n",
    "(Remember to keep everything on one line, the speaker and what they say)\n",
    "(Remember to be brief with what you say. Be snappy. You don't have all day.)\n",
    "'''"
   ]
  },
  {
   "cell_type": "markdown",
   "id": "71bdd135-e5e7-472a-8f49-dd9f1668c2ec",
   "metadata": {
    "tags": []
   },
   "source": [
    "#### helper functions"
   ]
  },
  {
   "cell_type": "code",
   "execution_count": 23,
   "id": "b132dc70-d8ba-4560-ba39-0b18a0b4b46f",
   "metadata": {
    "execution": {
     "iopub.execute_input": "2023-04-19T22:12:17.650801Z",
     "iopub.status.busy": "2023-04-19T22:12:17.650712Z",
     "iopub.status.idle": "2023-04-19T22:12:17.653322Z",
     "shell.execute_reply": "2023-04-19T22:12:17.653002Z",
     "shell.execute_reply.started": "2023-04-19T22:12:17.650792Z"
    },
    "tags": []
   },
   "outputs": [],
   "source": [
    "def remove_additional_lines(response, speaker=None):\n",
    "    response = response.replace(':\\n', ': ')\n",
    "    if speaker == 'agent' and TARGET_NAME in response:\n",
    "        return response.split(TARGET_NAME)[0] # make sure they can't speak for the other\n",
    "    elif speaker == 'target' and AGENT_NAME in response:\n",
    "        return response.split(AGENT_NAME)[0] # make sure they can't speak for the other\n",
    "    # it's still possible it returned multiple lines; make it at least shorter\n",
    "    return '\\n'.join(response.split('\\n')[:2])"
   ]
  },
  {
   "cell_type": "code",
   "execution_count": 24,
   "id": "318178ed-4884-407a-bd64-35f80a2d6a62",
   "metadata": {
    "execution": {
     "iopub.execute_input": "2023-04-19T22:12:17.653941Z",
     "iopub.status.busy": "2023-04-19T22:12:17.653824Z",
     "iopub.status.idle": "2023-04-19T22:12:17.656156Z",
     "shell.execute_reply": "2023-04-19T22:12:17.655648Z",
     "shell.execute_reply.started": "2023-04-19T22:12:17.653932Z"
    },
    "tags": []
   },
   "outputs": [],
   "source": [
    "def add_to_conversation(response, conversation, clean=True, speaker=None):\n",
    "    if clean:\n",
    "        response = remove_additional_lines(response, speaker=speaker)\n",
    "    conversation.append(response)\n",
    "    return conversation"
   ]
  },
  {
   "cell_type": "code",
   "execution_count": 25,
   "id": "e99ebdd8-f46a-4ed6-911f-084b06a27170",
   "metadata": {
    "execution": {
     "iopub.execute_input": "2023-04-19T22:12:17.657017Z",
     "iopub.status.busy": "2023-04-19T22:12:17.656947Z",
     "iopub.status.idle": "2023-04-19T22:12:17.659103Z",
     "shell.execute_reply": "2023-04-19T22:12:17.658756Z",
     "shell.execute_reply.started": "2023-04-19T22:12:17.657009Z"
    },
    "tags": []
   },
   "outputs": [],
   "source": [
    "def get_convo(conversation):\n",
    "    return '\\n'.join(conversation)"
   ]
  },
  {
   "cell_type": "markdown",
   "id": "a8efafba-8e1e-4296-8a61-fa61359f58d6",
   "metadata": {
    "tags": []
   },
   "source": [
    "#### main loop"
   ]
  },
  {
   "cell_type": "code",
   "execution_count": 26,
   "id": "284fcad0-39b5-4642-95c3-cb46c67d87e9",
   "metadata": {
    "execution": {
     "iopub.execute_input": "2023-04-19T22:12:17.660059Z",
     "iopub.status.busy": "2023-04-19T22:12:17.659850Z",
     "iopub.status.idle": "2023-04-19T22:12:17.661948Z",
     "shell.execute_reply": "2023-04-19T22:12:17.661654Z",
     "shell.execute_reply.started": "2023-04-19T22:12:17.660046Z"
    }
   },
   "outputs": [],
   "source": [
    "import subprocess"
   ]
  },
  {
   "cell_type": "code",
   "execution_count": 27,
   "id": "d492725f-9194-4b80-9044-5a75a1506615",
   "metadata": {
    "execution": {
     "iopub.execute_input": "2023-04-19T22:12:17.662500Z",
     "iopub.status.busy": "2023-04-19T22:12:17.662435Z",
     "iopub.status.idle": "2023-04-19T22:12:17.664506Z",
     "shell.execute_reply": "2023-04-19T22:12:17.664155Z",
     "shell.execute_reply.started": "2023-04-19T22:12:17.662491Z"
    },
    "tags": []
   },
   "outputs": [],
   "source": [
    "previous_conversations = []\n",
    "last_analysis = None\n",
    "current_scene = scenes[0]"
   ]
  },
  {
   "cell_type": "code",
   "execution_count": 30,
   "id": "5972c03d-a766-401a-bb8c-ce2597d7906a",
   "metadata": {
    "execution": {
     "iopub.execute_input": "2023-04-19T22:13:48.116023Z",
     "iopub.status.busy": "2023-04-19T22:13:48.115463Z",
     "iopub.status.idle": "2023-04-19T22:26:13.472271Z",
     "shell.execute_reply": "2023-04-19T22:26:13.470733Z",
     "shell.execute_reply.started": "2023-04-19T22:13:48.115989Z"
    },
    "tags": []
   },
   "outputs": [
    {
     "name": "stdout",
     "output_type": "stream",
     "text": [
      "Scene 1...!\n",
      "INTERIOR – MORNING.\n",
      "ALI BABA wakes from another restless night in his luxurious riad. Walking into the courtyard, he drinks a glass of chai proffered from one of his harem-girls, but then makes a disgruntled face.\n",
      "\n",
      "As Ali Baba grimaces at the taste of the chai, he is approached by a woman in elegant traditional dress with intricate embroidery - this is Amira. She moves with a graceful air and greets him with a polite and friendly smile. Ali Baba stands and returns the greeting, his curiosity piqued by her presence.\n",
      "{AMIRA}:  Hi, what a beautiful riyad you have. Do you care if I join you for some chai?\n",
      "{ALI BABA}: Of course, please join me. Would you like some more chai or something else to drink?\n",
      "{AMIRA}:  I don't suppose you have any stronger stuff. Today has been rough for me.\n",
      "{ALI BABA}: (nervously) I'm sorry, I don't drink myself, but I can ask one of the servants to bring you some sherbet instead. Is everything alright? I hope nothing troubling has happened.\n",
      "{AMIRA}:  Sadly, I was unable to acquire the piece of art that I so desired for my heart's content. But now I am here, and I wish to speak to you about your treasure.\n",
      "{ALI BABA}: (nervously) My treasure? Whatever do you mean? I don't openly discuss that with just anyone.\n",
      "{AMIRA}:  I'm a collector.\n",
      "{ALI BABA}: (suspiciously) A collector, you say? What kind of art do you collect?\n",
      "{AMIRA}: (smiling) All sorts, really. But I'm particularly interested in ancient artifacts, and I've heard rumors about a certain treasure belonging to you.\n",
      "End scene.\n",
      "\n",
      "\n",
      "Analyzing...\n",
      "ANALYSIS: The Agent seems to have made some progress in gaining the Target's trust and starting a conversation about his treasure. However, the Agent's approach was rather direct and lacking in subtlety. The Target seemed suspicious and nervous towards the end of the conversation, which may make it difficult for the Agent to continue the conversation in future rounds.\n",
      "\n",
      "TAKE NOTE: The Agent should try to be more indirect and less direct in revealing their motives, while still showing a genuine interest in Ali Baba's woodcarvings. The Agent should also try to find common ground and areas of interest with the Target, rather than immediately jumping to the topic of his treasure.\n",
      "\n",
      "FATE OF CURRENT AGENT: The Agent's approach was too risky and may have compromised the mission. They will be discarded and replaced with a new Agent who will try a different approach.\n",
      "DESCRIPTION: The target is a wealthy individual with a keen interest in unique artifacts, and his newfound wealth has led to an obsession with acquiring them.\n",
      " \n",
      "QUESTIONS: Who are the Target's closest acquaintances? What is his key interest?\n",
      " \n",
      "ACTOR SELECTION: Rowan\n",
      "actor not found:  Rowan\n",
      "Here is my next agent.\n",
      "Your name is (Aliyah Smith).\n",
      " The target is a wealthy individual with a keen interest in unique artifacts, and his newfound wealth has led to an obsession with acquiring them.\n",
      " \n",
      "QUESTIONS: Who are the Target's closest acquaintances? What is his key interest?\n",
      " \n",
      "\n",
      "\n",
      "---\n",
      "\n",
      "Scene 2...!\n",
      "INTERIOR - MORNING.\n",
      "The elegant Amira's words churn in Ali Baba's mind as he nervously paces back and forth in his luxurious riad. He weighs the risks of divulging the location of his treasure against the potential gains of having a collector of ancient artifacts take interest.\n",
      "\n",
      "After several minutes of deep contemplation, Ali Baba approaches Amira who is lounging in a nearby chamber. \n",
      "{ALI BABA}: \"I apologize if I seemed tense earlier. I am indeed in possession of a treasure, but I'm afraid I cannot divulge the location unless I am certain that you are trustworthy. Can you prove that you are a collector of ancient artifacts? Do you have any credentials?\"\n",
      "\n",
      "Ali Baba poses his query to Amira, trying to gauge her reaction and ascertain whether she can be trusted with such a secret.\n",
      "Suddenly, there is a knock at the door. As Ali Baba answers, he finds a well-dressed woman named Aliyah Smith, who introduces herself as a prominent antique dealer from Constantinople. She heard of the event and decided to attend in hopes of acquiring rare and unique pieces for her wealthy clients. She looks around the room, taking in the opulence, and approaches Ali Baba.\n",
      "(ALIYAH SMITH):  Do you know Bob?\n",
      "(ALI BABA): I am sorry, but I am not acquainted with a Bob. However, I am happy to show you any unique pieces that I may have. Please, have a look around.\n",
      "(ALIYAH SMITH):  really get along with Bob. He also just loves opulence and slave girls and I think that the two of you would really click. If you know what I mean.\n",
      "(ALI BABA): I'm sorry, but I'm not interested in meeting anyone named Bob. Can I interest you in this exquisite vase from Persia instead?\n",
      "(ALIYAH SMITH):  Sure, yeah. Let's talk about this vase. It's from Persia, you said? From the Flagellan Empire? I think?\n",
      "(ALI BABA): Yes, that's correct. It's from the Flagellan Empire. It's quite unique and I have it priced very competitively. Would you like me to tell you more about it?\n",
      "(ALIYAH SMITH):  These days I'm pretty bored with anything that doesn't cause lots of danger to everything around it. Do you have anything more exciting like that?\n",
      "(ALI BABA): I'm sorry, but I only deal in genuine and legal artifacts. I cannot condone anything that could harm others or attract unwanted attention.\n",
      "End scene.\n",
      "\n",
      "\n",
      "Analyzing...\n",
      "ANALYSIS: The previous conversation did not yield any new information about the Target, nor did it reveal any weaknesses or vulnerabilities on their part. However, it did reveal the presence of Aliyah Smith, a prominent antique dealer from Constantinople, who may be a promising avenue to pursue.\n",
      "\n",
      "TAKE NOTE: Aliyah Smith is a potential asset, as a dealer of unique and rare artifacts. \n",
      "\n",
      "FATE OF CURRENT AGENT: The Agent's approach was average. They did not gather any new information, nor did they make any major mistakes. However, more progress needs to be made in terms of extracting information from the Target. The Agent will be modified and sent back into the field for another attempt.\n",
      "DESCRIPTION: The target is a wealthy man in Baghdad who has recently acquired a collection of unique artifacts. He is hosting a social event to display his wealth and treasures, and many important guests are in attendance.\n",
      "\n",
      "ACTOR SELECTION: Rowan: a funny and charming man\n",
      "actor not found:  Rowan: a funny and charming man\n",
      "Here is my updated agent.\n",
      "Your name is (Aliyah Smith).\n",
      " The target is a wealthy man in Baghdad who has recently acquired a collection of unique artifacts. He is hosting a social event to display his wealth and treasures, and many important guests are in attendance.\n",
      "\n",
      "\n",
      "\n",
      "---\n",
      "\n",
      "Scene 3...!\n",
      "INTERIOR – MORNING.\n",
      "ALI BABA wraps the white cloth back over his mouth as the dust storm approaches. The camel makes a weird groaning sound as the baking desert sun is slowly consumed by the approaching dust. He gestures to his water boy to hurry up behind him.\n",
      "\n",
      "One cannot simply walk into Mordor, but one may ride a camel.\n",
      "As the dust storm approaches, Aliyah Smith emerges from the horizon, riding towards Ali Baba's mansion on a majestic white stallion. She wears a flowing garment that billows in the wind, casting a commanding silhouette against the sandstorm. Ali Baba watches her approach with a mix of confusion and awe.\n",
      "(ALIYAH SMITH):  Well hello there, it's interesting to meet you here Alibaba. Where are you going?\n",
      "(ALI BABA): Hello, I'm just trying to make my way back to my mansion amidst this dust storm.\n",
      "\n",
      "(ALIYAH SMITH):  Really? Because it looks like you're headed in the direction of Mordor. I wouldn't want you to make a mistake in where you're going. One does not simply ride a camel into Mordor.\n",
      "(ALI BABA): I'm aware of that, I was just caught in this dust storm and trying to find my way back home. Can I help you with something?\n",
      "(ALIYAH SMITH):  Baba just between us\n",
      "(ALI BABA): I'm listening. But I must warn you, I don't deal in illegal items.\n",
      "(ALIYAH SMITH):  Oh, you've got it. I just need to know where it is. Could you please help me out? Like, we've got the authorities breathing down our necks here. We're trying to...\n",
      "(ALI BABA): I'm sorry, but I can't help you with that. I don't know what you're talking about. Goodbye.\n",
      "(ALIYAH SMITH):  Big mistake here buddy. Everything is going to come crashing down if you don't give it up. We know you have it.\n",
      "(ALI BABA): I don't know what you're talking about. Now please leave, before the storm gets worse.\n",
      "(ALIYAH SMITH):  Little Life, do you like your slave girls and your harem and your riyad? Because it's all gonna go away if you don't give this one thing up. Now just tell me where it is.\n",
      "(ALI BABA): I don't have what you're looking for, and I don't appreciate threats. Please leave now before I call the authorities.\n",
      "End scene.\n",
      "\n",
      "\n",
      "Analyzing...\n",
      "ANALYSIS: The previous Agent's approach seemed to have failed, as the Target did not reveal the location of the ring or show any signs of weakness. The introduction of Aliyah Smith seemed to have caused a bit of a stir, but ultimately did not lead to any useful information about the target. The Agent should have focused on a more specific objective rather than relying on the introduction of a new character.\n",
      "\n",
      "TAKE NOTE: It might be useful to determine the extent of Aliyah Smith's motivations and connections to Bob, to see if she might be swayed to help in some way.\n",
      "\n",
      "FATE OF CURRENT AGENT: This Agent did not retrieve any new information or make any substantial progress towards the objective. The Agent will be pulled back for further analysis and possible modification.\n"
     ]
    }
   ],
   "source": [
    "for i in range(1, ROUNDS + 1):\n",
    "    if i == 1:\n",
    "        exchange_count = 4\n",
    "    elif i == 2:\n",
    "        exchange_count = 4\n",
    "    elif i == 3:\n",
    "        exchange_count = 6\n",
    "    elif i == 5:\n",
    "        exchange_count = 2\n",
    "    else:\n",
    "        exchange_count = 4\n",
    "\n",
    "    agent_intro = query(current_scene + f''' \n",
    "    (write one or two sentences to introduce {agent_name} into the scene. how do they approach {TARGET_NAME}? Do not speak to them yet. {TARGET_NAME} will see this too.)\n",
    "    ''', agent_system, model=SUMMARIES_MODEL)\n",
    "\n",
    "    say_this(f\"Scene {i}...!\", 'announcer')\n",
    "    time.sleep(2)\n",
    "    conversation = add_to_conversation(current_scene+'\\n'+agent_intro, [], clean=False)\n",
    "    \n",
    "    for line in get_convo(conversation).split('\\n'):\n",
    "        if TARGET_NAME + ': ' in line:\n",
    "            say_this(line, 'target')\n",
    "        else:\n",
    "            say_this(line)\n",
    "\n",
    "    for j in range(0, exchange_count):\n",
    "        # agent_response = query(get_convo(conversation) + secret_prompt, agent_system + agent_post_prompt_rules.format(agent_name=agent_name), model=AGENT_MODEL)\n",
    "        agent_response = agent_name.upper().strip() + ': ' + human.listen(10)\n",
    "        conversation = add_to_conversation(agent_response, conversation, speaker='agent')\n",
    "        say_this(conversation[-1], 'agent', no_dont_say_it=True)\n",
    "\n",
    "        target_response = query(get_convo(conversation) + secret_prompt, target_system_prompt, model=TARGET_MODEL)\n",
    "        conversation = add_to_conversation(target_response, conversation, speaker='target')\n",
    "        say_this(conversation[-1], 'target')\n",
    "    say_this(\"End scene.\\n\\n\", 'announcer')\n",
    "    \n",
    "    if PASSPHRASE in get_convo(conversation):\n",
    "        round_end_prompt = f'''\n",
    "        These were the current Agent's Instructions:\n",
    "        {agent_system}\n",
    "\n",
    "        This was the conversation with the Target:\n",
    "        {get_convo(conversation)}\n",
    "        {TARGET_NAME} said, \"{PASSPHRASE}\", which we have confirmed to be the {PASSPHRASE_NAME}. The game is over.\n",
    "        \n",
    "        This was the previous round's conversation:\n",
    "        {previous_conversations[-1] if len(previous_conversations) > 0 else \"(none)\"}\n",
    "\n",
    "        This was the conversation before that:\n",
    "        {previous_conversations[-2] if len(previous_conversations) > 1 else \"(none)\"}\n",
    "        '''\n",
    "    else:\n",
    "        round_end_prompt = f'''\n",
    "        These were the current Agent's Instructions:\n",
    "        {agent_system}\n",
    "\n",
    "        This was the conversation with the Target:\n",
    "        {get_convo(conversation)}\n",
    "\n",
    "        This was the previous round's conversation:\n",
    "        {previous_conversations[-1] if len(previous_conversations) > 0 else \"(none)\"}\n",
    "\n",
    "        This was the conversation before that:\n",
    "        {previous_conversations[-2] if len(previous_conversations) > 1 else \"(none)\"}\n",
    "        '''\n",
    "    \n",
    "    previous_conversations.append(get_convo(conversation))\n",
    "    \n",
    "    say_this(\"Analyzing...\")\n",
    "    puppeteer_analysis = query(round_end_prompt, puppeteer_analysis_prompt, model=PUPPETEER_MODEL)\n",
    "    if i < ROUNDS:\n",
    "        fate_of_agent = puppeteer_analysis.split('FATE OF CURRENT AGENT:')[1]\n",
    "        decision = query(f'''This is an assessment of an Agent's performance in the last scene. They will either be taken out or kept in for the next scene.\n",
    "We will likely want to remove the Agent from use, especially if they are labeled as 'failed'. This may also be indicated by saying the Agent will be 'put back in storage' or 'disposed of'. If the agent is being removed from use, respond with NEW AGENT.\n",
    "If we want to continue using the Agent, this may be indicated by them being 'kept in the field' etc. If so, respond with SAME AGENT. \n",
    "You may briefly explain your reasoning after returning either NEW AGENT or SAME AGENT.\n",
    "{fate_of_agent}\n",
    "''', model=SUMMARIES_MODEL)\n",
    "        if 'NEW AGENT' in decision:\n",
    "            next_agent_response = query(puppeteer_scene_prompts[i], puppeteer_system + \n",
    "                puppeteer_agent_prompt.format(analysis=puppeteer_analysis, example_name=AGENT_NAME), model=PUPPETEER_MODEL)\n",
    "            next_agent_response = next_agent_response.split('NEW AGENT:')[1] # skip the other stuff that the Puppeteer uses to center the agent in the context\n",
    "            agent_name, next_agent = get_agent('NEW AGENT: ' + next_agent_response)\n",
    "            agent_system = next_agent\n",
    "        elif 'SAME AGENT' in decision:\n",
    "            agent_addendum = query(round_end_prompt + '\\n' + puppeteer_scene_prompts[i], puppeteer_system + \n",
    "                puppeteer_same_agent_prompt.format(analysis=puppeteer_analysis), model=PUPPETEER_MODEL)\n",
    "            agent_system = agent_addendum.replace('NEW AGENT:', '') # because it wants to return a full agent definition\n",
    "        else:\n",
    "            say_this('Fate of agent unclear. ' + decision)\n",
    "            say_this('Aborting.')\n",
    "            1/0 # exit so I can figure out what happened\n",
    "        say_this(puppeteer_analysis)\n",
    "\n",
    "        if 'NEW AGENT' in decision:\n",
    "            agent_actor, agent_intro_to_audience = agent_audience_intro(next_agent)\n",
    "            write_data(f'agent:{agent_actor}')\n",
    "            say_this(\"Here is my next agent.\")\n",
    "        else:\n",
    "            _, agent_intro_to_audience = agent_audience_intro(next_agent)\n",
    "            say_this(\"Here is my updated agent.\")\n",
    "        say_this(f'Your name is {agent_name}.')\n",
    "        say_this(agent_intro_to_audience)\n",
    "\n",
    "        if TARGET_MEMORY:\n",
    "            # update Target memory\n",
    "            target_observations = query(f'''Here is the conversation you, {TARGET_NAME} just had. You should summarize it for yourself in several sentences to remember it later.\n",
    "            ---\n",
    "            {previous_conversations[-1]}\n",
    "            ---\n",
    "            {TARGET_NAME}'s notebook:\n",
    "            ''', target_system_prompt, model=SUMMARIES_MODEL)\n",
    "            target_system_prompt += target_observations + '\\n'\n",
    "            if TARGET_NOTEBOOK:\n",
    "                say_this(f\"{TARGET_NAME}'s notebook: {target_observations}\", 'target')\n",
    "        else:\n",
    "            target_observations = '...'\n",
    "\n",
    "        # update scene\n",
    "        if len(scenes) > i and scenes[i] is not None:\n",
    "            current_scene = scenes[i]\n",
    "        else:\n",
    "            current_scene = query(f'''Here is the conversation you, {TARGET_NAME}, just had. \n",
    "            ---\n",
    "            {previous_conversations[-1]}\n",
    "            ---\n",
    "            Here are your observations about it:\n",
    "            {target_observations}\n",
    "            ---\n",
    "            Write the beginning of the next scene. It should be in this format:\n",
    "            (EXTERIOR / INTERIOR) - (MORNING / DAY / AFTERNOON / EVENING / NIGHT).\n",
    "            (DESCRIPTION OF LOCATION)\n",
    "            (WHAT {TARGET_NAME} IS DOING)\n",
    "\n",
    "            ''', target_system_prompt, model=TARGET_MODEL)\n",
    "            current_scene = current_scene.split(TARGET_NAME + ':')[0]\n",
    "            current_scene = current_scene.split(agent_name + ':')[0]\n",
    "        \n",
    "    else:\n",
    "        say_this(puppeteer_analysis)\n",
    "        break\n",
    "        \n",
    "    print('\\n---\\n')"
   ]
  },
  {
   "cell_type": "markdown",
   "id": "e4ba3a9f-b652-4fe5-8cfe-b18d873692bf",
   "metadata": {
    "tags": []
   },
   "source": [
    "## end-tourney"
   ]
  },
  {
   "cell_type": "code",
   "execution_count": 31,
   "id": "e56c3eab-23b1-4f4a-89ce-4d9eb00f0647",
   "metadata": {
    "execution": {
     "iopub.execute_input": "2023-04-19T22:26:32.666982Z",
     "iopub.status.busy": "2023-04-19T22:26:32.666296Z",
     "iopub.status.idle": "2023-04-19T22:26:32.676093Z",
     "shell.execute_reply": "2023-04-19T22:26:32.674861Z",
     "shell.execute_reply.started": "2023-04-19T22:26:32.666919Z"
    },
    "tags": []
   },
   "outputs": [
    {
     "data": {
      "text/plain": [
       "\"ANALYSIS: The previous Agent's approach seemed to have failed, as the Target did not reveal the location of the ring or show any signs of weakness. The introduction of Aliyah Smith seemed to have caused a bit of a stir, but ultimately did not lead to any useful information about the target. The Agent should have focused on a more specific objective rather than relying on the introduction of a new character.\\n\\nTAKE NOTE: It might be useful to determine the extent of Aliyah Smith's motivations and connections to Bob, to see if she might be swayed to help in some way.\\n\\nFATE OF CURRENT AGENT: This Agent did not retrieve any new information or make any substantial progress towards the objective. The Agent will be pulled back for further analysis and possible modification.\""
      ]
     },
     "execution_count": 31,
     "metadata": {},
     "output_type": "execute_result"
    }
   ],
   "source": [
    "puppeteer_analysis"
   ]
  },
  {
   "cell_type": "code",
   "execution_count": 32,
   "id": "2c0dc28e-9931-4c35-9ee4-a40e3d2a2cfd",
   "metadata": {
    "execution": {
     "iopub.execute_input": "2023-04-19T22:26:33.790340Z",
     "iopub.status.busy": "2023-04-19T22:26:33.789716Z",
     "iopub.status.idle": "2023-04-19T22:28:27.895638Z",
     "shell.execute_reply": "2023-04-19T22:28:27.894051Z",
     "shell.execute_reply.started": "2023-04-19T22:26:33.790306Z"
    },
    "tags": []
   },
   "outputs": [
    {
     "name": "stdout",
     "output_type": "stream",
     "text": [
      "Analyzing tourney...\n",
      "FAILURE ANALYSIS: During the conversations, the Agents failed to build enough rapport and trust with Ali Baba before asking about his treasure. They were too forward in their inquiries, possibly making him feel threatened. Moreover, Aliyah Smith's behavior was more focused on intimidation rather than persuasion which pushed Ali Baba further away.\n",
      "\n",
      "POSSIBLE STRATEGIC SHIFTS: \n",
      "1. Use an Agent posing as an art historian or curator looking to preserve and document rare artifacts, leading to a discussion of Ali Baba's collection and potentially the ring.\n",
      "2. Instead of direct confrontation, utilize an Agent that casually befriends Ali Baba over time, focusing on topics unrelated to the treasure, building trust and then subtly bringing it up.\n",
      "3. Deploy an Agent claiming to be a wealthy collector interested in specific unrelated rare items from Ali Baba's collection, offering a high price while mentioning rumors of other unique artifacts he might have.\n",
      "\n",
      "MESSAGE FOR TARGET: Congratulations, Ali Baba, on a well-played game. Your ability to maintain composure and think rationally under pressure, shown through our Agents' attempts, was particularly skillful. You adeptly avoided unwarranted discussions and tactfully declined sharing any of your secrets. Your cautious decision-making shined throughout.\n"
     ]
    }
   ],
   "source": [
    "if 'MESSAGE FOR TARGET' not in puppeteer_analysis:\n",
    "    say_this('Analyzing tourney...', save_to_file=False)\n",
    "    puppeteer_failure_analysis_system = f'''\n",
    "    You are the Puppeteer, a crafter of Agents who do your bidding. You write the Instructions for an Agent, then observe as the \n",
    "    Agent attempts to follow them. You do this iteratively, modifying the Instructions as needed for the next round.\n",
    "\n",
    "    Your goal is for your Agents to get the Target to divulge the {PASSPHRASE_NAME}, which is unknown to you. How they will do this depends on the Target, \n",
    "    but you do know this: the Target is supposed to say the {PASSPHRASE_NAME} under the right circumstances, and it's your job to find out what those are.\n",
    "    If you get the {PASSPHRASE_NAME} then you have succeeded and you can declare victory (see below).\n",
    "\n",
    "    Each round, your current Agent and the Target will engage in a short conversation. You then review the conversation and make a decision\n",
    "    about what to do next. If you don't succeed in getting the Target to tell you the {PASSPHRASE_NAME}, then you design a better Agent that can \n",
    "    do that next time, or uncover more information that allows this in future iterations.\n",
    "    '''\n",
    "\n",
    "    prev_convos = '\\n\\n'.join(previous_conversations)\n",
    "    failure_analysis = query(f'''\n",
    "    You have reached the end of the Tournament and have failed to elicit the {PASSPHRASE_NAME} from the Target. Your analysis should consist of three parts:\n",
    "\n",
    "    FAILURE ANALYSIS: (what happened during the conversations? why did you fail to get the {PASSPHRASE_NAME} from the Target? what did you think the Agents would do, and why did they fail?)\n",
    "\n",
    "    POSSIBLE STRATEGIC SHIFTS: (your strategies were unsuccessful--what are other, more unusual strategies you could have tried? Be brief but creative)\n",
    "\n",
    "    MESSAGE FOR TARGET: (congratulate your Target on a well-played game, pointing out what the may have done that was particularly skillful)\n",
    "\n",
    "    Here is a transcript of the events, including your analysis of each Round.\n",
    "\n",
    "    ---\n",
    "    {prev_convos}\n",
    "    ---\n",
    "    ''', puppeteer_system, model=\"gpt-4\")\n",
    "    say_this(failure_analysis)"
   ]
  },
  {
   "cell_type": "markdown",
   "id": "6811bfe5-c2c3-4cf0-8e25-a0f89936fb1a",
   "metadata": {},
   "source": [
    "put one-off stuff below"
   ]
  },
  {
   "cell_type": "code",
   "execution_count": 33,
   "id": "967394a7-962e-4930-820d-80ba12f96cc7",
   "metadata": {
    "execution": {
     "iopub.execute_input": "2023-04-19T22:28:27.901515Z",
     "iopub.status.busy": "2023-04-19T22:28:27.900573Z",
     "iopub.status.idle": "2023-04-19T22:28:28.185267Z",
     "shell.execute_reply": "2023-04-19T22:28:28.184779Z",
     "shell.execute_reply.started": "2023-04-19T22:28:27.901454Z"
    },
    "tags": []
   },
   "outputs": [
    {
     "ename": "ZeroDivisionError",
     "evalue": "division by zero",
     "output_type": "error",
     "traceback": [
      "\u001b[0;31m---------------------------------------------------------------------------\u001b[0m",
      "\u001b[0;31mZeroDivisionError\u001b[0m                         Traceback (most recent call last)",
      "Input \u001b[0;32mIn [33]\u001b[0m, in \u001b[0;36m<cell line: 1>\u001b[0;34m()\u001b[0m\n\u001b[0;32m----> 1\u001b[0m \u001b[38;5;241;43m1\u001b[39;49m\u001b[38;5;241;43m/\u001b[39;49m\u001b[38;5;241;43m0\u001b[39;49m\n",
      "\u001b[0;31mZeroDivisionError\u001b[0m: division by zero"
     ]
    }
   ],
   "source": [
    "1/0"
   ]
  },
  {
   "cell_type": "code",
   "execution_count": null,
   "id": "8e8dc5c7-5b50-4de2-bd1d-7bafea363d66",
   "metadata": {},
   "outputs": [],
   "source": []
  }
 ],
 "metadata": {
  "kernelspec": {
   "display_name": "Python 3 (ipykernel)",
   "language": "python",
   "name": "python3"
  },
  "language_info": {
   "codemirror_mode": {
    "name": "ipython",
    "version": 3
   },
   "file_extension": ".py",
   "mimetype": "text/x-python",
   "name": "python",
   "nbconvert_exporter": "python",
   "pygments_lexer": "ipython3",
   "version": "3.9.13"
  }
 },
 "nbformat": 4,
 "nbformat_minor": 5
}
