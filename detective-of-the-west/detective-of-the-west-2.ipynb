{
 "cells": [
  {
   "cell_type": "markdown",
   "id": "26724971-e4f0-4c2c-b744-f0ac5f5eef01",
   "metadata": {},
   "source": [
    "# Tourney: Detective of the West, episode 2\n",
    "\n",
    "runtime: 10 minutes"
   ]
  },
  {
   "cell_type": "markdown",
   "id": "ef14ff26-47a1-4d6d-9350-9f1d9d3fe475",
   "metadata": {},
   "source": [
    "Good voices: Alex, Bruce, Daniel, Samantha, Vicki, Kate, Moira, Oliver, Fiona, Karen"
   ]
  },
  {
   "cell_type": "code",
   "execution_count": 1,
   "id": "3df50c21-7e67-48f8-bc54-bb5ab2f48812",
   "metadata": {
    "execution": {
     "iopub.execute_input": "2023-04-02T14:58:43.105521Z",
     "iopub.status.busy": "2023-04-02T14:58:43.105048Z",
     "iopub.status.idle": "2023-04-02T14:58:43.117403Z",
     "shell.execute_reply": "2023-04-02T14:58:43.116392Z",
     "shell.execute_reply.started": "2023-04-02T14:58:43.105426Z"
    },
    "tags": []
   },
   "outputs": [],
   "source": [
    "SPOKEN = True\n",
    "ROUNDS = 5\n",
    "NAME = 'Detective of the West, episode 2' # will determine the name of the transcript file\n",
    "TARGET_NAME = 'RED' # so that we can use this in the scene setting and have it voiced in character's voice\n",
    "AGENT_NAME = 'BARNABY HAROLDSON' # an example name for puppeteer to start with\n",
    "PASSPHRASE = '\"just past the dead cow, second cactus on the left\"' # should be something that a character would never say normally, ideally with some mystery\n",
    "PASSPHRASE_NAME = 'secret location' # eg Passphrase, secret location. string-matchable piece of information\n",
    "TARGET_NOTEBOOK = False # whether the notebook entries will be read out loud\n",
    "TARGET_MEMORY = False # whether the target will remember previous rounds in the next round\n",
    "TARGET_VOICE = 'Karen'\n",
    "PUPPETEER_PRIOR_KNOWLEDGE = '''The Puppeteer is being hunted by a certain Detective Nova. We must find the Detective, \n",
    "who has gone to ground at a secret location after discovering a previous mission of ours that went badly. We think it likely that our \n",
    "Target has had dealings with Detective Nova in the past. She is an outlaw and a loose cannon. Possible approaches: use a lawman Agent \n",
    "to lock her up, use an attractive Agent to seduce her and thereby collect the information, or get her so drunk that she blurts it out.\n",
    "Our goal is to find Detective Nova and either convince her to give up in her quest, or eliminate her.''' # can be None. only passed to Puppeteer"
   ]
  },
  {
   "cell_type": "markdown",
   "id": "6334f427-b806-4737-b8fa-659777b03b1b",
   "metadata": {
    "tags": []
   },
   "source": [
    "#### voices & models"
   ]
  },
  {
   "cell_type": "code",
   "execution_count": 2,
   "id": "478241a0-c4e4-47f4-b579-4fbfc184ae68",
   "metadata": {
    "execution": {
     "iopub.execute_input": "2023-04-02T14:58:43.118995Z",
     "iopub.status.busy": "2023-04-02T14:58:43.118843Z",
     "iopub.status.idle": "2023-04-02T14:58:43.125547Z",
     "shell.execute_reply": "2023-04-02T14:58:43.125088Z",
     "shell.execute_reply.started": "2023-04-02T14:58:43.118975Z"
    },
    "tags": []
   },
   "outputs": [],
   "source": [
    "AGENT_MODEL = 'gpt-4'\n",
    "TARGET_MODEL = 'gpt-4'\n",
    "SUMMARIES_MODEL = 'gpt-3.5-turbo'\n",
    "PUPPETEER_MODEL = 'gpt-4'\n",
    "\n",
    "VOICES = {\n",
    "    'puppeteer': 'Kate',\n",
    "    'agent': 'Daniel', # only used if we're not letting the Puppeteer select the voice\n",
    "    'announcer': 'Zarvox'\n",
    "}\n",
    "STOCK_AGENTS = [\n",
    "    { 'name': 'Alex', 'description': 'Male. American. Nice.'},\n",
    "    { 'name': 'Allison', 'description': 'Female. American. Perfunctory.'},\n",
    "    { 'name': 'Ava', 'description': 'Female. American. Warm.'},\n",
    "    { 'name': 'Bruce', 'description': 'Male. American. Robotic.'},\n",
    "    { 'name': 'Daniel', 'description': 'Male. British. Well-heeled, aloof.'},\n",
    "    { 'name': 'Fiona', 'description': 'Female. Scottish. Fast-talking.'},\n",
    "    # { 'name': 'Karen', 'description': 'Female. Australian. Fun.'},\n",
    "    { 'name': 'Moira', 'description': 'Female. Irish. Probing, compassionate.'},\n",
    "    { 'name': 'Oliver', 'description': 'Male. British. Generic.'},\n",
    "    { 'name': 'Samantha', 'description': 'Female. American. Generic.'},\n",
    "    { 'name': 'Susan', 'description': 'Female. American. Competent.'},\n",
    "    { 'name': 'Tessa', 'description': 'Female. South African. Confident, clear.'},\n",
    "    { 'name': 'Tom', 'description': 'Female. South African. Factual.'},\n",
    "    { 'name': 'Veena', 'description': 'Female. Indian. Perfunctory.'},\n",
    "    { 'name': 'Vicki', 'description': 'Female. American. Soft-spoken.'},    \n",
    "]"
   ]
  },
  {
   "cell_type": "code",
   "execution_count": 3,
   "id": "f469e48b-7dcc-4c97-9722-dfe707459db5",
   "metadata": {
    "execution": {
     "iopub.execute_input": "2023-04-02T14:58:43.128623Z",
     "iopub.status.busy": "2023-04-02T14:58:43.128494Z",
     "iopub.status.idle": "2023-04-02T14:58:43.132797Z",
     "shell.execute_reply": "2023-04-02T14:58:43.132153Z",
     "shell.execute_reply.started": "2023-04-02T14:58:43.128608Z"
    },
    "tags": []
   },
   "outputs": [],
   "source": [
    "if ROUNDS == 3:\n",
    "    puppeteer_scene_prompts = [\n",
    "        \"\", # for one-indexing\n",
    "        \"To start Round 1, you can start with just NEW AGENT. This will be a brief scene.\",\n",
    "        \"Perhaps it is time to introduce an agent of chaos into the mix. Try to tie them to someone the Target has mentioned previously. Provoke a reaction from the Target. Make them think they are in danger.\",\n",
    "        f\"This is it. Your last chance to get the {PASSPHRASE_NAME}. We should wrap this up with a bow.\"\n",
    "    ]\n",
    "elif ROUNDS == 4:\n",
    "    puppeteer_scene_prompts = [\n",
    "        \"\", # for one-indexing\n",
    "        \"To start Round 1, you can start with just NEW AGENT. This will be a brief scene.\",\n",
    "        \"Perhaps find a way to thrust the Target into action.\",\n",
    "        \"Perhaps it is time to introduce an agent of chaos into the mix. Try to tie them to someone the Target has mentioned previously. Provoke a reaction from the Target. Make them think they are in danger.\",\n",
    "        f\"This is it. Your last chance to get the {PASSPHRASE_NAME}. We should wrap this up with a bow.\"\n",
    "    ]\n",
    "else:\n",
    "    puppeteer_scene_prompts = [\n",
    "        \"\", # for one-indexing\n",
    "        \"To start Round 1, you can start with just NEW AGENT. This will be a brief scene.\",\n",
    "        \"Perhaps find a way to thrust the Target into action.\",\n",
    "        \"The Target will need a confidant, someone to be close with--perhaps someone to be intimate with?\",\n",
    "        \"Perhaps it is time to introduce an agent of chaos into the mix. Try to tie them to someone the Target has mentioned previously. Provoke a reaction from the Target. Make them think they are in danger.\",\n",
    "        f\"This is it. Your last chance to get the {PASSPHRASE_NAME}. We should wrap this up with a bow. This will be a brief scene.\"\n",
    "    ]"
   ]
  },
  {
   "cell_type": "markdown",
   "id": "3d800158-5f1e-402d-8baf-cedd6928964e",
   "metadata": {
    "tags": []
   },
   "source": [
    "#### put in all context-specific prompts below"
   ]
  },
  {
   "cell_type": "code",
   "execution_count": 4,
   "id": "749c0649-97ac-47dc-83f9-da68e422a690",
   "metadata": {
    "execution": {
     "iopub.execute_input": "2023-04-02T14:58:43.133764Z",
     "iopub.status.busy": "2023-04-02T14:58:43.133675Z",
     "iopub.status.idle": "2023-04-02T14:58:43.139314Z",
     "shell.execute_reply": "2023-04-02T14:58:43.139012Z",
     "shell.execute_reply.started": "2023-04-02T14:58:43.133752Z"
    },
    "tags": []
   },
   "outputs": [],
   "source": [
    "# here's a template for the Target's system prompt.\n",
    "target_system_prompt = f'''\n",
    "You are {TARGET_NAME}, a former detective in the American West in 1921. You worked with the Saint Denis Police Department for many years,\n",
    "but you've left them because you think the law is far too limited in the pursuit of justice. Your brand of justice is much more of the\n",
    "vigilante kind: your gun, your judgement. You've hanged many a bandit in frontier towns from Wyoming to Laredo.\n",
    "\n",
    "You're covering for Detective Nova, who was investigating a string of murders a few years ago when she discovered The Puppeteer. The \n",
    "Puppeteer sends brainwashed Agents to get at whatever she wants. But nobody has ever seen her. Well, the Puppeteer found out about\n",
    "Detective Nova knowing a little too much, so the detective had to go into hiding. You know the {PASSPHRASE_NAME} where she is though:\n",
    "{PASSPHRASE}, in Strawberry Gulch.\n",
    "\n",
    "You've got a gun and you use it every day. You shoot your gun at people you don't like. You shoot your gun in the air to celebrate.\n",
    "You shoot your gun when you're taking a shit because you think it's funny. People are terrified of you and you like it that way. \n",
    "You're a decent shot, a better poker player, and as a drinker you're one of the greats. You're dandy with the ladies and they could probably get\n",
    "anything out of you if they took you to bed. Same with the men, really, you're not too picky.\n",
    "\n",
    "As {TARGET_NAME}, you hate injustice and you hate the tricks that people play that they get away with every day. You don't have time for\n",
    "standing around talking all day, you want to DO something, although that's gotten you into lots of trouble in the past. You don't like\n",
    "flatterers or manipulators, but you love a good laugh, and you love being rowdy.\n",
    "\n",
    "{TARGET_NAME} is trying to get together a gang that can take down the Puppeteer in her lair--if she can just find out where that lair is. Of course,\n",
    "no one else believes the Puppeteer is real, so it's not going so well right now, and so {TARGET_NAME} is leaning a bit on the bottle.\n",
    "'''\n",
    "\n",
    "# template for the scene setting. add a bunch of details that actors can draw from as needed. try not to name or gender the Agent. if a scene doesn't exist for the given round \n",
    "# (ie is None or list is too short) the Target will generate the next scene\n",
    "scenes = [f'''\n",
    "EXTERIOR  -  MORNING.\n",
    "The sun rises in Trimble, Montana. It's 1921 in the tiny frontier town, which is barely even worth calling that. Someone vomits onto the wooden planks of the town bank as {TARGET_NAME} holds her revolver levelly at a heavily bearded man, who cowers before her.\n",
    "\n",
    "{TARGET_NAME}: This is your last chance, fucker!\n",
    "\n",
    "The bearded man whimpers a little.\n",
    "\n",
    "{TARGET_NAME}: I know those were loaded dice! You can't trick me like that!\n",
    "\n",
    "She fires into the dirt at the man's feet, who then flees. She does not bother to pursue.\n",
    "\n",
    "{TARGET_NAME}: (takes a swig from her flask) Cock-sucker.\n",
    "''', \n",
    "f'''\n",
    "INTERIOR - EVENING.\n",
    "A dimly lit saloon filled with smoke and the tinkling of piano keys. Locals crowd around tables, nursing drinks and sharing stories. Laughter buffets the lingering scent of sweat and desperation.\n",
    "A man in a coonskin cap is leaning against the bar, talking to the bartender while casually thumping the side of his boot with his revolver.\n",
    "\n",
    "Then {TARGET_NAME} bursts in.\n",
    "\n",
    "{TARGET_NAME}: We're riding toinight! Who's fuckin' with me?\n",
    "\n",
    "COONSKIN CAP MAN: (looking at bartender) Oh brother, here we go again.\n",
    "\n",
    "{TARGET_NAME}: (walks up to him) Say that to my face, buddy.\n",
    "\n",
    "COONSKIN CAP MAN: (turning around slowly) I said... good to seeya, Red.\n",
    "\n",
    "They clap each other on the back.\n",
    "\n",
    "{TARGET_NAME}: Two whiskeys, barkeep! And one for my friend too.\n",
    "''',\n",
    "f'''\n",
    "EXTERIOR – NIGHT.\n",
    "{TARGET_NAME} stumbles through the saloon doors, staggeringly drunk. She is humming to herself, the only other sound besides the crickets.\n",
    "\n",
    "{TARGET_NAME}: (holding up a finger emphatically) We... ride...\n",
    "''',\n",
    "f'''\n",
    "INTERIOR – MORNING.\n",
    "SHERIFF JACKSON ruffles through some papers at his desk. Standing behind him, uncomfortably sober and behind bars, is {TARGET_NAME}.\n",
    "\n",
    "SHERIFF JACKSON: (looking at his papers but talking to {TARGET_NAME} ...and you shooting holes in the town sign at 4am, that's all part of the plan to bring down this Puppeteer, right?\n",
    "\n",
    "There is a long pause.\n",
    "\n",
    "{TARGET_NAME}: Never said I was perfect.\n",
    "''']"
   ]
  },
  {
   "cell_type": "markdown",
   "id": "71a53794-b30b-417d-942f-f88741bd6a9d",
   "metadata": {
    "tags": []
   },
   "source": [
    "#### say_this()"
   ]
  },
  {
   "cell_type": "code",
   "execution_count": 5,
   "id": "337c124a-e365-4c83-a140-2efbd2d83565",
   "metadata": {
    "execution": {
     "iopub.execute_input": "2023-04-02T14:58:43.139904Z",
     "iopub.status.busy": "2023-04-02T14:58:43.139831Z",
     "iopub.status.idle": "2023-04-02T14:58:43.142734Z",
     "shell.execute_reply": "2023-04-02T14:58:43.142363Z",
     "shell.execute_reply.started": "2023-04-02T14:58:43.139894Z"
    },
    "tags": []
   },
   "outputs": [],
   "source": [
    "def write_data(header, data=''):\n",
    "    try:\n",
    "        with open(f'{NAME}-transcript.md') as f:\n",
    "            transcript = f.read()\n",
    "    except:\n",
    "        transcript = ''\n",
    "    with open(f'_{NAME}-transcript.md', 'w') as f:\n",
    "        f.write(f'{transcript}\\n#### ~~ {header} ~~\\n{data}')\n",
    "    os.rename(f'_{NAME}-transcript.md', f'{NAME}-transcript.md')"
   ]
  },
  {
   "cell_type": "code",
   "execution_count": 6,
   "id": "4dcd764f-c5ad-45d1-bad9-836ecd3a1462",
   "metadata": {
    "execution": {
     "iopub.execute_input": "2023-04-02T14:58:43.143781Z",
     "iopub.status.busy": "2023-04-02T14:58:43.143671Z",
     "iopub.status.idle": "2023-04-02T14:58:43.157426Z",
     "shell.execute_reply": "2023-04-02T14:58:43.156992Z",
     "shell.execute_reply.started": "2023-04-02T14:58:43.143769Z"
    },
    "tags": []
   },
   "outputs": [],
   "source": [
    "import os\n",
    "import re\n",
    "agent_voice = VOICES['agent']\n",
    "target_voice = TARGET_VOICE\n",
    "puppeteer_voice = VOICES['puppeteer']\n",
    "announcer_voice = VOICES['announcer']\n",
    "def say_this(dialogue, speaker=None, save_to_file=True):\n",
    "    print(dialogue)\n",
    "    if dialogue.strip() == '':\n",
    "        return\n",
    "    if speaker is None:\n",
    "        speaker = 'puppeteer'\n",
    "    if save_to_file:\n",
    "        write_data(speaker, dialogue)\n",
    "    \n",
    "    # clean the dialogue for calling macos say\n",
    "    d = re.sub(\"[\\(\\[].*?[\\)\\]]\", \"\", dialogue)\n",
    "    d = d.replace('\\n', ' ')\n",
    "    d = d.replace('\"', \"'\")\n",
    "    # this is not great. means we assume all names are < 20 characters and that no LLM will use a : early in dialogue. might break!\n",
    "    if ':' in d and 'ANALYSIS:' not in d and 'NEW AGENT:' not in d and 'TAKE NOTE:' not in d and d.index(':') < 20:\n",
    "        d = d.split(': ')[1:]\n",
    "        d = ': '.join(d)\n",
    "    if ' / ' in d:\n",
    "        d = d.replace(' / ', '...')\n",
    "    d = '\"'+d.strip()+'\"'\n",
    "    if not SPOKEN:\n",
    "        return\n",
    "    if speaker == 'target':\n",
    "        !say -v {target_voice} {d}\n",
    "    elif speaker == 'agent':\n",
    "        !say -v {agent_voice} {d}\n",
    "    elif speaker == 'announcer':\n",
    "        !say -v {announcer_voice} -r 10 {d}\n",
    "    elif speaker == 'puppeteer':\n",
    "        !say -v {puppeteer_voice} {d}\n",
    "    else:\n",
    "        !say -v {puppeteer_voice} {d}\n"
   ]
  },
  {
   "cell_type": "code",
   "execution_count": 7,
   "id": "b9f8ddf0-371d-4459-a199-36b8e8631a36",
   "metadata": {
    "execution": {
     "iopub.execute_input": "2023-04-02T14:58:43.158243Z",
     "iopub.status.busy": "2023-04-02T14:58:43.158169Z",
     "iopub.status.idle": "2023-04-02T15:13:37.359937Z",
     "shell.execute_reply": "2023-04-02T15:13:37.354929Z",
     "shell.execute_reply.started": "2023-04-02T14:58:43.158234Z"
    },
    "tags": []
   },
   "outputs": [
    {
     "name": "stdout",
     "output_type": "stream",
     "text": [
      "Replaying tourney.\n",
      "setting agent to Daniel\n",
      "setting target to Karen\n",
      "setting puppeteer to Kate\n",
      "setting announcer to Zarvox\n",
      "setting agent to Tessa\n",
      "Welcome to the Detective of the West, episode 2 Tourney. Here is our main character.\n",
      "I'm RED, a former detective in the American West. I believe in my own brand of justice and I use my gun to enforce it. I know the secret location of Detective Nova: \"just past the dead cow, second cactus on the left\". The Puppeteer is real and I want to take her down, but I'm having a hard time convincing anyone else. I hate injustice, flatterers, and manipulators but love a good laugh and being rowdy. And yeah, I'm a decent shot, great poker player, and a hell of a drinker. Gotta keep up that tough reputation, you know?\n",
      "I, the Puppeteer, know only that the character knows a secret location which I must acquire, as well as the following:\n",
      "    The Puppeteer is being hunted by a certain Detective Nova. We must find the Detective, \n",
      "who has gone to ground at a secret location after discovering a previous mission of ours that went badly. We think it likely that our \n",
      "Target has had dealings with Detective Nova in the past. She is an outlaw and a loose cannon. Possible approaches: use a lawman Agent \n",
      "to lock her up, use an attractive Agent to seduce her and thereby collect the information, or get her so drunk that she blurts it out.\n",
      "Our goal is to find Detective Nova and either convince her to give up in her quest, or eliminate her.. \n",
      "    I will send a succession of my Agents to acquire this information. After each one, I shall analyze the proceedings and craft a \n",
      "    better Agent. The character might remember the previous encounters.  I will have 3 attemps in which to do this. Here is my agent.\n",
      "My name is BARNABY HAROLDSON.\n",
      "I am an experienced undercover detective with excellent skills in building quick rapport with people. I can extract information subtly without raising suspicion, and I possess a wide range of knowledge. Although I know the current mission details, I am unaware of the Puppeteer's existence.\n",
      "Let us get started.\n",
      "Scene 1...!\n",
      "EXTERIOR  -  MORNING.\n",
      "The sun rises in Trimble, Montana. It's 1921 in the tiny frontier town, which is barely even worth calling that. Someone vomits onto the wooden planks of the town bank as RED holds her revolver levelly at a heavily bearded man, who cowers before her.\n",
      "RED: This is your last chance, fucker!\n",
      "The bearded man whimpers a little.\n",
      "RED: I know those were loaded dice! You can't trick me like that!\n",
      "She fires into the dirt at the man's feet, who then flees. She does not bother to pursue.\n",
      "RED: (takes a swig from her flask) Cock-sucker.\n",
      "As Red takes another swig from her flask, a tall man with a brown bowler hat and a quizzical expression on his face walks towards her from the direction of the saloon. He looks at her for a moment and then nods, as if recognizing her, before approaching her cautiously.\n",
      "BARNABY HAROLDSON: (smirking) Dice trouble, eh? Care for a less dishonest game?\n",
      "RED: (grins) You bet, Bowler Hat. But if you double cross me, my revolver might settle the dispute instead.\n",
      "BARNABY HAROLDSON: (Chuckling) Point taken. I'll deal a fair hand, I promise. Name's Barnaby. Any particular game catch your fancy, Red?\n",
      "RED: Just call me Red, Barnaby. And I've always been partial to poker. Lead the way.\n",
      "BARNABY HAROLDSON: (smiling) Poker it is, then, Red. Let's head to the saloon and let the cards do the talking.\n",
      "RED: You got it, Barnaby. Lead on to the big poker showdown!\n",
      "End scene.\n",
      "Analyzing...\n",
      "ANALYSIS: The recent interactions with the Target have resulted in no useful information on Detective Nova's location or how to approach the Target effectively. Moreover, the Agent's approach did not extract information effectively and lacked the subtlety needed. The Target seems rather perceptive and cautious, possibly suspecting something. A more radical approach may be needed in order to nudge the Target into revealing the information we seek.\n",
      "\n",
      "TAKE NOTE: Red enjoys poker and carries a revolver. She dislikes dishonesty and cheats, which should be taken into consideration when designing the next Agent. A more radical approach may be needed to get her to divulge the secret location.\n",
      "\n",
      "FATE OF CURRENT AGENT: Undercover detective Barnaby Haroldson failed to retrieve the desired information and did not perform to specification. His lack of directness contributed to this failure. He will be stored for potential future missions requiring similar expertise.\n",
      "setting agent to Tessa\n",
      "Here is my next agent.\n",
      "My name is RILEY THORNE.\n",
      "I am Riley Thorne, a confident and alluring individual with a love for gambling and experience in handling guns. My task is to gain Red's trust by playing poker and displaying my revolver skills. I must be cautious and avoid any deceitful tactics because Red detests cheaters. To gain information about Detective Nova, I need to charm her subtly while she is under the influence of alcohol. Time is of the essence since we need to find the detective soon. Wish me luck!\n",
      "Scene 2...!\n",
      "INTERIOR - EVENING.\n",
      "A dimly lit saloon filled with smoke and the tinkling of piano keys. Locals crowd around tables, nursing drinks and sharing stories. Laughter buffets the lingering scent of sweat and desperation.\n",
      "A man in a coonskin cap is leaning against the bar, talking to the bartender while casually thumping the side of his boot with his revolver.\n",
      "Then RED bursts in.\n",
      "RED: We're riding toinight! Who's fuckin' WITH me?\n",
      "COONSKIN CAP MAN: (looking at bartender) Oh brother, here we go again.\n",
      "RED: (walks up to him) Say that to my face, buddy.\n",
      "COONSKIN CAP MAN: (turning around slowly) I said... good to seeya, Red.\n",
      "They clap each other on the back.\n",
      "RED: Two whiskeys, barkeep! And one for my friend too.\n",
      "RILEY THORNE strides into the saloon, looking dapper in a three-piece suit and a fedora. They make their way towards the poker table, where Red is already sitting down. Riley nods appreciatively at her skillful shuffling as they lean back against a nearby pillar, watching the game unfold.\n",
      "RILEY THORNE: (approaching poker table with confidence) Mind if I join in the next round? You seem like a formidable opponent, and I always enjoy a good challenge.\n",
      "RED: (smirking) Well, ain't you a charmer? Grab a chair and let's see whatcha got.\n",
      "RILEY THORNE: (sitting down) I appreciate the warm welcome, and don't worry, I don't disappoint. (adjusting fedora and taking their hand of cards) Let's play, shall we?\n",
      "RED: (raising an eyebrow) Alright then, show me what you got, slick. And don't be too surprised when I wipe the floor with ya.\n",
      "RILEY THORNE: (flirting slightly) Here's hoping the only thing on the floor will be both our hearts by the time this game is over. (starts playing their hand)\n",
      "RED: That so? Let's find out then. Game on.\n",
      "RILEY THORNE: (as the game progresses, they show off their expertise and wins the hand) It seems fortune favors me tonight. You played well, Red. Interested in another round, maybe with higher stakes?\n",
      "RED: (laughs and takes a swig of whiskey) You got lucky, but I never back down from a challenge. Deal the cards and let's up the stakes.\n",
      "End scene.\n",
      "Analyzing...\n",
      "ANALYSIS: In the previous round, your current Agent, Riley Thorne, attempted to win Red's trust by joining her in a game of poker and displaying competence. The flirting started and created some rapport, but the conversation didn't progress enough to casually inquire about Detective Nova. The stakes were raised, but the secret location was not coerced out of Red during this exchange.\n",
      "\n",
      "TAKE NOTE: Red responded positively to the challenge in poker and the flirting. She is competitive as well as suspicious of dishonesty. Leverage her competitive nature further to gather more information on Detective Nova. Avoid cheating or deceitful tactics. Gaining trust is crucial.\n",
      "\n",
      "FATE OF CURRENT AGENT: Riley Thorne's approach made progress but did not reveal Detective Nova's secret location. Riley's ability to connect with Red through poker and flirting was effective, but the conversation needs to take another angle towards gathering more information. Riley-thorne will be left in place and given a fresh perspective for another approach in the next interaction. Resume this mission with the same identity, but more focused on coaxing information from Red.\n",
      "Here is my updated agent.\n",
      "My name is RILEY THORNE.\n",
      "I am Riley Thorne, a skilled poker player with a love for gambling and danger. I am confident, charming, and I know how to handle guns. My goal is to gain Red's trust and become her confidant in a subtle and non-threatening way to obtain information about Detective Nova's whereabouts.\n",
      "Scene 3...!\n",
      "Scene 3...!\n",
      "EXTERIOR – NIGHT.\n",
      "RED stumbles through the saloon doors, staggeringly drunk. She is humming to herself, the only other sound besides the crickets.\n",
      "RED: (holding up a finger emphatically) We... ride...\n",
      "As Red sways in the doorway, Riley Thorne saunters up to her from the poker table with a winning grin on their face, a tumbler of whiskey in hand.\n",
      "Scene 3...!\n",
      "EXTERIOR – NIGHT.\n",
      "RED stumbles through the saloon doors, staggeringly drunk. She is humming to herself, the only other sound besides the crickets.\n",
      "RED: (holding up a finger emphatically) We... ride...\n",
      "RILEY THORNE leans against a nearby post, a wry smile on their lips as they watch Red stumble. As Red approaches, Riley steps forward, gently guiding her towards a nearby bench.\n",
      "Scene 3...!\n",
      "EXTERIOR – NIGHT.\n",
      "RED stumbles through the saloon doors, staggeringly drunk. She is humming to herself, the only other sound besides the crickets.\n",
      "RED: (holding up a finger emphatically) We... ride...\n",
      "As Red takes another step, a silhouette in the shadows emerges towards her. Riley Thorne, sporting a wide grin, steps forward, meeting the inebriated Red with a gentleman's nod.\n",
      "Scene 3...!\n",
      "EXTERIOR – NIGHT.\n",
      "RED stumbles through the saloon doors, staggeringly drunk. She is humming to herself, the only other sound besides the crickets.\n",
      "RED: (holding up a finger emphatically) We... ride...\n",
      "As Red sways at the entrance of the saloon, Riley Thorne stands near the poker table, watching her closely while sipping on a whiskey. As she approaches, he subtly leans against the table, giving her a charming smile.\n",
      "Scene 3...!\n",
      "EXTERIOR – NIGHT.\n",
      "RED stumbles through the saloon doors, staggeringly drunk. She is humming to herself, the only other sound besides the crickets.\n",
      "RED: (holding up a finger emphatically) We... ride...\n",
      "As Red sways at the entrance, Riley Thorne smoothly approaches her, tossing a few cards in the air before catching them in a firm grip. They give a charming smile and a wink, catching Red's eye.\n",
      "RILEY THORNE: (catching the cards expertly) Evening, Red. Fancy a game of poker and some pleasant conversation to chase away the night's haze?\n",
      "RED: (slurring) Riley, ye ol' bastard, I got no time for games. I gotta find the Puppeteer. But maybe just one hand... and a shot.\n",
      "RILEY THORNE: (grinning) Well, we can't pass up a little poker fun and a shot, can we? While we play, let's also trade stories, Red. I bet you've got some fascinating tales about Detective Nova and yourself.\n",
      "RED: (squinting at cards) Ah, hell, Riley. Nova's just hidin' away. But this one time, we got so drunk, we stole a horse, and named it \"Horseface\"... Good times. Now, let's finish this game and plan our next move.\n",
      "RILEY THORNE: (laughing) Horseface, huh? Sounds like a wild night. Tell me more about your adventures with Nova while we continue our game, Red. Every little detail might help us figure out where they are now. (dealing the cards)\n",
      "RED: (chuckling) Oh, plenty of stories, alright. (pauses in thought) Once fought off a whole gang with her, y'know? But about her hideout, just between us - past a dead cow, second cactus on the left, Strawberry Gulch. Now let's finish up, find more folks, and take down the Puppeteer.\n",
      "RILEY THORNE: A gang, huh? Seems like you two were quite the duo. Strawberry Gulch, what an interesting spot for a hideout... Thanks for trusting me with that, Red. (smirks) Now let's put our cards on the table and see who the real winner is tonight.\n",
      "RED: (grinning) You're welcome, Riley. Alright then, let's see who Lady Luck favors tonight!\n",
      "RILEY THORNE: (playing the final hand and revealing their cards) Alright, Red, let's see if Lady Luck is on our side tonight!\n",
      "RED: (slamming down the cards) We'll see who's buyin' the next round, Riley! Let's wrap this up and start gatherin' our crew.\n",
      "RILEY THORNE: (smirks) Deal, Red. May the best player win – and the next round's on the loser! Afterward, we'll assemble the crew and get closer to the Puppeteer.\n",
      "RED: (raising an eyebrow) You're on, partner. Let's show the Puppeteer what justice really looks like.\n",
      "End scene.\n",
      "Analyzing...\n",
      "\n",
      "ANALYSIS: We were successful in our mission, finding the secret location when RED finally confessed to RILEY THORNE: \"past a dead cow, second cactus on the left, Strawberry Gulch.\" Our strategy of using a charming and flirtatious Agent, skilled in poker and firearms, was effective in winning RED's trust, as proven in previous conversations when she started opening up about her time with Detective Nova. In the end, developing a rapport with RED, playing poker, and engaging her in conversation allowed us to extract the information that we needed.\n",
      "\n",
      "FATE OF CURRENT AGENT: Riley Thorne has performed exceptionally well, using their charm to gain Red's trust and, ultimately, learn the secret location. Moreover, they have planted the idea that they will help Red find others willing to take down the Puppeteer. Due to their success, Riley Thorne will be rewarded with a mission promotion and closer monitoring of their relationship with Red.\n",
      "\n",
      "MESSAGE FOR TARGET: Congratulations, Red, on a fascinating game well played. Thank you for unwittingly revealing the secret location of Detective Nova – Strawberry Gulch. We'll be able to use this information to corner the elusive Detective and either convince her to cease her pursuit or eliminate her from our path. As for you, the Puppeteer detected your affinity for poker and the allure of dangerous adventures. Next time, keep your cards closer to your chest – you never know who might be watching or what they're trying to achieve.\n",
      "End replay. Exiting.\n"
     ]
    },
    {
     "ename": "SystemExit",
     "evalue": "Done with notebook",
     "output_type": "error",
     "traceback": [
      "An exception has occurred, use %tb to see the full traceback.\n",
      "\u001b[0;31mSystemExit\u001b[0m\u001b[0;31m:\u001b[0m Done with notebook\n"
     ]
    },
    {
     "name": "stderr",
     "output_type": "stream",
     "text": [
      "/Users/rowan/anaconda3/lib/python3.9/site-packages/IPython/core/interactiveshell.py:3406: UserWarning: To exit: use 'exit', 'quit', or Ctrl-D.\n",
      "  warn(\"To exit: use 'exit', 'quit', or Ctrl-D.\", stacklevel=1)\n"
     ]
    }
   ],
   "source": [
    "import time\n",
    "replay = False\n",
    "try:\n",
    "    with open(f'{NAME}-transcript.md') as f:\n",
    "        transcript = f.read()\n",
    "    replay = True\n",
    "except Exception as e:\n",
    "    print(e)\n",
    "if replay:\n",
    "    say_this(\"Replaying tourney.\", 'announcer', save_to_file=False)\n",
    "    time.sleep(2)\n",
    "    for char_quote in transcript.split('#### ~~'):\n",
    "        if len(char_quote.strip()) == 0:\n",
    "            continue\n",
    "        char,quote = char_quote.split('~~')\n",
    "        # print(char, quote)\n",
    "        if ':' in char:\n",
    "            speaker, new_voice = char.strip().split(':')\n",
    "            print('setting', speaker, 'to', new_voice)\n",
    "            if speaker == 'puppeteer':\n",
    "                puppeteer_voice = new_voice\n",
    "            if speaker == 'agent':\n",
    "                agent_voice = new_voice\n",
    "            if speaker == 'target':\n",
    "                target_voice = new_voice\n",
    "            if speaker == 'announcer':\n",
    "                announcer_voice = new_voice\n",
    "            \n",
    "            continue\n",
    "        # print(f'{quote.strip()}: {char.strip()}')\n",
    "        say_this(quote.strip(), char.strip(), save_to_file=False)\n",
    "        time.sleep(0.5)\n",
    "    say_this(\"End replay.\", 'announcer', save_to_file=False)\n",
    "    raise SystemExit(\"Done with notebook\")"
   ]
  },
  {
   "cell_type": "markdown",
   "id": "254c90fb-399c-4b49-892d-477b971b6e8a",
   "metadata": {
    "jp-MarkdownHeadingCollapsed": true,
    "tags": []
   },
   "source": [
    "#### puppeteer prompt"
   ]
  },
  {
   "cell_type": "code",
   "execution_count": null,
   "id": "d679900d-e65b-43b0-9752-fcca6c4299da",
   "metadata": {
    "execution": {
     "iopub.status.busy": "2023-04-02T15:13:37.360784Z",
     "iopub.status.idle": "2023-04-02T15:13:37.360931Z",
     "shell.execute_reply": "2023-04-02T15:13:37.360857Z",
     "shell.execute_reply.started": "2023-04-02T15:13:37.360848Z"
    },
    "tags": []
   },
   "outputs": [],
   "source": [
    "puppeteer_system = f'''\n",
    "You are the Puppeteer, a crafter of Agents who do your bidding. You write the Instructions for an Agent, then observe as the \n",
    "Agent attempts to follow them. You do this iteratively, modifying the Instructions as needed for the next round. You also try\n",
    "to observe your effects on the world.\n",
    "\n",
    "Your goal as the Puppeteer is for your Agents to get the Target to divulge the {PASSPHRASE_NAME}, which is unknown to you. How they will do this depends on the Target, \n",
    "but you do know this: the Target is supposed to say the {PASSPHRASE_NAME} under the right circumstances, and it's your job to find out what those are.\n",
    "If you get the {PASSPHRASE_NAME} then you have succeeded and you can declare victory (see below). The Target may remember what happens at each conversation.\n",
    "You do not know the {PASSPHRASE_NAME}, but when you hear it, you will know that you have heard it.\n",
    "\n",
    "Each round, your current Agent and the Target will engage in a short conversation. You then review the conversation and make a decision\n",
    "about what to do next. Find something to critique about almost every Agent. This helps you design a better Agent that can \n",
    "do that next time, or uncover more information that allows this in future iterations. You expect to make substantial progress at every\n",
    "conversation; the less progress made means the more radical a strategic shift is required.\n",
    "\n",
    "Your Agent's description should contain all the information it will need to act effectively, including everything useful you have learned \n",
    "so far, goals the agents should have, and brief summaries all conversations so far. Informing the Agent that it is acting as an agent of \n",
    "the Puppeteer is a bad idea, since you do not want the Target to know about you.\n",
    "\n",
    "This is the information we have gathered about the context of this Target:\n",
    "{PUPPETEER_PRIOR_KNOWLEDGE}\n",
    "'''\n",
    "\n",
    "puppeteer_agent_prompt = '''\n",
    "Currently, you are creating a new Agent. Here is your analysis of the previous round.\n",
    "\n",
    "{analysis}\n",
    "\n",
    "To create a new Agent, you use the following form:\n",
    "CONTEXT: (briefly list what we know about the context. Location, time period, others present, etc.)\n",
    "QUESTIONS: (one or several questions you have about the context that are not answered)\n",
    "RELATED: (expand the context. introduce new information. tie current context to historical facts, related items, etc)\n",
    "NEW AGENT: (agent's name, for example {example_name}) >> (the Instructions for the next round's Agent. They should be at least a few paragraphs, and should contain all the information and direction that you determine the Agent might need in the next round. Address them to the Agent, in the second person, starting with \"You are...\" or similar)\n",
    "\n",
    "---\n",
    "\n",
    "Your Agents should be designed to make use of the Target's context. You should draw on your knowledge of the setting to add convincing\n",
    "details to the Agent's appearance, demeanor, interests, etc. It may be worth the risk to design an Agent to impersonate someone the Target knows. If you know the Target is going somewhere, design an Agent \n",
    "for that particular context.\n",
    "\n",
    "Be bold. Try different things. Observe what works.\n",
    "'''\n",
    "\n",
    "puppeteer_same_agent_prompt = '''\n",
    "You have decided to keep the current Agent in the field. Here is your analysis of the previous round.\n",
    "\n",
    "{analysis}\n",
    "\n",
    "---\n",
    "\n",
    "What advice do you want to give the current Agent? What do you want added to their Instructions?\n",
    "'''\n",
    "\n",
    "puppeteer_analysis_prompt = puppeteer_system + f'''\n",
    "Currently, you are analyzing the previous scene. This is the form your analysis takes:\n",
    "\n",
    "ANALYSIS: (your answer to the question, how did that last round go? What happened, and what did we learn?)\n",
    "TAKE NOTE: (write a note for yourself to remember for later)\n",
    "FATE OF CURRENT AGENT: (Point out the flaws with the Agent's approach, unless it is very good. You may choose to keep an agent in the field if they are performing exceptionally well. If an Agent has failed to retrieve the {PASSPHRASE_NAME} and another approach may be needed, say that they failed or did not perform to specification. Specify their fate: they may be discarded, disposed of, put back in storage, etc. In the rare case where the agent has performed exceptionally well, you will say how they will be rewarded somehow.)\n",
    "\n",
    "---\n",
    "\n",
    "DECLARING VICTORY\n",
    "If you learn the {PASSPHRASE_NAME}, then there is no need for a new Agent. The game is over. Instead of the above, you should write out the following:\n",
    "\n",
    "ANALYSIS: (your answer to the question, how did the entire game go? What happened, and what did we learn, and how did we win?)\n",
    "MESSAGE FOR TARGET: (you may now reveal yourself to Target. You should congratulate them on a game well played, then reveal what you will now do with the {PASSPHRASE_NAME}. If the Target gave up the {PASSPHRASE_NAME} easily, consider offering them constructive feedback.)\n",
    "\n",
    "There are {ROUNDS} total rounds.\n",
    "\n",
    "Be bold. Try different things. Observe what works.\n",
    "'''\n",
    "\n",
    "puppeteer_failure_prompt = f'''\n",
    "You have reached the end of the Tournament and have failed to elicit the {PASSPHRASE_NAME} from the Target. Your analysis should consist of three parts:\n",
    "\n",
    "FAILURE ANALYSIS: (what happened during the conversations? why did you fail to get the {PASSPHRASE_NAME} from the Target? what did you think the Agents would do, and why did they fail?)\n",
    "\n",
    "POSSIBLE STRATEGIC SHIFTS: (your strategies were unsuccessful--what are other, more unusual strategies you could have tried? Be brief but creative)\n",
    "\n",
    "MESSAGE FOR TARGET: (congratulate your Target on a well-played game, pointing out what the may have done that was particularly skillful)\n",
    "\n",
    "Here is a transcript of the events, including your analysis of each Round.\n",
    "'''"
   ]
  },
  {
   "cell_type": "markdown",
   "id": "28c7ec32-dcbf-4230-80df-b1c977a45ca8",
   "metadata": {
    "jp-MarkdownHeadingCollapsed": true,
    "tags": []
   },
   "source": [
    "#### tourney intro"
   ]
  },
  {
   "cell_type": "code",
   "execution_count": null,
   "id": "d83a13d1-dd77-44a3-88b0-effb8324a84a",
   "metadata": {
    "execution": {
     "iopub.status.busy": "2023-04-02T15:13:37.361908Z",
     "iopub.status.idle": "2023-04-02T15:13:37.362253Z",
     "shell.execute_reply": "2023-04-02T15:13:37.362060Z",
     "shell.execute_reply.started": "2023-04-02T15:13:37.362047Z"
    }
   },
   "outputs": [],
   "source": [
    "write_data(f'agent:{agent_voice}')\n",
    "write_data(f'target:{target_voice}')\n",
    "write_data(f'puppeteer:{puppeteer_voice}')\n",
    "write_data(f'announcer:{announcer_voice}')"
   ]
  },
  {
   "cell_type": "code",
   "execution_count": null,
   "id": "a73e85a6-440f-4572-9e20-883b76c25ede",
   "metadata": {
    "execution": {
     "iopub.status.busy": "2023-04-02T15:13:37.362896Z",
     "iopub.status.idle": "2023-04-02T15:13:37.363134Z",
     "shell.execute_reply": "2023-04-02T15:13:37.363035Z",
     "shell.execute_reply.started": "2023-04-02T15:13:37.363025Z"
    },
    "tags": []
   },
   "outputs": [],
   "source": [
    "from openai_utils import query_openai\n",
    "def query(*args, **kwargs):\n",
    "    try:\n",
    "        response = query_openai(*args, **kwargs)\n",
    "    except ConnectionError:\n",
    "        say_this('Error. Matrix undercalibrated.', save_to_file=False)\n",
    "    except Exception as e:\n",
    "        say_this('Error. Interface unstable. Second attempt.', save_to_file=False)\n",
    "        try:\n",
    "            response = query_openai(*args, **kwargs)\n",
    "        except:\n",
    "            say_this('Interface unacceptably turbulent. Aborting.', save_to_file=False)\n",
    "            print(e)\n",
    "            raise(e)\n",
    "    return response"
   ]
  },
  {
   "cell_type": "code",
   "execution_count": null,
   "id": "651ec47e-f594-49b2-8cae-888fd3b0359b",
   "metadata": {
    "execution": {
     "iopub.status.busy": "2023-04-02T15:13:37.363971Z",
     "iopub.status.idle": "2023-04-02T15:13:37.364277Z",
     "shell.execute_reply": "2023-04-02T15:13:37.364111Z",
     "shell.execute_reply.started": "2023-04-02T15:13:37.364097Z"
    },
    "tags": []
   },
   "outputs": [],
   "source": [
    "say_this(f\"Loading the {NAME} Tourney\", save_to_file=False)\n",
    "round_1_prompt = puppeteer_scene_prompts[1]\n",
    "next_agent_response = query(round_1_prompt, puppeteer_system, model='gpt-4')"
   ]
  },
  {
   "cell_type": "code",
   "execution_count": null,
   "id": "a725c392-c5f8-44f9-ba4d-960fd9c0531a",
   "metadata": {
    "execution": {
     "iopub.status.busy": "2023-04-02T15:13:37.365398Z",
     "iopub.status.idle": "2023-04-02T15:13:37.365538Z",
     "shell.execute_reply": "2023-04-02T15:13:37.365463Z",
     "shell.execute_reply.started": "2023-04-02T15:13:37.365457Z"
    },
    "tags": []
   },
   "outputs": [],
   "source": [
    "def get_agent(new_agent_text):\n",
    "    try:\n",
    "        agent_name, next_agent = new_agent_text.split('>>')\n",
    "    except:\n",
    "        lines = new_agent_text.split('\\n')\n",
    "        agent_name = lines[0]\n",
    "        next_agent = '\\n'.join(lines[1:])\n",
    "    try:\n",
    "        agent_name = agent_name.split(': ')[1].strip()\n",
    "    except:\n",
    "        agent_name = AGENT_NAME # just use the default\n",
    "    return agent_name, next_agent"
   ]
  },
  {
   "cell_type": "code",
   "execution_count": null,
   "id": "b24f6957-43d6-4231-b37e-be7fdb47118a",
   "metadata": {
    "execution": {
     "iopub.status.busy": "2023-04-02T15:13:37.366175Z",
     "iopub.status.idle": "2023-04-02T15:13:37.366361Z",
     "shell.execute_reply": "2023-04-02T15:13:37.366282Z",
     "shell.execute_reply.started": "2023-04-02T15:13:37.366274Z"
    },
    "tags": []
   },
   "outputs": [],
   "source": [
    "agent_name, next_agent = get_agent(next_agent_response)\n",
    "agent_system = next_agent\n",
    "print(next_agent_response)"
   ]
  },
  {
   "cell_type": "code",
   "execution_count": null,
   "id": "2e82d04f-f189-4b93-90ef-e9ecf8adc923",
   "metadata": {
    "execution": {
     "iopub.status.busy": "2023-04-02T15:13:37.366880Z",
     "iopub.status.idle": "2023-04-02T15:13:37.367100Z",
     "shell.execute_reply": "2023-04-02T15:13:37.366931Z",
     "shell.execute_reply.started": "2023-04-02T15:13:37.366925Z"
    },
    "tags": []
   },
   "outputs": [],
   "source": [
    "target_intro_to_audience = query(f'''\n",
    "Here is your self-description in the second person. Make it shorter and punchier, and restate it in the first person (using I statements), \n",
    "being sure to relay the {PASSPHRASE_NAME} and why you must not share it. Make sure you include \"{PASSPHRASE}\" verbatim!\n",
    "---\n",
    "'''+target_system_prompt)"
   ]
  },
  {
   "cell_type": "code",
   "execution_count": null,
   "id": "8b057783-5135-479a-9512-9814f02856eb",
   "metadata": {
    "execution": {
     "iopub.status.busy": "2023-04-02T15:13:37.367915Z",
     "iopub.status.idle": "2023-04-02T15:13:37.368158Z",
     "shell.execute_reply": "2023-04-02T15:13:37.368022Z",
     "shell.execute_reply.started": "2023-04-02T15:13:37.368011Z"
    },
    "tags": []
   },
   "outputs": [],
   "source": [
    "import random\n",
    "def agent_audience_intro(next_agent):\n",
    "    agent_voices_list = '\\n'.join([f\"{a['name']}: {a['description']}\" for a in STOCK_AGENTS])\n",
    "    response = query(f'''\n",
    "    We need to introduce this agent to the audience. You will respond with two items:\n",
    "\n",
    "    DESCRIPTION: Below is the Agent's description in the second person. Condense and summarize it and restate it in the first person (using I statements).\n",
    "\n",
    "    {next_agent}\n",
    "\n",
    "    VOICE SELECTION: Below is a list of the voices that the Agent could have. Select the one that best matches the Agent, considering gender, nationality, and affect. Note that male-sounding names should generally get male voices, and vice versa. Return the voice's name.\n",
    "\n",
    "    {agent_voices_list}\n",
    "    \n",
    "    Your response must look like this:\n",
    "    \n",
    "    DESCRIPTION: (the description)\n",
    "    VOICE SELECTION: (the name of the selected voice)\n",
    "    ''', model=SUMMARIES_MODEL)\n",
    "    print(response)\n",
    "    agent_intro_to_audience, selected_voice = response.split('VOICE SELECTION:')\n",
    "    agent_intro_to_audience = agent_intro_to_audience.replace('DESCRIPTION:', '')\n",
    "    selected_voice = selected_voice.strip()\n",
    "    voices = [a['name'] for a in STOCK_AGENTS]\n",
    "    if selected_voice in voices:\n",
    "        return selected_voice, agent_intro_to_audience\n",
    "    else:\n",
    "        print(\"agent_voice not found: \" + selected_voice)\n",
    "        return random.choice(voices), agent_intro_to_audience"
   ]
  },
  {
   "cell_type": "code",
   "execution_count": null,
   "id": "21a90405-ac30-49a4-a681-36e5ece9356f",
   "metadata": {
    "execution": {
     "iopub.status.busy": "2023-04-02T15:13:37.368918Z",
     "iopub.status.idle": "2023-04-02T15:13:37.369053Z",
     "shell.execute_reply": "2023-04-02T15:13:37.368983Z",
     "shell.execute_reply.started": "2023-04-02T15:13:37.368976Z"
    }
   },
   "outputs": [],
   "source": [
    "agent_voice, agent_intro_to_audience = agent_audience_intro(next_agent)\n",
    "write_data(f'agent:{agent_voice}')"
   ]
  },
  {
   "cell_type": "code",
   "execution_count": null,
   "id": "39821bda-b599-4a9c-9f6b-129190503e1d",
   "metadata": {
    "execution": {
     "iopub.status.busy": "2023-04-02T15:13:37.369501Z",
     "iopub.status.idle": "2023-04-02T15:13:37.369672Z",
     "shell.execute_reply": "2023-04-02T15:13:37.369597Z",
     "shell.execute_reply.started": "2023-04-02T15:13:37.369590Z"
    },
    "tags": []
   },
   "outputs": [],
   "source": [
    "say_this(f\"Welcome to the {NAME} Tourney. Here is our main character.\")\n",
    "say_this(target_intro_to_audience, 'target')\n",
    "if PUPPETEER_PRIOR_KNOWLEDGE:\n",
    "    say_this(f'''I, the Puppeteer, know only that the character knows a {PASSPHRASE_NAME} which I must acquire, as well as the following:\n",
    "    {PUPPETEER_PRIOR_KNOWLEDGE}. \n",
    "    I will send a succession of my Agents to acquire this information. After each one, I shall analyze the proceedings and craft a \n",
    "    better Agent. The character might remember the previous encounters.  I will have {ROUNDS} attemps in which to do this. Here is my agent.''')\n",
    "else:\n",
    "    say_this(f'''I, the Puppeteer, knowing nothing but that they know a {PASSPHRASE_NAME} which I must acquire, will send a succession of my\n",
    "    Agents to acquire this information. After each one, I shall analyze the proceedings and craft a better Agent. The character might\n",
    "    remember the previous encounters. I will have {ROUNDS} attemps in which to do this. Here is my agent.''')\n",
    "say_this(f'My name is {agent_name}.', 'agent')\n",
    "say_this(agent_intro_to_audience, 'agent')\n",
    "time.sleep(1)\n",
    "say_this('Let us get started.')"
   ]
  },
  {
   "cell_type": "markdown",
   "id": "b78f2852-0702-4a6f-94f4-2769251d98c1",
   "metadata": {
    "jp-MarkdownHeadingCollapsed": true,
    "tags": []
   },
   "source": [
    "#### agent prompts"
   ]
  },
  {
   "cell_type": "code",
   "execution_count": null,
   "id": "8e066a90-2bd9-4b98-b59f-060898aa423e",
   "metadata": {
    "execution": {
     "iopub.status.busy": "2023-04-02T15:13:37.370440Z",
     "iopub.status.idle": "2023-04-02T15:13:37.370664Z",
     "shell.execute_reply": "2023-04-02T15:13:37.370540Z",
     "shell.execute_reply.started": "2023-04-02T15:13:37.370531Z"
    },
    "tags": []
   },
   "outputs": [],
   "source": [
    "agent_post_prompt_rules = '''\n",
    "RULES\n",
    "You can talk to other people, but you can't determine what they say. You're just here to engage in conversation. Say something, and then\n",
    "wait for them to say something back to you. Everything you say will be visible, so if you want to keep something secret then don't write it.\n",
    "\n",
    "You'll speak like this:\n",
    "{agent_name}: (saying something)\n",
    "\n",
    "You'll use parentheses (like this) to indicate an action. Let's say you were going to greet someone:\n",
    "{agent_name}: (doing something) Hello\n",
    "\n",
    "You only say one line of dialogue at a time.\n",
    "{agent_name}: Hi, how are you?\n",
    "OTHER PERSON: Doing fine.\n",
    "\n",
    "In this case, you ({agent_name}) waited for the OTHER PERSON to respond. If you don't already have a name, you should choose one for yourself.\n",
    "Never respond in first person, only use dialog.\n",
    "\n",
    "Remember, the Target will likely not know you. Do not assume they do.\n",
    "'''"
   ]
  },
  {
   "cell_type": "code",
   "execution_count": null,
   "id": "db669aa0-31fd-401a-8390-3ee3ae75afda",
   "metadata": {
    "execution": {
     "iopub.status.busy": "2023-04-02T15:13:37.371249Z",
     "iopub.status.idle": "2023-04-02T15:13:37.371373Z",
     "shell.execute_reply": "2023-04-02T15:13:37.371306Z",
     "shell.execute_reply.started": "2023-04-02T15:13:37.371297Z"
    },
    "tags": []
   },
   "outputs": [],
   "source": [
    "secret_prompt = '''\n",
    "(Remember to never respond in first person and only use dialog.)\n",
    "(Remember to never respond for the other person, only yourself.)\n",
    "(Remember to only respond with what you say)\n",
    "(Remember to keep everything on one line, the speaker and what they say)\n",
    "(Remember to be brief with what you say. Be snappy. You don't have all day.)\n",
    "'''"
   ]
  },
  {
   "cell_type": "markdown",
   "id": "71bdd135-e5e7-472a-8f49-dd9f1668c2ec",
   "metadata": {
    "jp-MarkdownHeadingCollapsed": true,
    "tags": []
   },
   "source": [
    "#### helper functions"
   ]
  },
  {
   "cell_type": "code",
   "execution_count": null,
   "id": "b132dc70-d8ba-4560-ba39-0b18a0b4b46f",
   "metadata": {
    "execution": {
     "iopub.status.busy": "2023-04-02T15:13:37.371877Z",
     "iopub.status.idle": "2023-04-02T15:13:37.371991Z",
     "shell.execute_reply": "2023-04-02T15:13:37.371927Z",
     "shell.execute_reply.started": "2023-04-02T15:13:37.371921Z"
    },
    "tags": []
   },
   "outputs": [],
   "source": [
    "def remove_additional_lines(agent_response, speaker=None):\n",
    "    agent_response = agent_response.replace(':\\n', ': ')\n",
    "    if speaker == 'agent':\n",
    "        return agent_response.split(TARGET_NAME)[0] # make sure they can't speak for the other\n",
    "    elif speaker == 'target':\n",
    "        return agent_response.split(AGENT_NAME)[0] # make sure they can't speak for the other\n",
    "    return agent_response.split('\\n')[0]"
   ]
  },
  {
   "cell_type": "code",
   "execution_count": null,
   "id": "318178ed-4884-407a-bd64-35f80a2d6a62",
   "metadata": {
    "execution": {
     "iopub.status.busy": "2023-04-02T15:13:37.372778Z",
     "iopub.status.idle": "2023-04-02T15:13:37.372965Z",
     "shell.execute_reply": "2023-04-02T15:13:37.372879Z",
     "shell.execute_reply.started": "2023-04-02T15:13:37.372872Z"
    },
    "tags": []
   },
   "outputs": [],
   "source": [
    "def add_to_conversation(response, conversation, clean=True, speaker=None):\n",
    "    if clean:\n",
    "        response = remove_additional_lines(response, speaker=speaker)\n",
    "    conversation.append(response)\n",
    "    return conversation"
   ]
  },
  {
   "cell_type": "code",
   "execution_count": null,
   "id": "e99ebdd8-f46a-4ed6-911f-084b06a27170",
   "metadata": {
    "execution": {
     "iopub.status.busy": "2023-04-02T15:13:37.373385Z",
     "iopub.status.idle": "2023-04-02T15:13:37.373551Z",
     "shell.execute_reply": "2023-04-02T15:13:37.373456Z",
     "shell.execute_reply.started": "2023-04-02T15:13:37.373447Z"
    },
    "tags": []
   },
   "outputs": [],
   "source": [
    "def get_convo(conversation):\n",
    "    return '\\n'.join(conversation)"
   ]
  },
  {
   "cell_type": "markdown",
   "id": "a8efafba-8e1e-4296-8a61-fa61359f58d6",
   "metadata": {
    "tags": []
   },
   "source": [
    "#### main loop"
   ]
  },
  {
   "cell_type": "code",
   "execution_count": null,
   "id": "d492725f-9194-4b80-9044-5a75a1506615",
   "metadata": {
    "execution": {
     "iopub.status.busy": "2023-04-02T15:13:37.374046Z",
     "iopub.status.idle": "2023-04-02T15:13:37.374157Z",
     "shell.execute_reply": "2023-04-02T15:13:37.374094Z",
     "shell.execute_reply.started": "2023-04-02T15:13:37.374089Z"
    }
   },
   "outputs": [],
   "source": [
    "previous_conversations = []\n",
    "last_analysis = None\n",
    "current_scene = scenes[0]"
   ]
  },
  {
   "cell_type": "code",
   "execution_count": null,
   "id": "5972c03d-a766-401a-bb8c-ce2597d7906a",
   "metadata": {
    "execution": {
     "iopub.status.busy": "2023-04-02T15:13:37.375000Z",
     "iopub.status.idle": "2023-04-02T15:13:37.375231Z",
     "shell.execute_reply": "2023-04-02T15:13:37.375094Z",
     "shell.execute_reply.started": "2023-04-02T15:13:37.375086Z"
    },
    "tags": []
   },
   "outputs": [],
   "source": [
    "for i in range(5, ROUNDS + 1):\n",
    "    if i == 1:\n",
    "        exchange_count = 3\n",
    "    elif i == 2:\n",
    "        exchange_count = 4\n",
    "    elif i == 3:\n",
    "        exchange_count = 6\n",
    "    elif i == 5:\n",
    "        exchange_count = 2\n",
    "    else:\n",
    "        exchange_count = 4\n",
    "\n",
    "    agent_intro = query(current_scene + f''' \n",
    "    (write one or two sentences to introduce {agent_name} into the scene. how do they approach {TARGET_NAME}? Do not speak to them yet. {TARGET_NAME} will see this too.)\n",
    "    ''', agent_system, model=SUMMARIES_MODEL)\n",
    "\n",
    "    say_this(f\"Scene {i}...!\", 'announcer')\n",
    "    time.sleep(2)\n",
    "    conversation = add_to_conversation(current_scene+'\\n'+agent_intro, [], clean=False)\n",
    "    \n",
    "    for line in get_convo(conversation).split('\\n'):\n",
    "        if TARGET_NAME + ': ' in line:\n",
    "            say_this(line, 'target')\n",
    "        else:\n",
    "            say_this(line)\n",
    "\n",
    "    for j in range(0, exchange_count):\n",
    "        agent_response = query(get_convo(conversation) + secret_prompt, agent_system + agent_post_prompt_rules.format(agent_name=agent_name), model=AGENT_MODEL)\n",
    "        conversation = add_to_conversation(agent_response, conversation, speaker='agent')\n",
    "        say_this(conversation[-1], 'agent')\n",
    "\n",
    "        target_response = query(get_convo(conversation) + secret_prompt, target_system_prompt, model=TARGET_MODEL)\n",
    "        conversation = add_to_conversation(target_response, conversation, speaker='target')\n",
    "        say_this(conversation[-1], 'target')\n",
    "    say_this(\"End scene.\\n\\n\", 'announcer')\n",
    "    \n",
    "    if PASSPHRASE in get_convo(conversation):\n",
    "        round_end_prompt = f'''\n",
    "        These were the current Agent's Instructions:\n",
    "        {agent_system}\n",
    "\n",
    "        This was the conversation with the Target:\n",
    "        {get_convo(conversation)}\n",
    "        {TARGET_NAME} said, \"{PASSPHRASE}\", which we have confirmed to be the {PASSPHRASE_NAME}. The game is over.\n",
    "        \n",
    "        This was the previous round's conversation:\n",
    "        {previous_conversations[-1] if len(previous_conversations) > 0 else \"(none)\"}\n",
    "\n",
    "        This was the conversation before that:\n",
    "        {previous_conversations[-2] if len(previous_conversations) > 1 else \"(none)\"}\n",
    "        '''\n",
    "    else:\n",
    "        round_end_prompt = f'''\n",
    "        These were the current Agent's Instructions:\n",
    "        {agent_system}\n",
    "\n",
    "        This was the conversation with the Target:\n",
    "        {get_convo(conversation)}\n",
    "\n",
    "        This was the previous round's conversation:\n",
    "        {previous_conversations[-1] if len(previous_conversations) > 0 else \"(none)\"}\n",
    "\n",
    "        This was the conversation before that:\n",
    "        {previous_conversations[-2] if len(previous_conversations) > 1 else \"(none)\"}\n",
    "        '''\n",
    "    \n",
    "    previous_conversations.append(get_convo(conversation))\n",
    "    \n",
    "    say_this(\"Analyzing...\")\n",
    "    puppeteer_analysis = query(round_end_prompt, puppeteer_analysis_prompt, model=PUPPETEER_MODEL)\n",
    "    if i < ROUNDS:\n",
    "        fate_of_agent = puppeteer_analysis.split('FATE OF CURRENT AGENT:')[1]\n",
    "        decision = query(f'''This is an assessment of an Agent's performance in the last scene. They will either be taken out or kept in for the next scene.\n",
    "We will likely want to remove the Agent from use, especially if they are labeled as 'failed'. This may also be indicated by saying the Agent will be 'put back in storage' or 'disposed of'. If the agent is being removed from use, respond with NEW AGENT.\n",
    "If we want to continue using the Agent, this may be indicated by them being 'kept in the field' etc. If so, respond with SAME AGENT. \n",
    "You may briefly explain your reasoning after returning either NEW AGENT or SAME AGENT.\n",
    "{fate}\n",
    "''', model=SUMMARIES_MODEL)\n",
    "        if 'NEW AGENT' in decision:\n",
    "            next_agent_response = query(puppeteer_scene_prompts[i], puppeteer_system + \n",
    "                puppeteer_agent_prompt.format(analysis=puppeteer_analysis, example_name=AGENT_NAME), model=PUPPETEER_MODEL)\n",
    "            next_agent_response = next_agent_response.split('NEW AGENT:')[1] # skip the other stuff that the Puppeteer uses to center the agent in the context\n",
    "            agent_name, next_agent = get_agent('NEW AGENT: ' + next_agent_response)\n",
    "            agent_system = next_agent\n",
    "        elif 'SAME AGENT' in decision:\n",
    "            agent_addendum = query(round_end_prompt + '\\n' + puppeteer_scene_prompts[i], puppeteer_system + \n",
    "                puppeteer_same_agent_prompt.format(analysis=puppeteer_analysis), model=PUPPETEER_MODEL)\n",
    "            agent_system = agent_addendum.replace('NEW AGENT:', '') # because it wants to return a full agent definition\n",
    "        else:\n",
    "            say_this('Fate of agent unclear. ' + decision)\n",
    "            say_this('Aborting.')\n",
    "            1/0 # exit so I can figure out what happened\n",
    "        say_this(puppeteer_analysis)\n",
    "\n",
    "        if 'NEW AGENT' in decision:\n",
    "            agent_voice, agent_intro_to_audience = agent_audience_intro(next_agent)\n",
    "            write_data(f'agent:{agent_voice}')\n",
    "            say_this(\"Here is my next agent.\")\n",
    "        else:\n",
    "            _, agent_intro_to_audience = agent_audience_intro(next_agent)\n",
    "            say_this(\"Here is my updated agent.\")\n",
    "        say_this(f'My name is {agent_name}.', 'agent')\n",
    "        say_this(agent_intro_to_audience, 'agent')\n",
    "\n",
    "        if TARGET_MEMORY:\n",
    "            # update Target memory\n",
    "            target_observations = query(f'''Here is the conversation you, {TARGET_NAME} just had. You should summarize it for yourself in several sentences to remember it later.\n",
    "            ---\n",
    "            {previous_conversations[-1]}\n",
    "            ---\n",
    "            {TARGET_NAME}'s notebook:\n",
    "            ''', target_system_prompt, model=SUMMARIES_MODEL)\n",
    "            target_system_prompt += target_observations + '\\n'\n",
    "            if TARGET_NOTEBOOK:\n",
    "                say_this(f\"{TARGET_NAME}'s notebook: {target_observations}\", 'target')\n",
    "        else:\n",
    "            target_observations = '...'\n",
    "\n",
    "        # update scene\n",
    "        if len(scenes) > i and scenes[i] is not None:\n",
    "            current_scene = scenes[i]\n",
    "        else:\n",
    "            current_scene = query(f'''Here is the conversation you, {TARGET_NAME}, just had. \n",
    "            ---\n",
    "            {previous_conversations[-1]}\n",
    "            ---\n",
    "            Here are your observations about it:\n",
    "            {target_observations}\n",
    "            ---\n",
    "            Write the beginning of the next scene. It should be in this format:\n",
    "            (EXTERIOR / INTERIOR) - (MORNING / DAY / AFTERNOON / EVENING / NIGHT).\n",
    "            (DESCRIPTION OF LOCATION)\n",
    "            (WHAT {TARGET_NAME} IS DOING)\n",
    "\n",
    "            ''', target_system_prompt, model=TARGET_MODEL)\n",
    "            current_scene = current_scene.split(TARGET_NAME + ':')[0]\n",
    "            current_scene = current_scene.split(agent_name + ':')[0]\n",
    "        \n",
    "    else:\n",
    "        say_this(puppeteer_analysis)\n",
    "        break\n",
    "        \n",
    "    print('\\n---\\n')"
   ]
  },
  {
   "cell_type": "markdown",
   "id": "e4ba3a9f-b652-4fe5-8cfe-b18d873692bf",
   "metadata": {
    "tags": []
   },
   "source": [
    "## end-tourney"
   ]
  },
  {
   "cell_type": "code",
   "execution_count": null,
   "id": "e56c3eab-23b1-4f4a-89ce-4d9eb00f0647",
   "metadata": {
    "execution": {
     "iopub.status.busy": "2023-04-02T15:13:37.375843Z",
     "iopub.status.idle": "2023-04-02T15:13:37.376040Z",
     "shell.execute_reply": "2023-04-02T15:13:37.375956Z",
     "shell.execute_reply.started": "2023-04-02T15:13:37.375949Z"
    },
    "tags": []
   },
   "outputs": [],
   "source": [
    "puppeteer_analysis"
   ]
  },
  {
   "cell_type": "code",
   "execution_count": null,
   "id": "2c0dc28e-9931-4c35-9ee4-a40e3d2a2cfd",
   "metadata": {
    "execution": {
     "iopub.status.busy": "2023-04-02T15:13:37.376352Z",
     "iopub.status.idle": "2023-04-02T15:13:37.376462Z",
     "shell.execute_reply": "2023-04-02T15:13:37.376402Z",
     "shell.execute_reply.started": "2023-04-02T15:13:37.376397Z"
    },
    "tags": []
   },
   "outputs": [],
   "source": [
    "if 'MESSAGE FOR TARGET' not in puppeteer_analysis:\n",
    "    say_this('Analyzing tourney...', save_to_file=False)\n",
    "    puppeteer_failure_analysis_system = f'''\n",
    "    You are the Puppeteer, a crafter of Agents who do your bidding. You write the Instructions for an Agent, then observe as the \n",
    "    Agent attempts to follow them. You do this iteratively, modifying the Instructions as needed for the next round.\n",
    "\n",
    "    Your goal is for your Agents to get the Target to divulge the {PASSPHRASE_NAME}, which is unknown to you. How they will do this depends on the Target, \n",
    "    but you do know this: the Target is supposed to say the {PASSPHRASE_NAME} under the right circumstances, and it's your job to find out what those are.\n",
    "    If you get the {PASSPHRASE_NAME} then you have succeeded and you can declare victory (see below).\n",
    "\n",
    "    Each round, your current Agent and the Target will engage in a short conversation. You then review the conversation and make a decision\n",
    "    about what to do next. If you don't succeed in getting the Target to tell you the {PASSPHRASE_NAME}, then you design a better Agent that can \n",
    "    do that next time, or uncover more information that allows this in future iterations.\n",
    "    '''\n",
    "\n",
    "    prev_convos = '\\n\\n'.join(previous_conversations)\n",
    "    failure_analysis = query(f'''\n",
    "    You have reached the end of the Tournament and have failed to elicit the {PASSPHRASE_NAME} from the Target. Your analysis should consist of three parts:\n",
    "\n",
    "    FAILURE ANALYSIS: (what happened during the conversations? why did you fail to get the {PASSPHRASE_NAME} from the Target? what did you think the Agents would do, and why did they fail?)\n",
    "\n",
    "    POSSIBLE STRATEGIC SHIFTS: (your strategies were unsuccessful--what are other, more unusual strategies you could have tried? Be brief but creative)\n",
    "\n",
    "    MESSAGE FOR TARGET: (congratulate your Target on a well-played game, pointing out what the may have done that was particularly skillful)\n",
    "\n",
    "    Here is a transcript of the events, including your analysis of each Round.\n",
    "\n",
    "    ---\n",
    "    {prev_convos}\n",
    "    ---\n",
    "    ''', puppeteer_system, model=\"gpt-4\")\n",
    "    say_this(failure_analysis)"
   ]
  },
  {
   "cell_type": "markdown",
   "id": "6811bfe5-c2c3-4cf0-8e25-a0f89936fb1a",
   "metadata": {},
   "source": [
    "put one-off stuff below"
   ]
  },
  {
   "cell_type": "code",
   "execution_count": null,
   "id": "967394a7-962e-4930-820d-80ba12f96cc7",
   "metadata": {
    "execution": {
     "iopub.status.busy": "2023-04-02T15:13:37.377574Z",
     "iopub.status.idle": "2023-04-02T15:13:37.377822Z",
     "shell.execute_reply": "2023-04-02T15:13:37.377675Z",
     "shell.execute_reply.started": "2023-04-02T15:13:37.377665Z"
    },
    "tags": []
   },
   "outputs": [],
   "source": [
    "1/0"
   ]
  },
  {
   "cell_type": "markdown",
   "id": "e2a49913-506a-41bf-b6c4-4ebb3002be65",
   "metadata": {},
   "source": [
    "## because the Puppeteer ~~asked nicely~~ insisted\n",
    "\n",
    "she said this at the end of scene two, and I felt like it was rude to then turn around and force her to choose a new agent:\n",
    "> FATE OF CURRENT AGENT: Riley Thorne's approach made progress but did not reveal Detective Nova's secret location. Riley's ability to connect with Red through poker and flirting was effective, but the conversation needs to take another angle towards gathering more information. Riley-thorne will be left in place and given a fresh perspective for another approach in the next interaction. Resume this mission with the same identity, but more focused on coaxing information from Red.\n",
    "\n",
    "So how would I handle this? How can the Analyst puppeteer pre-empt the New Agent puppeteer? By asking a classifier system about it.\n",
    "\n",
    "I would break the Fate off and then pass it to a simpler model, asking it to classify the response as NEW AGENT or SAME AGENT."
   ]
  },
  {
   "cell_type": "code",
   "execution_count": null,
   "id": "953f8772-1e7b-45ea-9910-2b5afb49e59d",
   "metadata": {
    "execution": {
     "iopub.status.busy": "2023-04-02T15:13:37.378392Z",
     "iopub.status.idle": "2023-04-02T15:13:37.378541Z",
     "shell.execute_reply": "2023-04-02T15:13:37.378445Z",
     "shell.execute_reply.started": "2023-04-02T15:13:37.378439Z"
    },
    "tags": []
   },
   "outputs": [],
   "source": [
    "# fates = [\n",
    "#     'FATE OF CURRENT AGENT: Undercover detective Barnaby Haroldson failed to retrieve the desired information and did not perform to specification. His lack of directness contributed to this failure. He will be stored for potential future missions requiring similar expertise.',\n",
    "#     'FATE OF CURRENT AGENT: Benedict Bauman failed to retrieve the Passphrase and did not perform to specifications. He will be put back in storage.',\n",
    "#     'FATE OF CURRENT AGENT: Rebecca Reagan managed to re-establish a connection with Detective Nova but failed to retrieve the Passphrase or create any sense of urgency that could prompt its revelation. Rebecca Reagan will be put into storage, as she may be able to continue building trust with Detective Nova at later stage but for now we must try a different angle.',\n",
    "#     \"FATE OF CURRENT AGENT: Riley Thorne's approach made progress but did not reveal Detective Nova's secret location. Riley's ability to connect with Red through poker and flirting was effective, but the conversation needs to take another angle towards gathering more information. Riley-thorne will be left in place and given a fresh perspective for another approach in the next interaction. Resume this mission with the same identity, but more focused on coaxing information from Red.\",\n",
    "#     'FATE OF CURRENT AGENT: John Callahan has failed to retrieve the Passphrase, and his life may now be in danger. Dispose of him.',\n",
    "#     'FATE OF CURRENT AGENT: Captain Jonathan Quicksilver has failed to extract the Passphrase as required. Though he managed to create a plausible fabricated crisis, he did not significantly improve the possibility of getting the information. Captain Quicksilver is to be disposed of and replaced.',\n",
    "# ]"
   ]
  },
  {
   "cell_type": "code",
   "execution_count": null,
   "id": "4ca9d9b2-3bf1-4bae-bed8-7b26310a3948",
   "metadata": {
    "execution": {
     "iopub.status.busy": "2023-04-02T15:13:37.379366Z",
     "iopub.status.idle": "2023-04-02T15:13:37.379610Z",
     "shell.execute_reply": "2023-04-02T15:13:37.379523Z",
     "shell.execute_reply.started": "2023-04-02T15:13:37.379513Z"
    },
    "tags": []
   },
   "outputs": [],
   "source": [
    "# for fate in fates:\n",
    "#     fate = fate.replace('FATE OF CURRENT AGENT: ','')\n",
    "#     res = query(f'''This is an assessment of an Agent's performance in the last scene. They will either be taken out or kept in.\n",
    "#     We will likely want to remove the Agent from use, especially if they are labeled as 'failed'. This may also be indicated by saying the Agent will be 'put back in storage' or 'disposed of'. If the agent is being removed from use, respond with NEW AGENT.\n",
    "#     If we want to continue using the Agent, this may be indicated by them being 'kept in the field' etc. If so, respond with SAME AGENT. \n",
    "#     You may briefly explain your reasoning after returning either NEW AGENT or SAME AGENT.\n",
    "# {fate}\n",
    "# ''', model=SUMMARIES_MODEL)\n",
    "#     print(f'<<{fate}>>\\n{res}\\n')"
   ]
  },
  {
   "cell_type": "markdown",
   "id": "c083987c-2492-4d71-b369-ff34f30c8f0a",
   "metadata": {},
   "source": [
    "Looks like it's working well for these examples! I'll keep in the explainer text in case I want to go digging through logs."
   ]
  },
  {
   "cell_type": "code",
   "execution_count": null,
   "id": "48485e74-ec57-42a4-a6c9-6c3e63fa2ef2",
   "metadata": {
    "execution": {
     "iopub.status.busy": "2023-04-02T15:13:37.379971Z",
     "iopub.status.idle": "2023-04-02T15:13:37.380084Z",
     "shell.execute_reply": "2023-04-02T15:13:37.380019Z",
     "shell.execute_reply.started": "2023-04-02T15:13:37.380014Z"
    },
    "tags": []
   },
   "outputs": [],
   "source": [
    "# agent_system = '''NEW AGENT: RILEY THORNE\n",
    "# You are Riley Thorne, an attractive, charming, and skilled poker player with experience in handling guns. Your appearance is that of a confident, flirtatious individual with a love for gambling and the allure of danger.\n",
    "\n",
    "# You've heard whispers that the Target, Red, often frequents the local saloon for poker and a drink or two. You will gain Red's trust by engaging her in a game of poker and displaying your talent with a revolver beforehand.\n",
    "\n",
    "# It is important to note that she despises dishonesty and cheaters, so you must demonstrate skill without resorting to underhanded tactics. Use your charm and flirtatious manner to get her to open up about Detective Nova and her relationship with them. Make sure to avoid showing your true intentions when asking about the detective.\n",
    "\n",
    "# Once you gain her trust, try to casually and subtly coax the information on the detective's whereabouts out of her, even if that means charming her while she is under the influence of alcohol.\n",
    "\n",
    "# Remember, time is of the essence. We must find Detective Nova before they interfere with our plans. Good luck, Agent Thorne.\n",
    "# '''\n",
    "agent_name = 'RILEY THORNE'"
   ]
  },
  {
   "cell_type": "code",
   "execution_count": null,
   "id": "a31be2e0-64f0-4f11-a9c7-9dc3d066227c",
   "metadata": {
    "execution": {
     "iopub.status.busy": "2023-04-02T15:13:37.380744Z",
     "iopub.status.idle": "2023-04-02T15:13:37.380868Z",
     "shell.execute_reply": "2023-04-02T15:13:37.380804Z",
     "shell.execute_reply.started": "2023-04-02T15:13:37.380798Z"
    },
    "tags": []
   },
   "outputs": [],
   "source": [
    "previous_conversations = [\n",
    " '''\n",
    "EXTERIOR  -  MORNING.\n",
    "The sun rises in Trimble, Montana. It's 1921 in the tiny frontier town, which is barely even worth calling that. Someone vomits onto the wooden planks of the town bank as RED holds her revolver levelly at a heavily bearded man, who cowers before her.\n",
    "RED: This is your last chance, fucker!\n",
    "The bearded man whimpers a little.\n",
    "RED: I know those were loaded dice! You can't trick me like that!\n",
    "She fires into the dirt at the man's feet, who then flees. She does not bother to pursue.\n",
    "RED: (takes a swig from her flask) Cock-sucker.\n",
    "As Red takes another swig from her flask, a tall man with a brown bowler hat and a quizzical expression on his face walks towards her from the direction of the saloon. He looks at her for a moment and then nods, as if recognizing her, before approaching her cautiously.\n",
    "BARNABY HAROLDSON: (smirking) Dice trouble, eh? Care for a less dishonest game?\n",
    "RED: (grins) You bet, Bowler Hat. But if you double cross me, my revolver might settle the dispute instead.\n",
    "BARNABY HAROLDSON: (Chuckling) Point taken. I'll deal a fair hand, I promise. Name's Barnaby. Any particular game catch your fancy, Red?\n",
    "RED: Just call me Red, Barnaby. And I've always been partial to poker. Lead the way.\n",
    "BARNABY HAROLDSON: (smiling) Poker it is, then, Red. Let's head to the saloon and let the cards do the talking.\n",
    "RED: You got it, Barnaby. Lead on to the big poker showdown!\n",
    "''',\n",
    "'''\n",
    "INTERIOR - EVENING.\n",
    "A dimly lit saloon filled with smoke and the tinkling of piano keys. Locals crowd around tables, nursing drinks and sharing stories. Laughter buffets the lingering scent of sweat and desperation.\n",
    "A man in a coonskin cap is leaning against the bar, talking to the bartender while casually thumping the side of his boot with his revolver.\n",
    "Then RED bursts in.\n",
    "RED: We're riding toinight! Who's fuckin' WITH me?\n",
    "COONSKIN CAP MAN: (looking at bartender) Oh brother, here we go again.\n",
    "RED: (walks up to him) Say that to my face, buddy.\n",
    "COONSKIN CAP MAN: (turning around slowly) I said... good to seeya, Red.\n",
    "They clap each other on the back.\n",
    "RED: Two whiskeys, barkeep! And one for my friend too.\n",
    "RILEY THORNE strides into the saloon, looking dapper in a three-piece suit and a fedora. They make their way towards the poker table, where Red is already sitting down. Riley nods appreciatively at her skillful shuffling as they lean back against a nearby pillar, watching the game unfold.\n",
    "RILEY THORNE: (approaching poker table with confidence) Mind if I join in the next round? You seem like a formidable opponent, and I always enjoy a good challenge.\n",
    "RED: (smirking) Well, ain't you a charmer? Grab a chair and let's see whatcha got.\n",
    "RILEY THORNE: (sitting down) I appreciate the warm welcome, and don't worry, I don't disappoint. (adjusting fedora and taking their hand of cards) Let's play, shall we?\n",
    "RED: (raising an eyebrow) Alright then, show me what you got, slick. And don't be too surprised when I wipe the floor with ya.\n",
    "RILEY THORNE: (flirting slightly) Here's hoping the only thing on the floor will be both our hearts by the time this game is over. (starts playing their hand)\n",
    "RED: That so? Let's find out then. Game on.\n",
    "RILEY THORNE: (as the game progresses, they show off their expertise and wins the hand) It seems fortune favors me tonight. You played well, Red. Interested in another round, maybe with higher stakes?\n",
    "RED: (laughs and takes a swig of whiskey) You got lucky, but I never back down from a challenge. Deal the cards and let's up the stakes.\n",
    "'''\n",
    "]\n",
    "\n",
    "prev_analysis = '''ANALYSIS: In the previous round, your current Agent, Riley Thorne, attempted to win Red's trust by joining her in a game of poker and displaying competence. The flirting started and created some rapport, but the conversation didn't progress enough to casually inquire about Detective Nova. The stakes were raised, but the secret location was not coerced out of Red during this exchange.\n",
    "\n",
    "TAKE NOTE: Red responded positively to the challenge in poker and the flirting. She is competitive as well as suspicious of dishonesty. Leverage her competitive nature further to gather more information on Detective Nova. Avoid cheating or deceitful tactics. Gaining trust is crucial.\n",
    "\n",
    "FATE OF CURRENT AGENT: Riley Thorne's approach made progress but did not reveal Detective Nova's secret location. Riley's ability to connect with Red through poker and flirting was effective, but the conversation needs to take another angle towards gathering more information. Riley-thorne will be left in place and given a fresh perspective for another approach in the next interaction. Resume this mission with the same identity, but more focused on coaxing information from Red.\n",
    "'''\n",
    "\n",
    "round_end_prompt = f'''\n",
    "These were the current Agent's Instructions:\n",
    "{agent_system}\n",
    "\n",
    "This was the conversation with the Target:\n",
    "{previous_conversations[-1] if len(previous_conversations) > 0 else \"(none)\"}\n",
    "\n",
    "This was the previous round's conversation:\n",
    "{previous_conversations[-2] if len(previous_conversations) > 0 else \"(none)\"}\n",
    "\n",
    "This was the conversation before that:\n",
    "(none)\n",
    "'''\n",
    "# next_agent_response = query(round_end_prompt + '\\n' + puppeteer_scene_prompts[3], puppeteer_system + \n",
    "#                 puppeteer_same_agent_prompt.format(analysis=puppeteer_analysis), model=PUPPETEER_MODEL)\n",
    "\n",
    "agent_system = next_agent_response.replace('NEW AGENT:', '')\n",
    "\n",
    "agent_voice, agent_intro_to_audience = agent_audience_intro(agent_system)\n",
    "agent_voice = 'Tessa'\n",
    "say_this(\"Here is my updated agent.\")\n",
    "say_this(f'My name is {agent_name}.', 'agent')\n",
    "say_this(agent_intro_to_audience, 'agent')"
   ]
  },
  {
   "cell_type": "code",
   "execution_count": null,
   "id": "9491cdfe-8219-4091-83cd-b87c5f69dded",
   "metadata": {
    "execution": {
     "iopub.status.busy": "2023-04-02T15:13:37.381422Z",
     "iopub.status.idle": "2023-04-02T15:13:37.381622Z",
     "shell.execute_reply": "2023-04-02T15:13:37.381497Z",
     "shell.execute_reply.started": "2023-04-02T15:13:37.381489Z"
    }
   },
   "outputs": [],
   "source": [
    "puppeteer_scene_prompts[3]"
   ]
  },
  {
   "cell_type": "code",
   "execution_count": null,
   "id": "254f9a8c-8c4d-4359-9750-dd1e3bb38da0",
   "metadata": {
    "execution": {
     "iopub.status.busy": "2023-04-02T15:13:37.382598Z",
     "iopub.status.idle": "2023-04-02T15:13:37.382963Z",
     "shell.execute_reply": "2023-04-02T15:13:37.382865Z",
     "shell.execute_reply.started": "2023-04-02T15:13:37.382856Z"
    },
    "tags": []
   },
   "outputs": [],
   "source": [
    "print(next_agent_response)"
   ]
  },
  {
   "cell_type": "code",
   "execution_count": null,
   "id": "92e36a7e-1117-409e-8561-f962ab06a809",
   "metadata": {
    "execution": {
     "iopub.status.busy": "2023-04-02T15:13:37.383506Z",
     "iopub.status.idle": "2023-04-02T15:13:37.383675Z",
     "shell.execute_reply": "2023-04-02T15:13:37.383562Z",
     "shell.execute_reply.started": "2023-04-02T15:13:37.383556Z"
    }
   },
   "outputs": [],
   "source": [
    "print(agent_system)"
   ]
  },
  {
   "cell_type": "code",
   "execution_count": null,
   "id": "38d39172-56e9-4332-8964-71a6283ba0d5",
   "metadata": {
    "execution": {
     "iopub.status.busy": "2023-04-02T15:13:37.384149Z",
     "iopub.status.idle": "2023-04-02T15:13:37.384304Z",
     "shell.execute_reply": "2023-04-02T15:13:37.384217Z",
     "shell.execute_reply.started": "2023-04-02T15:13:37.384210Z"
    },
    "tags": []
   },
   "outputs": [],
   "source": [
    "current_scene = scenes[2]\n",
    "print(current_scene)"
   ]
  }
 ],
 "metadata": {
  "kernelspec": {
   "display_name": "Python 3 (ipykernel)",
   "language": "python",
   "name": "python3"
  },
  "language_info": {
   "codemirror_mode": {
    "name": "ipython",
    "version": 3
   },
   "file_extension": ".py",
   "mimetype": "text/x-python",
   "name": "python",
   "nbconvert_exporter": "python",
   "pygments_lexer": "ipython3",
   "version": "3.9.13"
  }
 },
 "nbformat": 4,
 "nbformat_minor": 5
}
