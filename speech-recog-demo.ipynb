{
 "cells": [
  {
   "cell_type": "markdown",
   "id": "72b9fc60-ed2a-4032-8ac2-d84e8fc640ae",
   "metadata": {},
   "source": [
    "Goal: have a good record until silent method, or have a record until interrupted by button method."
   ]
  },
  {
   "cell_type": "code",
   "execution_count": 1,
   "id": "65a74f5b-a36f-44d7-a54e-719275c40eaf",
   "metadata": {
    "execution": {
     "iopub.execute_input": "2023-04-28T19:46:07.820929Z",
     "iopub.status.busy": "2023-04-28T19:46:07.820653Z",
     "iopub.status.idle": "2023-04-28T19:46:10.071686Z",
     "shell.execute_reply": "2023-04-28T19:46:10.071286Z",
     "shell.execute_reply.started": "2023-04-28T19:46:07.820909Z"
    },
    "tags": []
   },
   "outputs": [],
   "source": [
    "from transcription import listen_pyaudio"
   ]
  },
  {
   "cell_type": "code",
   "execution_count": 2,
   "id": "a98728d5-948f-4f7e-a16e-dd662411a143",
   "metadata": {
    "execution": {
     "iopub.execute_input": "2023-04-28T19:46:10.073093Z",
     "iopub.status.busy": "2023-04-28T19:46:10.072963Z",
     "iopub.status.idle": "2023-04-28T19:46:16.115070Z",
     "shell.execute_reply": "2023-04-28T19:46:16.114697Z",
     "shell.execute_reply.started": "2023-04-28T19:46:10.073084Z"
    },
    "tags": []
   },
   "outputs": [
    {
     "name": "stdout",
     "output_type": "stream",
     "text": [
      "Noise detected, recording beginning\n"
     ]
    },
    {
     "data": {
      "text/plain": [
       "\" I'm concerned.\""
      ]
     },
     "execution_count": 2,
     "metadata": {},
     "output_type": "execute_result"
    }
   ],
   "source": [
    "listen_pyaudio(30)"
   ]
  },
  {
   "cell_type": "markdown",
   "id": "7082d18e-6be0-4993-b235-398c8ed2f123",
   "metadata": {},
   "source": [
    "The problem with this is that the threshold is a constant, so in a noisy room it's gonna go to shit."
   ]
  },
  {
   "cell_type": "code",
   "execution_count": 3,
   "id": "dfdcf0a9-39c9-4a64-89f2-21a435d09ba9",
   "metadata": {
    "execution": {
     "iopub.execute_input": "2023-04-28T19:46:16.115643Z",
     "iopub.status.busy": "2023-04-28T19:46:16.115546Z",
     "iopub.status.idle": "2023-04-28T19:46:16.774044Z",
     "shell.execute_reply": "2023-04-28T19:46:16.772421Z",
     "shell.execute_reply.started": "2023-04-28T19:46:16.115633Z"
    }
   },
   "outputs": [
    {
     "ename": "ZeroDivisionError",
     "evalue": "division by zero",
     "output_type": "error",
     "traceback": [
      "\u001b[0;31m---------------------------------------------------------------------------\u001b[0m",
      "\u001b[0;31mZeroDivisionError\u001b[0m                         Traceback (most recent call last)",
      "Cell \u001b[0;32mIn[3], line 1\u001b[0m\n\u001b[0;32m----> 1\u001b[0m \u001b[38;5;241;43m1\u001b[39;49m\u001b[38;5;241;43m/\u001b[39;49m\u001b[38;5;241;43m0\u001b[39;49m\n",
      "\u001b[0;31mZeroDivisionError\u001b[0m: division by zero"
     ]
    }
   ],
   "source": [
    "1/0"
   ]
  },
  {
   "cell_type": "markdown",
   "id": "91a7abe3-a396-4c49-b269-92170e29169b",
   "metadata": {},
   "source": [
    "## older stuff"
   ]
  },
  {
   "cell_type": "markdown",
   "id": "a2b04dba-3cc8-4a9a-81a9-860cb3b1950d",
   "metadata": {},
   "source": [
    "https://pypi.org/project/SpeechRecognition/\n",
    "\n",
    "https://github.com/Uberi/speech_recognition/blob/master/examples/microphone_recognition.py"
   ]
  },
  {
   "cell_type": "code",
   "execution_count": null,
   "id": "aaf894cf-4f83-49ff-9c2e-830767c4ac7c",
   "metadata": {
    "execution": {
     "iopub.status.busy": "2023-04-28T19:46:16.774533Z",
     "iopub.status.idle": "2023-04-28T19:46:16.774732Z",
     "shell.execute_reply": "2023-04-28T19:46:16.774636Z",
     "shell.execute_reply.started": "2023-04-28T19:46:16.774629Z"
    },
    "tags": []
   },
   "outputs": [],
   "source": [
    "# !pip install SpeechRecognition"
   ]
  },
  {
   "cell_type": "code",
   "execution_count": null,
   "id": "3fd0cc2d-ad1e-4ee9-85c5-bf2c1926de1f",
   "metadata": {
    "execution": {
     "iopub.status.busy": "2023-04-28T19:46:16.775428Z",
     "iopub.status.idle": "2023-04-28T19:46:16.775586Z",
     "shell.execute_reply": "2023-04-28T19:46:16.775515Z",
     "shell.execute_reply.started": "2023-04-28T19:46:16.775509Z"
    },
    "tags": []
   },
   "outputs": [],
   "source": [
    "# !pip install --upgrade SpeechRecognition"
   ]
  },
  {
   "cell_type": "code",
   "execution_count": null,
   "id": "3aee24b2-aee1-45a0-b588-7912cb5a403b",
   "metadata": {
    "execution": {
     "iopub.status.busy": "2023-04-28T19:46:16.776214Z",
     "iopub.status.idle": "2023-04-28T19:46:16.776411Z",
     "shell.execute_reply": "2023-04-28T19:46:16.776293Z",
     "shell.execute_reply.started": "2023-04-28T19:46:16.776287Z"
    },
    "tags": []
   },
   "outputs": [],
   "source": [
    "# !pip install pyaudio"
   ]
  },
  {
   "cell_type": "code",
   "execution_count": null,
   "id": "c07a5b5e-4d1b-44f8-aca5-74031e0c093c",
   "metadata": {
    "execution": {
     "iopub.status.busy": "2023-04-28T19:46:16.777127Z",
     "iopub.status.idle": "2023-04-28T19:46:16.777428Z",
     "shell.execute_reply": "2023-04-28T19:46:16.777327Z",
     "shell.execute_reply.started": "2023-04-28T19:46:16.777316Z"
    },
    "tags": []
   },
   "outputs": [],
   "source": [
    "# !pip install openai"
   ]
  },
  {
   "cell_type": "code",
   "execution_count": null,
   "id": "86440231-fd8e-4001-b486-407fa348733f",
   "metadata": {
    "execution": {
     "iopub.status.busy": "2023-04-28T19:46:16.778033Z",
     "iopub.status.idle": "2023-04-28T19:46:16.778198Z",
     "shell.execute_reply": "2023-04-28T19:46:16.778109Z",
     "shell.execute_reply.started": "2023-04-28T19:46:16.778103Z"
    },
    "tags": []
   },
   "outputs": [],
   "source": [
    "# !pip install soundfile"
   ]
  },
  {
   "cell_type": "code",
   "execution_count": null,
   "id": "b5e06400-a246-48ef-b1dd-570bed4b12fb",
   "metadata": {
    "execution": {
     "iopub.status.busy": "2023-04-28T19:46:16.778771Z",
     "iopub.status.idle": "2023-04-28T19:46:16.778929Z",
     "shell.execute_reply": "2023-04-28T19:46:16.778857Z",
     "shell.execute_reply.started": "2023-04-28T19:46:16.778851Z"
    },
    "tags": []
   },
   "outputs": [],
   "source": [
    "import json\n",
    "with open('openai-keys.json') as f:\n",
    "    openai = json.loads(f.read())\n",
    "    OPENAI_API_KEY=openai['key']"
   ]
  },
  {
   "cell_type": "code",
   "execution_count": null,
   "id": "ed890247-403f-4781-aac3-b92e43951362",
   "metadata": {
    "execution": {
     "iopub.status.busy": "2023-04-28T19:46:16.779741Z",
     "iopub.status.idle": "2023-04-28T19:46:16.779925Z",
     "shell.execute_reply": "2023-04-28T19:46:16.779813Z",
     "shell.execute_reply.started": "2023-04-28T19:46:16.779808Z"
    },
    "tags": []
   },
   "outputs": [],
   "source": [
    "# !pip3 install --upgrade requests"
   ]
  },
  {
   "cell_type": "code",
   "execution_count": null,
   "id": "cd2908e0-0d6e-49eb-b563-b5683aba0794",
   "metadata": {
    "execution": {
     "iopub.status.busy": "2023-04-28T19:46:16.780444Z",
     "iopub.status.idle": "2023-04-28T19:46:16.780789Z",
     "shell.execute_reply": "2023-04-28T19:46:16.780708Z",
     "shell.execute_reply.started": "2023-04-28T19:46:16.780698Z"
    },
    "tags": []
   },
   "outputs": [],
   "source": [
    "# !conda uninstall --force cffi -y"
   ]
  },
  {
   "cell_type": "code",
   "execution_count": null,
   "id": "3279e841-62cd-461c-9dc9-a5e4f24626b5",
   "metadata": {
    "execution": {
     "iopub.status.busy": "2023-04-28T19:46:16.781262Z",
     "iopub.status.idle": "2023-04-28T19:46:16.781628Z",
     "shell.execute_reply": "2023-04-28T19:46:16.781524Z",
     "shell.execute_reply.started": "2023-04-28T19:46:16.781515Z"
    },
    "tags": []
   },
   "outputs": [],
   "source": [
    "# !pip install cffi"
   ]
  },
  {
   "cell_type": "code",
   "execution_count": null,
   "id": "b84edc72-61ed-42c3-aba0-629460bc8dfe",
   "metadata": {
    "execution": {
     "iopub.status.busy": "2023-04-28T19:46:16.782185Z",
     "iopub.status.idle": "2023-04-28T19:46:16.782333Z",
     "shell.execute_reply": "2023-04-28T19:46:16.782242Z",
     "shell.execute_reply.started": "2023-04-28T19:46:16.782237Z"
    },
    "tags": []
   },
   "outputs": [],
   "source": [
    "import whisper"
   ]
  },
  {
   "cell_type": "code",
   "execution_count": null,
   "id": "d6485a92-95dd-463c-a8f9-4482ccf45dab",
   "metadata": {
    "execution": {
     "iopub.status.busy": "2023-04-28T19:46:16.783086Z",
     "iopub.status.idle": "2023-04-28T19:46:16.783217Z",
     "shell.execute_reply": "2023-04-28T19:46:16.783151Z",
     "shell.execute_reply.started": "2023-04-28T19:46:16.783146Z"
    },
    "tags": []
   },
   "outputs": [],
   "source": [
    "from openai_utils import query_openai\n",
    "import speech_recognition as sr\n",
    "model = whisper.load_model(\"small.en\")"
   ]
  },
  {
   "cell_type": "code",
   "execution_count": null,
   "id": "996432cd-f148-485f-bb26-6f901a870938",
   "metadata": {
    "execution": {
     "iopub.status.busy": "2023-04-28T19:46:16.784004Z",
     "iopub.status.idle": "2023-04-28T19:46:16.784238Z",
     "shell.execute_reply": "2023-04-28T19:46:16.784157Z",
     "shell.execute_reply.started": "2023-04-28T19:46:16.784151Z"
    },
    "tags": []
   },
   "outputs": [],
   "source": [
    "PROMPT = '''friendly, no-nonsense, charming dragon who wants to help the human find a good home'''\n",
    "\n",
    "r = sr.Recognizer()\n",
    "!say -v Kate \"Hello, human, what's your name?\"\n",
    "with sr.Microphone() as source:\n",
    "    print(\"Say something!\")\n",
    "    r.adjust_for_ambient_noise(source)\n",
    "    !afplay /System/Library/Sounds/Blow.aiff\n",
    "    audio = r.listen(source, timeout=5, phrase_time_limit=3)\n",
    "    !afplay /System/Library/Sounds/Bottle.aiff\n",
    "with open('temp.wav', 'wb') as f:\n",
    "    f.write(audio.get_wav_data())\n",
    "name = model.transcribe(\"temp.wav\", fp16=False)['text']\n",
    "if len(name.strip()) == 0:\n",
    "    !say -v Kate \"I didn't catch that. I'll call you Human, because I'm very creative.\"\n",
    "    name = \"Human\"\n",
    "with open('temp.wav', 'wb') as f:\n",
    "        f.write(audio.get_wav_data())\n",
    "\n",
    "conversation = [f\"So tell me, {name}, let's talk about what you'd like to cook.\"]\n",
    "print(conversation[-1])\n",
    "!say -v Kate \"{conversation[0]}\"\n",
    "for i in range(5):\n",
    "    with sr.Microphone() as source:\n",
    "        r.adjust_for_ambient_noise(source)\n",
    "        !afplay /System/Library/Sounds/Blow.aiff\n",
    "        audio = r.listen(source, timeout=8, phrase_time_limit=8)\n",
    "        !afplay /System/Library/Sounds/Bottle.aiff\n",
    "    with open('temp.wav', 'wb') as f:\n",
    "            f.write(audio.get_wav_data())\n",
    "    result = model.transcribe(\"temp.wav\", fp16=False)['text']\n",
    "    if len(result.strip()) == 0:\n",
    "        result = \"(the human says nothing)\"\n",
    "    conversation.append(name.upper() + ': ' + result)\n",
    "    print(conversation[-1])\n",
    "    response = query_openai('\\n'.join(conversation), f'''You are Lexi, a {PROMPT}. Only respond with one line of dialogue and what you say! Do not respond for the human!''', model='gpt-3.5-turbo')\n",
    "    print(response)\n",
    "    !say -v Kate \"{response}\"\n",
    "    conversation.append(response)\n",
    "    \n",
    "!say -v Kate \"That's it for today. Have a nice one.\""
   ]
  },
  {
   "cell_type": "code",
   "execution_count": null,
   "id": "45b82239-9b50-4a17-92fb-220d50e83c43",
   "metadata": {
    "execution": {
     "iopub.status.busy": "2023-04-28T19:46:16.784980Z",
     "iopub.status.idle": "2023-04-28T19:46:16.785138Z",
     "shell.execute_reply": "2023-04-28T19:46:16.785044Z",
     "shell.execute_reply.started": "2023-04-28T19:46:16.785038Z"
    },
    "tags": []
   },
   "outputs": [],
   "source": [
    "from transcription import listen\n",
    "listen(60)"
   ]
  },
  {
   "cell_type": "code",
   "execution_count": null,
   "id": "f468f4ed-1275-4bda-b35e-b2767ec732b0",
   "metadata": {
    "execution": {
     "iopub.status.busy": "2023-04-28T19:46:16.785894Z",
     "iopub.status.idle": "2023-04-28T19:46:16.786017Z",
     "shell.execute_reply": "2023-04-28T19:46:16.785951Z",
     "shell.execute_reply.started": "2023-04-28T19:46:16.785946Z"
    }
   },
   "outputs": [],
   "source": [
    "listen(60)"
   ]
  },
  {
   "cell_type": "code",
   "execution_count": null,
   "id": "1c8335c3-93d4-4432-a174-979c25e43a66",
   "metadata": {
    "execution": {
     "iopub.status.busy": "2023-04-28T19:46:16.786670Z",
     "iopub.status.idle": "2023-04-28T19:46:16.786850Z",
     "shell.execute_reply": "2023-04-28T19:46:16.786768Z",
     "shell.execute_reply.started": "2023-04-28T19:46:16.786759Z"
    }
   },
   "outputs": [],
   "source": [
    "listen(60)"
   ]
  },
  {
   "cell_type": "code",
   "execution_count": null,
   "id": "f354e90b-b048-4f52-b7d7-74b2e5482257",
   "metadata": {
    "execution": {
     "iopub.status.busy": "2023-04-28T19:46:16.787540Z",
     "iopub.status.idle": "2023-04-28T19:46:16.787799Z",
     "shell.execute_reply": "2023-04-28T19:46:16.787738Z",
     "shell.execute_reply.started": "2023-04-28T19:46:16.787733Z"
    }
   },
   "outputs": [],
   "source": [
    "listen(60)"
   ]
  },
  {
   "cell_type": "code",
   "execution_count": null,
   "id": "8f539a7a-2074-48b4-81bc-00ac39e0a1f8",
   "metadata": {},
   "outputs": [],
   "source": []
  }
 ],
 "metadata": {
  "kernelspec": {
   "display_name": "Python 3 (ipykernel)",
   "language": "python",
   "name": "python3"
  },
  "language_info": {
   "codemirror_mode": {
    "name": "ipython",
    "version": 3
   },
   "file_extension": ".py",
   "mimetype": "text/x-python",
   "name": "python",
   "nbconvert_exporter": "python",
   "pygments_lexer": "ipython3",
   "version": "3.9.13"
  }
 },
 "nbformat": 4,
 "nbformat_minor": 5
}
