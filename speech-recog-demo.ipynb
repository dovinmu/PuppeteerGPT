{
 "cells": [
  {
   "cell_type": "markdown",
   "id": "a2b04dba-3cc8-4a9a-81a9-860cb3b1950d",
   "metadata": {},
   "source": [
    "https://pypi.org/project/SpeechRecognition/\n",
    "\n",
    "https://github.com/Uberi/speech_recognition/blob/master/examples/microphone_recognition.py"
   ]
  },
  {
   "cell_type": "code",
   "execution_count": 1,
   "id": "aaf894cf-4f83-49ff-9c2e-830767c4ac7c",
   "metadata": {
    "execution": {
     "iopub.execute_input": "2023-04-19T19:41:06.009966Z",
     "iopub.status.busy": "2023-04-19T19:41:06.009309Z",
     "iopub.status.idle": "2023-04-19T19:41:06.015083Z",
     "shell.execute_reply": "2023-04-19T19:41:06.014597Z",
     "shell.execute_reply.started": "2023-04-19T19:41:06.009890Z"
    },
    "tags": []
   },
   "outputs": [],
   "source": [
    "# !pip install SpeechRecognition"
   ]
  },
  {
   "cell_type": "code",
   "execution_count": 2,
   "id": "3fd0cc2d-ad1e-4ee9-85c5-bf2c1926de1f",
   "metadata": {
    "execution": {
     "iopub.execute_input": "2023-04-19T19:41:06.016463Z",
     "iopub.status.busy": "2023-04-19T19:41:06.016241Z",
     "iopub.status.idle": "2023-04-19T19:41:06.019008Z",
     "shell.execute_reply": "2023-04-19T19:41:06.018469Z",
     "shell.execute_reply.started": "2023-04-19T19:41:06.016443Z"
    },
    "tags": []
   },
   "outputs": [],
   "source": [
    "# !pip install --upgrade SpeechRecognition"
   ]
  },
  {
   "cell_type": "code",
   "execution_count": 3,
   "id": "3aee24b2-aee1-45a0-b588-7912cb5a403b",
   "metadata": {
    "execution": {
     "iopub.execute_input": "2023-04-19T19:41:06.021718Z",
     "iopub.status.busy": "2023-04-19T19:41:06.021290Z",
     "iopub.status.idle": "2023-04-19T19:41:06.024912Z",
     "shell.execute_reply": "2023-04-19T19:41:06.024508Z",
     "shell.execute_reply.started": "2023-04-19T19:41:06.021697Z"
    },
    "tags": []
   },
   "outputs": [],
   "source": [
    "# !pip install pyaudio"
   ]
  },
  {
   "cell_type": "code",
   "execution_count": 4,
   "id": "c07a5b5e-4d1b-44f8-aca5-74031e0c093c",
   "metadata": {
    "execution": {
     "iopub.execute_input": "2023-04-19T19:41:06.025727Z",
     "iopub.status.busy": "2023-04-19T19:41:06.025625Z",
     "iopub.status.idle": "2023-04-19T19:41:06.028002Z",
     "shell.execute_reply": "2023-04-19T19:41:06.027526Z",
     "shell.execute_reply.started": "2023-04-19T19:41:06.025715Z"
    },
    "tags": []
   },
   "outputs": [],
   "source": [
    "# !pip install openai"
   ]
  },
  {
   "cell_type": "code",
   "execution_count": 5,
   "id": "86440231-fd8e-4001-b486-407fa348733f",
   "metadata": {
    "execution": {
     "iopub.execute_input": "2023-04-19T19:41:06.028966Z",
     "iopub.status.busy": "2023-04-19T19:41:06.028865Z",
     "iopub.status.idle": "2023-04-19T19:41:06.031890Z",
     "shell.execute_reply": "2023-04-19T19:41:06.031040Z",
     "shell.execute_reply.started": "2023-04-19T19:41:06.028953Z"
    },
    "tags": []
   },
   "outputs": [],
   "source": [
    "# !pip install soundfile"
   ]
  },
  {
   "cell_type": "code",
   "execution_count": 6,
   "id": "b5e06400-a246-48ef-b1dd-570bed4b12fb",
   "metadata": {
    "execution": {
     "iopub.execute_input": "2023-04-19T19:41:06.032826Z",
     "iopub.status.busy": "2023-04-19T19:41:06.032732Z",
     "iopub.status.idle": "2023-04-19T19:41:06.038416Z",
     "shell.execute_reply": "2023-04-19T19:41:06.038018Z",
     "shell.execute_reply.started": "2023-04-19T19:41:06.032816Z"
    },
    "tags": []
   },
   "outputs": [],
   "source": [
    "import json\n",
    "with open('openai-keys.json') as f:\n",
    "    openai = json.loads(f.read())\n",
    "    OPENAI_API_KEY=openai['key']"
   ]
  },
  {
   "cell_type": "code",
   "execution_count": 7,
   "id": "ed890247-403f-4781-aac3-b92e43951362",
   "metadata": {
    "execution": {
     "iopub.execute_input": "2023-04-19T19:41:06.039534Z",
     "iopub.status.busy": "2023-04-19T19:41:06.039446Z",
     "iopub.status.idle": "2023-04-19T19:41:06.042529Z",
     "shell.execute_reply": "2023-04-19T19:41:06.042152Z",
     "shell.execute_reply.started": "2023-04-19T19:41:06.039522Z"
    },
    "tags": []
   },
   "outputs": [],
   "source": [
    "# !pip3 install --upgrade requests"
   ]
  },
  {
   "cell_type": "code",
   "execution_count": 8,
   "id": "cd2908e0-0d6e-49eb-b563-b5683aba0794",
   "metadata": {
    "execution": {
     "iopub.execute_input": "2023-04-19T19:41:06.043475Z",
     "iopub.status.busy": "2023-04-19T19:41:06.043304Z",
     "iopub.status.idle": "2023-04-19T19:41:09.449170Z",
     "shell.execute_reply": "2023-04-19T19:41:09.448630Z",
     "shell.execute_reply.started": "2023-04-19T19:41:06.043459Z"
    },
    "tags": []
   },
   "outputs": [
    {
     "name": "stdout",
     "output_type": "stream",
     "text": [
      "\n",
      "\n",
      "==> WARNING: A newer version of conda exists. <==\n",
      "  current version: 22.9.0\n",
      "  latest version: 23.3.1\n",
      "\n",
      "Please update conda by running\n",
      "\n",
      "    $ conda update -n base -c defaults conda\n",
      "\n",
      "\n",
      "\n",
      "PackagesNotFoundError: The following packages are missing from the target environment:\n",
      "  - cffi\n",
      "\n",
      "\n"
     ]
    }
   ],
   "source": [
    "# !conda uninstall --force cffi -y"
   ]
  },
  {
   "cell_type": "code",
   "execution_count": 9,
   "id": "3279e841-62cd-461c-9dc9-a5e4f24626b5",
   "metadata": {
    "execution": {
     "iopub.execute_input": "2023-04-19T19:41:09.450162Z",
     "iopub.status.busy": "2023-04-19T19:41:09.450022Z",
     "iopub.status.idle": "2023-04-19T19:41:11.278106Z",
     "shell.execute_reply": "2023-04-19T19:41:11.277573Z",
     "shell.execute_reply.started": "2023-04-19T19:41:09.450143Z"
    },
    "tags": []
   },
   "outputs": [
    {
     "name": "stdout",
     "output_type": "stream",
     "text": [
      "Requirement already satisfied: cffi in /Users/rowan/anaconda3/lib/python3.9/site-packages (1.15.1)\n",
      "Requirement already satisfied: pycparser in /Users/rowan/anaconda3/lib/python3.9/site-packages (from cffi) (2.21)\n"
     ]
    }
   ],
   "source": [
    "# !pip install cffi"
   ]
  },
  {
   "cell_type": "code",
   "execution_count": 14,
   "id": "b84edc72-61ed-42c3-aba0-629460bc8dfe",
   "metadata": {
    "execution": {
     "iopub.execute_input": "2023-04-19T19:42:12.767239Z",
     "iopub.status.busy": "2023-04-19T19:42:12.766941Z",
     "iopub.status.idle": "2023-04-19T19:42:13.291765Z",
     "shell.execute_reply": "2023-04-19T19:42:13.291409Z",
     "shell.execute_reply.started": "2023-04-19T19:42:12.767216Z"
    },
    "tags": []
   },
   "outputs": [],
   "source": [
    "import whisper"
   ]
  },
  {
   "cell_type": "code",
   "execution_count": 21,
   "id": "d6485a92-95dd-463c-a8f9-4482ccf45dab",
   "metadata": {
    "execution": {
     "iopub.execute_input": "2023-04-19T21:56:24.797468Z",
     "iopub.status.busy": "2023-04-19T21:56:24.796638Z",
     "iopub.status.idle": "2023-04-19T21:56:27.219144Z",
     "shell.execute_reply": "2023-04-19T21:56:27.217084Z",
     "shell.execute_reply.started": "2023-04-19T21:56:24.797400Z"
    },
    "tags": []
   },
   "outputs": [],
   "source": [
    "from openai_utils import query_openai\n",
    "import speech_recognition as sr\n",
    "model = whisper.load_model(\"small.en\")"
   ]
  },
  {
   "cell_type": "code",
   "execution_count": 20,
   "id": "996432cd-f148-485f-bb26-6f901a870938",
   "metadata": {
    "execution": {
     "iopub.execute_input": "2023-04-19T20:16:32.710003Z",
     "iopub.status.busy": "2023-04-19T20:16:32.709646Z",
     "iopub.status.idle": "2023-04-19T20:18:49.182224Z",
     "shell.execute_reply": "2023-04-19T20:18:49.181086Z",
     "shell.execute_reply.started": "2023-04-19T20:16:32.709976Z"
    },
    "tags": []
   },
   "outputs": [
    {
     "name": "stdout",
     "output_type": "stream",
     "text": [
      "Say something!\n",
      "So tell me,  Rowan Copley, let's talk about what you'd like to cook.\n",
      " ROWAN COPLEY:  Well, I think I'm interested in cooking some nice cakes. That sounds good.\n",
      "\"Perfect, let me take you to the neighboring village where you can find some of the best bakers who can teach you their techniques.\"\n",
      " ROWAN COPLEY:  Okay, let's pretend that we're in the village right now. What do we see and what are we learning? We didn't sign this.\n",
      "\"Understood, Rowan. Well, we see the bakers using various types of flours, baking equipment, and techniques to create unique and delicious cakes. We can learn from them by asking questions and observing their methods closely.\"\n",
      " ROWAN COPLEY:  Let's say that we wanted to cook a vegan and gluten-free cake, but that we didn't want to use gluten-free flour. We probably wanted to use gluten-free flour.\n",
      "\"Actually, Rowan, if you want to make a vegan and gluten-free cake, it's important to use gluten-free flour. Coconut flour, rice flour, or almond flour are all great options. We can also experiment with vegan substitutes for eggs and dairy products.\"\n",
      "zsh:1: unmatched '\n",
      " ROWAN COPLEY:  On a screen. You can totally do that.\n",
      "\"Absolutely, Rowan. With some practice and experimentation, you can make a delicious vegan and gluten-free cake that will impress everyone!\"\n",
      " ROWAN COPLEY:  Sweet. That's cool. Let's get a recipe. Can you recite a recipe for me? I would like to know how to make this cake so that I can make it.\n",
      "\"Of course, Rowan. Let me share a recipe with you that I've found to be quite delicious. It's for a vegan and gluten-free chocolate cake made with almond flour.\"\n"
     ]
    }
   ],
   "source": [
    "PROMPT = '''friendly, no-nonsense, charming dragon who wants to help the human find a good home'''\n",
    "\n",
    "r = sr.Recognizer()\n",
    "!say -v Kate \"Hello, human, what's your name?\"\n",
    "with sr.Microphone() as source:\n",
    "    print(\"Say something!\")\n",
    "    r.adjust_for_ambient_noise(source)\n",
    "    !afplay /System/Library/Sounds/Blow.aiff\n",
    "    audio = r.listen(source, timeout=5, phrase_time_limit=3)\n",
    "    !afplay /System/Library/Sounds/Bottle.aiff\n",
    "with open('temp.wav', 'wb') as f:\n",
    "    f.write(audio.get_wav_data())\n",
    "name = model.transcribe(\"temp.wav\", fp16=False)['text']\n",
    "if len(name.strip()) == 0:\n",
    "    !say -v Kate \"I didn't catch that. I'll call you Human, because I'm very creative.\"\n",
    "    name = \"Human\"\n",
    "with open('temp.wav', 'wb') as f:\n",
    "        f.write(audio.get_wav_data())\n",
    "\n",
    "conversation = [f\"So tell me, {name}, let's talk about what you'd like to cook.\"]\n",
    "print(conversation[-1])\n",
    "!say -v Kate \"{conversation[0]}\"\n",
    "for i in range(5):\n",
    "    with sr.Microphone() as source:\n",
    "        r.adjust_for_ambient_noise(source)\n",
    "        !afplay /System/Library/Sounds/Blow.aiff\n",
    "        audio = r.listen(source, timeout=8, phrase_time_limit=8)\n",
    "        !afplay /System/Library/Sounds/Bottle.aiff\n",
    "    with open('temp.wav', 'wb') as f:\n",
    "            f.write(audio.get_wav_data())\n",
    "    result = model.transcribe(\"temp.wav\", fp16=False)['text']\n",
    "    if len(result.strip()) == 0:\n",
    "        result = \"(the human says nothing)\"\n",
    "    conversation.append(name.upper() + ': ' + result)\n",
    "    print(conversation[-1])\n",
    "    response = query_openai('\\n'.join(conversation), f'''You are Lexi, a {PROMPT}. Only respond with one line of dialogue and what you say! Do not respond for the human!''', model='gpt-3.5-turbo')\n",
    "    print(response)\n",
    "    !say -v Kate \"{response}\"\n",
    "    conversation.append(response)\n",
    "    \n",
    "!say -v Kate \"That's it for today. Have a nice one.\""
   ]
  },
  {
   "cell_type": "code",
   "execution_count": 23,
   "id": "45b82239-9b50-4a17-92fb-220d50e83c43",
   "metadata": {
    "execution": {
     "iopub.execute_input": "2023-04-20T04:01:45.449643Z",
     "iopub.status.busy": "2023-04-20T04:01:45.447713Z",
     "iopub.status.idle": "2023-04-20T04:03:11.582161Z",
     "shell.execute_reply": "2023-04-20T04:03:11.581843Z",
     "shell.execute_reply.started": "2023-04-20T04:01:45.449395Z"
    },
    "tags": []
   },
   "outputs": [
    {
     "data": {
      "text/plain": [
       "\" Sonoma, Sonoma, Sonoma, Sonoma, Sonoma, Sonoma, Sonoma. Oh, yes. Oh wait, is that my new LinkedIn picture? Scroll up. Were you in Sedona, not Sonoma? Yeah, we were in Sedona first. Um, we need to be looking at these close up. I know, but I'm going back to Sonoma, man. No, I think you were in Sedona. This is Sedona. Okay, fine. Find it, find where we are then. Very well. Alright. So, I think we had ended in Flagstaff. I remember showing this picture to Dad, and then here's Griffin in the bed, right? So I guess this... Right, so we should be going this way, right? Is this going forward in time? Yeah, we're going up. So I guess this is the next one. Any thoughts? Alright. Sedona. This is the...\""
      ]
     },
     "execution_count": 23,
     "metadata": {},
     "output_type": "execute_result"
    }
   ],
   "source": [
    "from transcription import listen\n",
    "listen(60)"
   ]
  },
  {
   "cell_type": "code",
   "execution_count": 24,
   "id": "f468f4ed-1275-4bda-b35e-b2767ec732b0",
   "metadata": {
    "execution": {
     "iopub.execute_input": "2023-04-20T04:03:42.537990Z",
     "iopub.status.busy": "2023-04-20T04:03:42.537615Z",
     "iopub.status.idle": "2023-04-20T04:03:53.396957Z",
     "shell.execute_reply": "2023-04-20T04:03:53.396613Z",
     "shell.execute_reply.started": "2023-04-20T04:03:42.537939Z"
    }
   },
   "outputs": [
    {
     "data": {
      "text/plain": [
       "' I loved all these what do you call these striations?'"
      ]
     },
     "execution_count": 24,
     "metadata": {},
     "output_type": "execute_result"
    }
   ],
   "source": [
    "listen(60)"
   ]
  },
  {
   "cell_type": "code",
   "execution_count": 25,
   "id": "1c8335c3-93d4-4432-a174-979c25e43a66",
   "metadata": {
    "execution": {
     "iopub.execute_input": "2023-04-20T04:03:58.778397Z",
     "iopub.status.busy": "2023-04-20T04:03:58.777873Z",
     "iopub.status.idle": "2023-04-20T04:04:05.078060Z",
     "shell.execute_reply": "2023-04-20T04:04:05.077756Z",
     "shell.execute_reply.started": "2023-04-20T04:03:58.778360Z"
    }
   },
   "outputs": [
    {
     "data": {
      "text/plain": [
       "' as far as we got.'"
      ]
     },
     "execution_count": 25,
     "metadata": {},
     "output_type": "execute_result"
    }
   ],
   "source": [
    "listen(60)"
   ]
  },
  {
   "cell_type": "code",
   "execution_count": 26,
   "id": "f354e90b-b048-4f52-b7d7-74b2e5482257",
   "metadata": {
    "execution": {
     "iopub.execute_input": "2023-04-20T04:04:50.796753Z",
     "iopub.status.busy": "2023-04-20T04:04:50.796418Z",
     "iopub.status.idle": "2023-04-20T04:05:15.128035Z",
     "shell.execute_reply": "2023-04-20T04:05:15.127723Z",
     "shell.execute_reply.started": "2023-04-20T04:04:50.796724Z"
    }
   },
   "outputs": [
    {
     "data": {
      "text/plain": [
       "' Their display case. Wow. Yeah. I was pretty excited about sweet snow Buddha. That was it That was the one I wanted to buy so I took a close-up of they were little Buddhas. They were so cute Yeah, but they have xylitol in them'"
      ]
     },
     "execution_count": 26,
     "metadata": {},
     "output_type": "execute_result"
    }
   ],
   "source": [
    "listen(60)"
   ]
  },
  {
   "cell_type": "code",
   "execution_count": null,
   "id": "8f539a7a-2074-48b4-81bc-00ac39e0a1f8",
   "metadata": {},
   "outputs": [],
   "source": []
  }
 ],
 "metadata": {
  "kernelspec": {
   "display_name": "Python 3 (ipykernel)",
   "language": "python",
   "name": "python3"
  },
  "language_info": {
   "codemirror_mode": {
    "name": "ipython",
    "version": 3
   },
   "file_extension": ".py",
   "mimetype": "text/x-python",
   "name": "python",
   "nbconvert_exporter": "python",
   "pygments_lexer": "ipython3",
   "version": "3.9.13"
  }
 },
 "nbformat": 4,
 "nbformat_minor": 5
}
